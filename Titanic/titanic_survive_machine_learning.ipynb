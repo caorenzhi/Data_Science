{
 "cells": [
  {
   "cell_type": "code",
   "execution_count": 256,
   "metadata": {
    "collapsed": true
   },
   "outputs": [],
   "source": [
    "import numpy as np\n",
    "import pandas as pd\n",
    "from scipy.stats import ttest_ind\n",
    "import matplotlib.pyplot as plt\n",
    "from matplotlib import pyplot\n",
    "import matplotlib as mpl\n",
    "import re\n",
    "from collections import Counter\n",
    "from nltk.tag import pos_tag\n",
    "import nltk\n",
    "\n",
    "%matplotlib inline"
   ]
  },
  {
   "cell_type": "code",
   "execution_count": 415,
   "metadata": {
    "collapsed": true
   },
   "outputs": [],
   "source": [
    "df_train = pd.read_csv('train.csv')\n",
    "df_test = pd.read_csv('test.csv')\n",
    "df_y_test = pd.read_csv('gender_submission.csv')\n",
    "df_test['Survived'] = 3"
   ]
  },
  {
   "cell_type": "code",
   "execution_count": 258,
   "metadata": {
    "collapsed": true
   },
   "outputs": [],
   "source": [
    "df = pd.concat([df_train,df_test], axis=0)\n",
    "df = df.reset_index()"
   ]
  },
  {
   "cell_type": "code",
   "execution_count": 259,
   "metadata": {
    "collapsed": false
   },
   "outputs": [
    {
     "name": "stdout",
     "output_type": "stream",
     "text": [
      "891\n"
     ]
    },
    {
     "data": {
      "text/html": [
       "<div>\n",
       "<table border=\"1\" class=\"dataframe\">\n",
       "  <thead>\n",
       "    <tr style=\"text-align: right;\">\n",
       "      <th></th>\n",
       "      <th>PassengerId</th>\n",
       "      <th>Survived</th>\n",
       "      <th>Pclass</th>\n",
       "      <th>Name</th>\n",
       "      <th>Sex</th>\n",
       "      <th>Age</th>\n",
       "      <th>SibSp</th>\n",
       "      <th>Parch</th>\n",
       "      <th>Ticket</th>\n",
       "      <th>Fare</th>\n",
       "      <th>Cabin</th>\n",
       "      <th>Embarked</th>\n",
       "    </tr>\n",
       "  </thead>\n",
       "  <tbody>\n",
       "    <tr>\n",
       "      <th>0</th>\n",
       "      <td>1</td>\n",
       "      <td>0</td>\n",
       "      <td>3</td>\n",
       "      <td>Braund, Mr. Owen Harris</td>\n",
       "      <td>male</td>\n",
       "      <td>22.0</td>\n",
       "      <td>1</td>\n",
       "      <td>0</td>\n",
       "      <td>A/5 21171</td>\n",
       "      <td>7.2500</td>\n",
       "      <td>NaN</td>\n",
       "      <td>S</td>\n",
       "    </tr>\n",
       "    <tr>\n",
       "      <th>1</th>\n",
       "      <td>2</td>\n",
       "      <td>1</td>\n",
       "      <td>1</td>\n",
       "      <td>Cumings, Mrs. John Bradley (Florence Briggs Th...</td>\n",
       "      <td>female</td>\n",
       "      <td>38.0</td>\n",
       "      <td>1</td>\n",
       "      <td>0</td>\n",
       "      <td>PC 17599</td>\n",
       "      <td>71.2833</td>\n",
       "      <td>C85</td>\n",
       "      <td>C</td>\n",
       "    </tr>\n",
       "    <tr>\n",
       "      <th>2</th>\n",
       "      <td>3</td>\n",
       "      <td>1</td>\n",
       "      <td>3</td>\n",
       "      <td>Heikkinen, Miss. Laina</td>\n",
       "      <td>female</td>\n",
       "      <td>26.0</td>\n",
       "      <td>0</td>\n",
       "      <td>0</td>\n",
       "      <td>STON/O2. 3101282</td>\n",
       "      <td>7.9250</td>\n",
       "      <td>NaN</td>\n",
       "      <td>S</td>\n",
       "    </tr>\n",
       "    <tr>\n",
       "      <th>3</th>\n",
       "      <td>4</td>\n",
       "      <td>1</td>\n",
       "      <td>1</td>\n",
       "      <td>Futrelle, Mrs. Jacques Heath (Lily May Peel)</td>\n",
       "      <td>female</td>\n",
       "      <td>35.0</td>\n",
       "      <td>1</td>\n",
       "      <td>0</td>\n",
       "      <td>113803</td>\n",
       "      <td>53.1000</td>\n",
       "      <td>C123</td>\n",
       "      <td>S</td>\n",
       "    </tr>\n",
       "    <tr>\n",
       "      <th>4</th>\n",
       "      <td>5</td>\n",
       "      <td>0</td>\n",
       "      <td>3</td>\n",
       "      <td>Allen, Mr. William Henry</td>\n",
       "      <td>male</td>\n",
       "      <td>35.0</td>\n",
       "      <td>0</td>\n",
       "      <td>0</td>\n",
       "      <td>373450</td>\n",
       "      <td>8.0500</td>\n",
       "      <td>NaN</td>\n",
       "      <td>S</td>\n",
       "    </tr>\n",
       "  </tbody>\n",
       "</table>\n",
       "</div>"
      ],
      "text/plain": [
       "   PassengerId  Survived  Pclass  \\\n",
       "0            1         0       3   \n",
       "1            2         1       1   \n",
       "2            3         1       3   \n",
       "3            4         1       1   \n",
       "4            5         0       3   \n",
       "\n",
       "                                                Name     Sex   Age  SibSp  \\\n",
       "0                            Braund, Mr. Owen Harris    male  22.0      1   \n",
       "1  Cumings, Mrs. John Bradley (Florence Briggs Th...  female  38.0      1   \n",
       "2                             Heikkinen, Miss. Laina  female  26.0      0   \n",
       "3       Futrelle, Mrs. Jacques Heath (Lily May Peel)  female  35.0      1   \n",
       "4                           Allen, Mr. William Henry    male  35.0      0   \n",
       "\n",
       "   Parch            Ticket     Fare Cabin Embarked  \n",
       "0      0         A/5 21171   7.2500   NaN        S  \n",
       "1      0          PC 17599  71.2833   C85        C  \n",
       "2      0  STON/O2. 3101282   7.9250   NaN        S  \n",
       "3      0            113803  53.1000  C123        S  \n",
       "4      0            373450   8.0500   NaN        S  "
      ]
     },
     "execution_count": 259,
     "metadata": {},
     "output_type": "execute_result"
    }
   ],
   "source": [
    "print (len(df_train))\n",
    "df_train.head()"
   ]
  },
  {
   "cell_type": "code",
   "execution_count": 260,
   "metadata": {
    "collapsed": false
   },
   "outputs": [
    {
     "name": "stdout",
     "output_type": "stream",
     "text": [
      "418\n"
     ]
    },
    {
     "data": {
      "text/html": [
       "<div>\n",
       "<table border=\"1\" class=\"dataframe\">\n",
       "  <thead>\n",
       "    <tr style=\"text-align: right;\">\n",
       "      <th></th>\n",
       "      <th>PassengerId</th>\n",
       "      <th>Pclass</th>\n",
       "      <th>Name</th>\n",
       "      <th>Sex</th>\n",
       "      <th>Age</th>\n",
       "      <th>SibSp</th>\n",
       "      <th>Parch</th>\n",
       "      <th>Ticket</th>\n",
       "      <th>Fare</th>\n",
       "      <th>Cabin</th>\n",
       "      <th>Embarked</th>\n",
       "      <th>Survived</th>\n",
       "    </tr>\n",
       "  </thead>\n",
       "  <tbody>\n",
       "    <tr>\n",
       "      <th>0</th>\n",
       "      <td>892</td>\n",
       "      <td>3</td>\n",
       "      <td>Kelly, Mr. James</td>\n",
       "      <td>male</td>\n",
       "      <td>34.5</td>\n",
       "      <td>0</td>\n",
       "      <td>0</td>\n",
       "      <td>330911</td>\n",
       "      <td>7.8292</td>\n",
       "      <td>NaN</td>\n",
       "      <td>Q</td>\n",
       "      <td>3</td>\n",
       "    </tr>\n",
       "    <tr>\n",
       "      <th>1</th>\n",
       "      <td>893</td>\n",
       "      <td>3</td>\n",
       "      <td>Wilkes, Mrs. James (Ellen Needs)</td>\n",
       "      <td>female</td>\n",
       "      <td>47.0</td>\n",
       "      <td>1</td>\n",
       "      <td>0</td>\n",
       "      <td>363272</td>\n",
       "      <td>7.0000</td>\n",
       "      <td>NaN</td>\n",
       "      <td>S</td>\n",
       "      <td>3</td>\n",
       "    </tr>\n",
       "    <tr>\n",
       "      <th>2</th>\n",
       "      <td>894</td>\n",
       "      <td>2</td>\n",
       "      <td>Myles, Mr. Thomas Francis</td>\n",
       "      <td>male</td>\n",
       "      <td>62.0</td>\n",
       "      <td>0</td>\n",
       "      <td>0</td>\n",
       "      <td>240276</td>\n",
       "      <td>9.6875</td>\n",
       "      <td>NaN</td>\n",
       "      <td>Q</td>\n",
       "      <td>3</td>\n",
       "    </tr>\n",
       "    <tr>\n",
       "      <th>3</th>\n",
       "      <td>895</td>\n",
       "      <td>3</td>\n",
       "      <td>Wirz, Mr. Albert</td>\n",
       "      <td>male</td>\n",
       "      <td>27.0</td>\n",
       "      <td>0</td>\n",
       "      <td>0</td>\n",
       "      <td>315154</td>\n",
       "      <td>8.6625</td>\n",
       "      <td>NaN</td>\n",
       "      <td>S</td>\n",
       "      <td>3</td>\n",
       "    </tr>\n",
       "    <tr>\n",
       "      <th>4</th>\n",
       "      <td>896</td>\n",
       "      <td>3</td>\n",
       "      <td>Hirvonen, Mrs. Alexander (Helga E Lindqvist)</td>\n",
       "      <td>female</td>\n",
       "      <td>22.0</td>\n",
       "      <td>1</td>\n",
       "      <td>1</td>\n",
       "      <td>3101298</td>\n",
       "      <td>12.2875</td>\n",
       "      <td>NaN</td>\n",
       "      <td>S</td>\n",
       "      <td>3</td>\n",
       "    </tr>\n",
       "  </tbody>\n",
       "</table>\n",
       "</div>"
      ],
      "text/plain": [
       "   PassengerId  Pclass                                          Name     Sex  \\\n",
       "0          892       3                              Kelly, Mr. James    male   \n",
       "1          893       3              Wilkes, Mrs. James (Ellen Needs)  female   \n",
       "2          894       2                     Myles, Mr. Thomas Francis    male   \n",
       "3          895       3                              Wirz, Mr. Albert    male   \n",
       "4          896       3  Hirvonen, Mrs. Alexander (Helga E Lindqvist)  female   \n",
       "\n",
       "    Age  SibSp  Parch   Ticket     Fare Cabin Embarked  Survived  \n",
       "0  34.5      0      0   330911   7.8292   NaN        Q         3  \n",
       "1  47.0      1      0   363272   7.0000   NaN        S         3  \n",
       "2  62.0      0      0   240276   9.6875   NaN        Q         3  \n",
       "3  27.0      0      0   315154   8.6625   NaN        S         3  \n",
       "4  22.0      1      1  3101298  12.2875   NaN        S         3  "
      ]
     },
     "execution_count": 260,
     "metadata": {},
     "output_type": "execute_result"
    }
   ],
   "source": [
    "print (len(df_test))\n",
    "df_test.head()"
   ]
  },
  {
   "cell_type": "code",
   "execution_count": 261,
   "metadata": {
    "collapsed": false
   },
   "outputs": [
    {
     "name": "stdout",
     "output_type": "stream",
     "text": [
      "1309\n"
     ]
    },
    {
     "data": {
      "text/html": [
       "<div>\n",
       "<table border=\"1\" class=\"dataframe\">\n",
       "  <thead>\n",
       "    <tr style=\"text-align: right;\">\n",
       "      <th></th>\n",
       "      <th>index</th>\n",
       "      <th>Age</th>\n",
       "      <th>Cabin</th>\n",
       "      <th>Embarked</th>\n",
       "      <th>Fare</th>\n",
       "      <th>Name</th>\n",
       "      <th>Parch</th>\n",
       "      <th>PassengerId</th>\n",
       "      <th>Pclass</th>\n",
       "      <th>Sex</th>\n",
       "      <th>SibSp</th>\n",
       "      <th>Survived</th>\n",
       "      <th>Ticket</th>\n",
       "    </tr>\n",
       "  </thead>\n",
       "  <tbody>\n",
       "    <tr>\n",
       "      <th>0</th>\n",
       "      <td>0</td>\n",
       "      <td>22.0</td>\n",
       "      <td>NaN</td>\n",
       "      <td>S</td>\n",
       "      <td>7.2500</td>\n",
       "      <td>Braund, Mr. Owen Harris</td>\n",
       "      <td>0</td>\n",
       "      <td>1</td>\n",
       "      <td>3</td>\n",
       "      <td>male</td>\n",
       "      <td>1</td>\n",
       "      <td>0</td>\n",
       "      <td>A/5 21171</td>\n",
       "    </tr>\n",
       "    <tr>\n",
       "      <th>1</th>\n",
       "      <td>1</td>\n",
       "      <td>38.0</td>\n",
       "      <td>C85</td>\n",
       "      <td>C</td>\n",
       "      <td>71.2833</td>\n",
       "      <td>Cumings, Mrs. John Bradley (Florence Briggs Th...</td>\n",
       "      <td>0</td>\n",
       "      <td>2</td>\n",
       "      <td>1</td>\n",
       "      <td>female</td>\n",
       "      <td>1</td>\n",
       "      <td>1</td>\n",
       "      <td>PC 17599</td>\n",
       "    </tr>\n",
       "    <tr>\n",
       "      <th>2</th>\n",
       "      <td>2</td>\n",
       "      <td>26.0</td>\n",
       "      <td>NaN</td>\n",
       "      <td>S</td>\n",
       "      <td>7.9250</td>\n",
       "      <td>Heikkinen, Miss. Laina</td>\n",
       "      <td>0</td>\n",
       "      <td>3</td>\n",
       "      <td>3</td>\n",
       "      <td>female</td>\n",
       "      <td>0</td>\n",
       "      <td>1</td>\n",
       "      <td>STON/O2. 3101282</td>\n",
       "    </tr>\n",
       "    <tr>\n",
       "      <th>3</th>\n",
       "      <td>3</td>\n",
       "      <td>35.0</td>\n",
       "      <td>C123</td>\n",
       "      <td>S</td>\n",
       "      <td>53.1000</td>\n",
       "      <td>Futrelle, Mrs. Jacques Heath (Lily May Peel)</td>\n",
       "      <td>0</td>\n",
       "      <td>4</td>\n",
       "      <td>1</td>\n",
       "      <td>female</td>\n",
       "      <td>1</td>\n",
       "      <td>1</td>\n",
       "      <td>113803</td>\n",
       "    </tr>\n",
       "    <tr>\n",
       "      <th>4</th>\n",
       "      <td>4</td>\n",
       "      <td>35.0</td>\n",
       "      <td>NaN</td>\n",
       "      <td>S</td>\n",
       "      <td>8.0500</td>\n",
       "      <td>Allen, Mr. William Henry</td>\n",
       "      <td>0</td>\n",
       "      <td>5</td>\n",
       "      <td>3</td>\n",
       "      <td>male</td>\n",
       "      <td>0</td>\n",
       "      <td>0</td>\n",
       "      <td>373450</td>\n",
       "    </tr>\n",
       "  </tbody>\n",
       "</table>\n",
       "</div>"
      ],
      "text/plain": [
       "   index   Age Cabin Embarked     Fare  \\\n",
       "0      0  22.0   NaN        S   7.2500   \n",
       "1      1  38.0   C85        C  71.2833   \n",
       "2      2  26.0   NaN        S   7.9250   \n",
       "3      3  35.0  C123        S  53.1000   \n",
       "4      4  35.0   NaN        S   8.0500   \n",
       "\n",
       "                                                Name  Parch  PassengerId  \\\n",
       "0                            Braund, Mr. Owen Harris      0            1   \n",
       "1  Cumings, Mrs. John Bradley (Florence Briggs Th...      0            2   \n",
       "2                             Heikkinen, Miss. Laina      0            3   \n",
       "3       Futrelle, Mrs. Jacques Heath (Lily May Peel)      0            4   \n",
       "4                           Allen, Mr. William Henry      0            5   \n",
       "\n",
       "   Pclass     Sex  SibSp  Survived            Ticket  \n",
       "0       3    male      1         0         A/5 21171  \n",
       "1       1  female      1         1          PC 17599  \n",
       "2       3  female      0         1  STON/O2. 3101282  \n",
       "3       1  female      1         1            113803  \n",
       "4       3    male      0         0            373450  "
      ]
     },
     "execution_count": 261,
     "metadata": {},
     "output_type": "execute_result"
    }
   ],
   "source": [
    "print (len(df))\n",
    "df.head()"
   ]
  },
  {
   "cell_type": "code",
   "execution_count": 262,
   "metadata": {
    "collapsed": false
   },
   "outputs": [
    {
     "name": "stdout",
     "output_type": "stream",
     "text": [
      "7\n",
      "8\n",
      "929\n",
      "282\n",
      "187\n",
      "4\n"
     ]
    }
   ],
   "source": [
    "print (len(df['SibSp'].unique()))\n",
    "print (len(df['Parch'].unique()))\n",
    "print (len(df['Ticket'].unique()))\n",
    "print (len(df['Fare'].unique()))\n",
    "print (len(df['Cabin'].unique()))\n",
    "print (len(df['Embarked'].unique()))"
   ]
  },
  {
   "cell_type": "code",
   "execution_count": 263,
   "metadata": {
    "collapsed": false
   },
   "outputs": [
    {
     "name": "stdout",
     "output_type": "stream",
     "text": [
      "Pclass\n",
      "1    323\n",
      "2    277\n",
      "3    709\n",
      "Name: Pclass, dtype: int64\n",
      "Sex\n",
      "female    466\n",
      "male      843\n",
      "Name: Sex, dtype: int64\n",
      "SibSp\n",
      "0    891\n",
      "1    319\n",
      "2     42\n",
      "3     20\n",
      "4     22\n",
      "5      6\n",
      "8      9\n",
      "Name: SibSp, dtype: int64\n",
      "Parch\n",
      "0    1002\n",
      "1     170\n",
      "2     113\n",
      "3       8\n",
      "4       6\n",
      "5       6\n",
      "6       2\n",
      "9       2\n",
      "Name: Parch, dtype: int64\n",
      "Embarked\n",
      "C    270\n",
      "Q    123\n",
      "S    914\n",
      "Name: Embarked, dtype: int64\n"
     ]
    }
   ],
   "source": [
    "print (df.groupby('Pclass')['Pclass'].count())\n",
    "print (df.groupby('Sex')['Sex'].count())\n",
    "print (df.groupby('SibSp')['SibSp'].count())\n",
    "print (df.groupby('Parch')['Parch'].count())\n",
    "print (df.groupby('Embarked')['Embarked'].count())"
   ]
  },
  {
   "cell_type": "code",
   "execution_count": 264,
   "metadata": {
    "collapsed": true
   },
   "outputs": [],
   "source": [
    "col_names = [ 'PassengerId', 'Pclass','Name','Sex','Age', 'SibSp', 'Parch', 'Ticket',  'Fare', 'Cabin', 'Embarked' ]"
   ]
  },
  {
   "cell_type": "code",
   "execution_count": 265,
   "metadata": {
    "collapsed": false
   },
   "outputs": [
    {
     "data": {
      "text/plain": [
       "index            int64\n",
       "Age            float64\n",
       "Cabin           object\n",
       "Embarked        object\n",
       "Fare           float64\n",
       "Name            object\n",
       "Parch            int64\n",
       "PassengerId      int64\n",
       "Pclass           int64\n",
       "Sex             object\n",
       "SibSp            int64\n",
       "Survived         int64\n",
       "Ticket          object\n",
       "dtype: object"
      ]
     },
     "execution_count": 265,
     "metadata": {},
     "output_type": "execute_result"
    }
   ],
   "source": [
    "df.dtypes"
   ]
  },
  {
   "cell_type": "code",
   "execution_count": 266,
   "metadata": {
    "collapsed": false
   },
   "outputs": [
    {
     "name": "stdout",
     "output_type": "stream",
     "text": [
      "[ Number of NaN in each Column ] \n",
      "PassengerId : 0\n",
      "Pclass : 0\n",
      "Name : 0\n",
      "Sex : 0\n",
      "Age : 263\n",
      "SibSp : 0\n",
      "Parch : 0\n",
      "Ticket : 0\n",
      "Fare : 1\n",
      "Cabin : 1014\n",
      "Embarked : 2\n",
      "[ Count 0 values in each Column ]\n",
      "Ages : 0\n",
      "Fare : 17\n"
     ]
    }
   ],
   "source": [
    "## Count NaN in each colums \n",
    "print ('[ Number of NaN in each Column ] ')\n",
    "for i in range(len(col_names)):\n",
    "    print (col_names[i], \":\", len(df[col_names[i]]) - df[col_names[i]].count())\n",
    "    \n",
    "print ('[ Count 0 values in each Column ]')\n",
    "print (\"Ages :\", len(df[(df['Age']==0)]))\n",
    "print (\"Fare :\", len(df[(df['Fare']==0)]))"
   ]
  },
  {
   "cell_type": "code",
   "execution_count": 473,
   "metadata": {
    "collapsed": false
   },
   "outputs": [
    {
     "data": {
      "text/html": [
       "<div>\n",
       "<table border=\"1\" class=\"dataframe\">\n",
       "  <thead>\n",
       "    <tr style=\"text-align: right;\">\n",
       "      <th></th>\n",
       "      <th></th>\n",
       "      <th>Age</th>\n",
       "      <th>Fare</th>\n",
       "    </tr>\n",
       "    <tr>\n",
       "      <th>Pclass</th>\n",
       "      <th>Sex</th>\n",
       "      <th></th>\n",
       "      <th></th>\n",
       "    </tr>\n",
       "  </thead>\n",
       "  <tbody>\n",
       "    <tr>\n",
       "      <th rowspan=\"2\" valign=\"top\">1</th>\n",
       "      <th>female</th>\n",
       "      <td>36.490920</td>\n",
       "      <td>109.412385</td>\n",
       "    </tr>\n",
       "    <tr>\n",
       "      <th>male</th>\n",
       "      <td>39.285429</td>\n",
       "      <td>72.732680</td>\n",
       "    </tr>\n",
       "    <tr>\n",
       "      <th rowspan=\"2\" valign=\"top\">2</th>\n",
       "      <th>female</th>\n",
       "      <td>27.566636</td>\n",
       "      <td>23.234827</td>\n",
       "    </tr>\n",
       "    <tr>\n",
       "      <th>male</th>\n",
       "      <td>30.744355</td>\n",
       "      <td>20.628762</td>\n",
       "    </tr>\n",
       "    <tr>\n",
       "      <th rowspan=\"2\" valign=\"top\">3</th>\n",
       "      <th>female</th>\n",
       "      <td>24.465569</td>\n",
       "      <td>15.324250</td>\n",
       "    </tr>\n",
       "    <tr>\n",
       "      <th>male</th>\n",
       "      <td>27.106925</td>\n",
       "      <td>12.517228</td>\n",
       "    </tr>\n",
       "  </tbody>\n",
       "</table>\n",
       "</div>"
      ],
      "text/plain": [
       "                     Age        Fare\n",
       "Pclass Sex                          \n",
       "1      female  36.490920  109.412385\n",
       "       male    39.285429   72.732680\n",
       "2      female  27.566636   23.234827\n",
       "       male    30.744355   20.628762\n",
       "3      female  24.465569   15.324250\n",
       "       male    27.106925   12.517228"
      ]
     },
     "execution_count": 473,
     "metadata": {},
     "output_type": "execute_result"
    }
   ],
   "source": [
    "df.pivot_table(['Fare', 'Age'], index=['Pclass', 'Sex'] , aggfunc='mean')"
   ]
  },
  {
   "cell_type": "code",
   "execution_count": 474,
   "metadata": {
    "collapsed": false
   },
   "outputs": [
    {
     "data": {
      "text/html": [
       "<div>\n",
       "<table border=\"1\" class=\"dataframe\">\n",
       "  <thead>\n",
       "    <tr style=\"text-align: right;\">\n",
       "      <th></th>\n",
       "      <th></th>\n",
       "      <th>Age</th>\n",
       "      <th>Fare</th>\n",
       "    </tr>\n",
       "    <tr>\n",
       "      <th>Pclass</th>\n",
       "      <th>Sex</th>\n",
       "      <th></th>\n",
       "      <th></th>\n",
       "    </tr>\n",
       "  </thead>\n",
       "  <tbody>\n",
       "    <tr>\n",
       "      <th rowspan=\"2\" valign=\"top\">1</th>\n",
       "      <th>female</th>\n",
       "      <td>144</td>\n",
       "      <td>144</td>\n",
       "    </tr>\n",
       "    <tr>\n",
       "      <th>male</th>\n",
       "      <td>179</td>\n",
       "      <td>179</td>\n",
       "    </tr>\n",
       "    <tr>\n",
       "      <th rowspan=\"2\" valign=\"top\">2</th>\n",
       "      <th>female</th>\n",
       "      <td>106</td>\n",
       "      <td>106</td>\n",
       "    </tr>\n",
       "    <tr>\n",
       "      <th>male</th>\n",
       "      <td>171</td>\n",
       "      <td>171</td>\n",
       "    </tr>\n",
       "    <tr>\n",
       "      <th rowspan=\"2\" valign=\"top\">3</th>\n",
       "      <th>female</th>\n",
       "      <td>216</td>\n",
       "      <td>216</td>\n",
       "    </tr>\n",
       "    <tr>\n",
       "      <th>male</th>\n",
       "      <td>493</td>\n",
       "      <td>493</td>\n",
       "    </tr>\n",
       "  </tbody>\n",
       "</table>\n",
       "</div>"
      ],
      "text/plain": [
       "               Age  Fare\n",
       "Pclass Sex              \n",
       "1      female  144   144\n",
       "       male    179   179\n",
       "2      female  106   106\n",
       "       male    171   171\n",
       "3      female  216   216\n",
       "       male    493   493"
      ]
     },
     "execution_count": 474,
     "metadata": {},
     "output_type": "execute_result"
    }
   ],
   "source": [
    "df.pivot_table(['Fare', 'Age'], index=['Pclass', 'Sex'] , aggfunc='count')"
   ]
  },
  {
   "cell_type": "code",
   "execution_count": 248,
   "metadata": {
    "collapsed": false
   },
   "outputs": [
    {
     "name": "stdout",
     "output_type": "stream",
     "text": [
      "-----------------------------------------\n",
      "Embarked C\n",
      "Mean fare : 62.34\n",
      "Class 1 : 141\n",
      "Class 2 : 28\n",
      "Class 3 : 101\n",
      "-----------------------------------------\n",
      "Embarked Q\n",
      "Mean fare : 12.41\n",
      "Class 1 : 3\n",
      "Class 2 : 7\n",
      "Class 3 : 113\n",
      "-----------------------------------------\n",
      "Embarked S\n",
      "Mean fare : 27.42\n",
      "Class 1 : 177\n",
      "Class 2 : 242\n",
      "Class 3 : 495\n"
     ]
    }
   ],
   "source": [
    "embarked_list = df.groupby('Embarked')['Embarked'].count().index.tolist()\n",
    "for em in embarked_list:\n",
    "    print (\"-----------------------------------------\")\n",
    "    print (\"Embarked \"+str(em))\n",
    "    print (\"Mean fare : %.2f\"%df[(df['Embarked']==em)]['Fare'].mean())\n",
    "    print (\"Class 1 : %.0f\"%len(df[(df['Embarked']==em)&(df['Pclass']==1)]))\n",
    "    print (\"Class 2 : %.0f\"%len(df[(df['Embarked']==em)&(df['Pclass']==2)]))\n",
    "    print (\"Class 3 : %.0f\"%len(df[(df['Embarked']==em)&(df['Pclass']==3)]))"
   ]
  },
  {
   "cell_type": "code",
   "execution_count": 249,
   "metadata": {
    "collapsed": false
   },
   "outputs": [
    {
     "data": {
      "text/plain": [
       "Pclass  Embarked  Sex   \n",
       "1       C         female    118.895949\n",
       "                  male       94.622560\n",
       "        Q         female     90.000000\n",
       "                  male       90.000000\n",
       "        S         female    101.069145\n",
       "                  male       53.670756\n",
       "2       C         female     27.003791\n",
       "                  male       20.904406\n",
       "        Q         female     12.350000\n",
       "                  male       11.489160\n",
       "        S         female     23.023118\n",
       "                  male       20.073322\n",
       "3       C         female     13.834545\n",
       "                  male        9.775901\n",
       "        Q         female      9.791968\n",
       "                  male       10.979167\n",
       "        S         female     18.083851\n",
       "                  male       13.145977\n",
       "Name: Fare, dtype: float64"
      ]
     },
     "execution_count": 249,
     "metadata": {},
     "output_type": "execute_result"
    }
   ],
   "source": [
    "df.pivot_table('Fare', index=['Pclass', 'Embarked','Sex'] , aggfunc='mean')"
   ]
  },
  {
   "cell_type": "code",
   "execution_count": 250,
   "metadata": {
    "collapsed": false
   },
   "outputs": [
    {
     "data": {
      "text/plain": [
       "Pclass  Embarked  Sex   \n",
       "1       C         female     71\n",
       "                  male       70\n",
       "        Q         female      2\n",
       "                  male        1\n",
       "        S         female     69\n",
       "                  male      108\n",
       "2       C         female     11\n",
       "                  male       17\n",
       "        Q         female      2\n",
       "                  male        5\n",
       "        S         female     93\n",
       "                  male      149\n",
       "3       C         female     31\n",
       "                  male       70\n",
       "        Q         female     56\n",
       "                  male       57\n",
       "        S         female    129\n",
       "                  male      365\n",
       "Name: Fare, dtype: int64"
      ]
     },
     "execution_count": 250,
     "metadata": {},
     "output_type": "execute_result"
    }
   ],
   "source": [
    "df.pivot_table('Fare', index=['Pclass', 'Embarked','Sex'] , aggfunc='count')"
   ]
  },
  {
   "cell_type": "code",
   "execution_count": 251,
   "metadata": {
    "collapsed": false
   },
   "outputs": [
    {
     "data": {
      "text/plain": [
       "'C'"
      ]
     },
     "execution_count": 251,
     "metadata": {},
     "output_type": "execute_result"
    }
   ],
   "source": [
    "df[(df['Sex']=='female')&(df['Pclass']==1)]['Embarked'].mode()[0]"
   ]
  },
  {
   "cell_type": "code",
   "execution_count": 335,
   "metadata": {
    "collapsed": false
   },
   "outputs": [],
   "source": [
    "def chg(dfx):\n",
    "    \n",
    "    dfp = df.pivot_table('Fare', index=['Pclass', 'Sex'] , aggfunc='mean')\n",
    "    \n",
    "    sub_class = [ x for x in dfp.index.get_level_values('Pclass')]\n",
    "    sub_sex = [ x for x in dfp.index.get_level_values('Sex')]\n",
    "\n",
    "    for i in range(len(dfx['Fare'])):\n",
    "        \n",
    "        if pd.isnull(dfx['Fare'].iloc[i]):\n",
    "            dfx['Fare'].iloc[i] = float(dfp.loc[(dfp.index.get_level_values('Pclass')==dfx['Pclass'].iloc[i]) & (dfp.index.get_level_values('Sex')==dfx['Sex'].iloc[i])].values)\n",
    "            \n",
    "\n",
    "#    dfx['Fare'] = [float(dfp.loc[(dfp.index.get_level_values('Pclass')==dfx['Pclass']) & (dfp.index.get_level_values('Sex')==dfx['Sex'])].values) for x in dfx['Fare'] ]\n",
    "    \n",
    "    return dfx \n"
   ]
  },
  {
   "cell_type": "code",
   "execution_count": 356,
   "metadata": {
    "collapsed": false
   },
   "outputs": [],
   "source": [
    "def clean_data(df):\n",
    "    \n",
    "    ## Clean Data \n",
    "    ## 'Age', 'Fare', 'Cabin', 'Embarked' \n",
    "    \n",
    "    ## df['Age'] fill NaN to mean\n",
    "    df['Age'] = df['Age'].fillna(df['Age'].mean())\n",
    "    \n",
    "    ## df['Cabin'] fill NaN to 'Unknown'\n",
    "    df['Cabin'] = df['Cabin'].fillna('Unknown')\n",
    "    tmp_str = df['Cabin'].str.findall(r'[a-zA-Z]+').tolist()\n",
    "    df['Cabin_deck']=[x[0] for x in tmp_str]\n",
    "    tmp_str = df['Cabin'].str.findall(r'[0-9]+')\n",
    "    df['Cabin_num'] = [x[0] if len(x) >0 else 0 for x in tmp_str]\n",
    "    df['Cabin_count'] = [len(x) for x in tmp_str]\n",
    "    \n",
    "    ## df['Embarked'] fill NaN to 'C' <= Mode of class 1 & female \n",
    "    embarked_fill = df[(df['Sex']=='female')&(df['Pclass']==1)]['Embarked'].mode()[0]\n",
    "    df['Embarked']=df['Embarked'].fillna(embarked_fill)\n",
    "    \n",
    "    ## df['Fare'] == 0 to NaN \n",
    "    df['Fare'] = df['Fare'].map(lambda x: np.nan if x==0 else x)\n",
    "    \n",
    "    df = chg(df)\n",
    "#    df_pivot_fare_fill = df.pivot_table('Fare', index=['Pclass', 'Sex'] , aggfunc='mean')\n",
    "#    df['Fare'] = df[['Fare', 'Pclass','Sex']].apply \\\n",
    "#    (lambda x: df_pivot_fare_fill[x['Pclass']] if pd.isnull(x['Fare']) else x['Fare'], axis=1 )\n",
    "    \n",
    "    title_list=['Mrs', 'Mr', 'Master', 'Miss', 'Major', 'Rev',\n",
    "                    'Dr', 'Ms', 'Mlle','Col', 'Capt', 'Mme', 'Countess',\n",
    "                    'Don', 'Jonkheer']\n",
    "    \n",
    "    df['Title']=df['Name'].map(lambda x: substrings_in_string(x, title_list))\n",
    "    \n",
    "    def replace_titles(x):\n",
    "        title=x['Title']\n",
    "        if title in ['Don', 'Major', 'Capt', 'Jonkheer', 'Rev', 'Col']:\n",
    "            return 'Mr'\n",
    "        elif title in ['Countess', 'Mme']:\n",
    "            return 'Mrs'\n",
    "        elif title in ['Mlle', 'Ms']:\n",
    "            return 'Miss'\n",
    "        elif title =='Dr':\n",
    "            if x['Sex']=='Male':\n",
    "                return 'Mr'\n",
    "            else:\n",
    "                return 'Mrs'\n",
    "        else:\n",
    "            return title\n",
    "    \n",
    "    df['Title']=df.apply(replace_titles, axis=1)\n",
    "    \n",
    "    return df\n",
    "\n",
    "df=clean_data(df)\n"
   ]
  },
  {
   "cell_type": "code",
   "execution_count": 357,
   "metadata": {
    "collapsed": false
   },
   "outputs": [
    {
     "data": {
      "text/html": [
       "<div>\n",
       "<table border=\"1\" class=\"dataframe\">\n",
       "  <thead>\n",
       "    <tr style=\"text-align: right;\">\n",
       "      <th></th>\n",
       "      <th>index</th>\n",
       "      <th>Age</th>\n",
       "      <th>Cabin</th>\n",
       "      <th>Embarked</th>\n",
       "      <th>Fare</th>\n",
       "      <th>Name</th>\n",
       "      <th>Parch</th>\n",
       "      <th>PassengerId</th>\n",
       "      <th>Pclass</th>\n",
       "      <th>Sex</th>\n",
       "      <th>...</th>\n",
       "      <th>Survived</th>\n",
       "      <th>Ticket</th>\n",
       "      <th>Cabin_deck</th>\n",
       "      <th>Cabin_num</th>\n",
       "      <th>Cabin_count</th>\n",
       "      <th>Title</th>\n",
       "      <th>nEmbark</th>\n",
       "      <th>nCabin_deck</th>\n",
       "      <th>nTitle</th>\n",
       "      <th>nSex</th>\n",
       "    </tr>\n",
       "  </thead>\n",
       "  <tbody>\n",
       "    <tr>\n",
       "      <th>0</th>\n",
       "      <td>0</td>\n",
       "      <td>22.0</td>\n",
       "      <td>Unknown</td>\n",
       "      <td>S</td>\n",
       "      <td>7.2500</td>\n",
       "      <td>Braund, Mr. Owen Harris</td>\n",
       "      <td>0</td>\n",
       "      <td>1</td>\n",
       "      <td>3</td>\n",
       "      <td>male</td>\n",
       "      <td>...</td>\n",
       "      <td>0</td>\n",
       "      <td>A/5 21171</td>\n",
       "      <td>Unknown</td>\n",
       "      <td>0</td>\n",
       "      <td>0</td>\n",
       "      <td>Mr</td>\n",
       "      <td>2</td>\n",
       "      <td>8</td>\n",
       "      <td>2</td>\n",
       "      <td>1</td>\n",
       "    </tr>\n",
       "    <tr>\n",
       "      <th>1</th>\n",
       "      <td>1</td>\n",
       "      <td>38.0</td>\n",
       "      <td>C85</td>\n",
       "      <td>C</td>\n",
       "      <td>71.2833</td>\n",
       "      <td>Cumings, Mrs. John Bradley (Florence Briggs Th...</td>\n",
       "      <td>0</td>\n",
       "      <td>2</td>\n",
       "      <td>1</td>\n",
       "      <td>female</td>\n",
       "      <td>...</td>\n",
       "      <td>1</td>\n",
       "      <td>PC 17599</td>\n",
       "      <td>C</td>\n",
       "      <td>85</td>\n",
       "      <td>1</td>\n",
       "      <td>Mrs</td>\n",
       "      <td>0</td>\n",
       "      <td>2</td>\n",
       "      <td>3</td>\n",
       "      <td>0</td>\n",
       "    </tr>\n",
       "    <tr>\n",
       "      <th>2</th>\n",
       "      <td>2</td>\n",
       "      <td>26.0</td>\n",
       "      <td>Unknown</td>\n",
       "      <td>S</td>\n",
       "      <td>7.9250</td>\n",
       "      <td>Heikkinen, Miss. Laina</td>\n",
       "      <td>0</td>\n",
       "      <td>3</td>\n",
       "      <td>3</td>\n",
       "      <td>female</td>\n",
       "      <td>...</td>\n",
       "      <td>1</td>\n",
       "      <td>STON/O2. 3101282</td>\n",
       "      <td>Unknown</td>\n",
       "      <td>0</td>\n",
       "      <td>0</td>\n",
       "      <td>Miss</td>\n",
       "      <td>2</td>\n",
       "      <td>8</td>\n",
       "      <td>1</td>\n",
       "      <td>0</td>\n",
       "    </tr>\n",
       "    <tr>\n",
       "      <th>3</th>\n",
       "      <td>3</td>\n",
       "      <td>35.0</td>\n",
       "      <td>C123</td>\n",
       "      <td>S</td>\n",
       "      <td>53.1000</td>\n",
       "      <td>Futrelle, Mrs. Jacques Heath (Lily May Peel)</td>\n",
       "      <td>0</td>\n",
       "      <td>4</td>\n",
       "      <td>1</td>\n",
       "      <td>female</td>\n",
       "      <td>...</td>\n",
       "      <td>1</td>\n",
       "      <td>113803</td>\n",
       "      <td>C</td>\n",
       "      <td>123</td>\n",
       "      <td>1</td>\n",
       "      <td>Mrs</td>\n",
       "      <td>2</td>\n",
       "      <td>2</td>\n",
       "      <td>3</td>\n",
       "      <td>0</td>\n",
       "    </tr>\n",
       "    <tr>\n",
       "      <th>4</th>\n",
       "      <td>4</td>\n",
       "      <td>35.0</td>\n",
       "      <td>Unknown</td>\n",
       "      <td>S</td>\n",
       "      <td>8.0500</td>\n",
       "      <td>Allen, Mr. William Henry</td>\n",
       "      <td>0</td>\n",
       "      <td>5</td>\n",
       "      <td>3</td>\n",
       "      <td>male</td>\n",
       "      <td>...</td>\n",
       "      <td>0</td>\n",
       "      <td>373450</td>\n",
       "      <td>Unknown</td>\n",
       "      <td>0</td>\n",
       "      <td>0</td>\n",
       "      <td>Mr</td>\n",
       "      <td>2</td>\n",
       "      <td>8</td>\n",
       "      <td>2</td>\n",
       "      <td>1</td>\n",
       "    </tr>\n",
       "  </tbody>\n",
       "</table>\n",
       "<p>5 rows × 21 columns</p>\n",
       "</div>"
      ],
      "text/plain": [
       "   index   Age    Cabin Embarked     Fare  \\\n",
       "0      0  22.0  Unknown        S   7.2500   \n",
       "1      1  38.0      C85        C  71.2833   \n",
       "2      2  26.0  Unknown        S   7.9250   \n",
       "3      3  35.0     C123        S  53.1000   \n",
       "4      4  35.0  Unknown        S   8.0500   \n",
       "\n",
       "                                                Name  Parch  PassengerId  \\\n",
       "0                            Braund, Mr. Owen Harris      0            1   \n",
       "1  Cumings, Mrs. John Bradley (Florence Briggs Th...      0            2   \n",
       "2                             Heikkinen, Miss. Laina      0            3   \n",
       "3       Futrelle, Mrs. Jacques Heath (Lily May Peel)      0            4   \n",
       "4                           Allen, Mr. William Henry      0            5   \n",
       "\n",
       "   Pclass     Sex  ...   Survived            Ticket Cabin_deck Cabin_num  \\\n",
       "0       3    male  ...          0         A/5 21171    Unknown         0   \n",
       "1       1  female  ...          1          PC 17599          C        85   \n",
       "2       3  female  ...          1  STON/O2. 3101282    Unknown         0   \n",
       "3       1  female  ...          1            113803          C       123   \n",
       "4       3    male  ...          0            373450    Unknown         0   \n",
       "\n",
       "  Cabin_count  Title nEmbark  nCabin_deck  nTitle  nSex  \n",
       "0           0     Mr       2            8       2     1  \n",
       "1           1    Mrs       0            2       3     0  \n",
       "2           0   Miss       2            8       1     0  \n",
       "3           1    Mrs       2            2       3     0  \n",
       "4           0     Mr       2            8       2     1  \n",
       "\n",
       "[5 rows x 21 columns]"
      ]
     },
     "execution_count": 357,
     "metadata": {},
     "output_type": "execute_result"
    }
   ],
   "source": [
    "def change_categ_to_numeric(df):\n",
    "    \n",
    "    df[\"Embarked\"] = df[\"Embarked\"].astype('category')\n",
    "    df[\"Cabin_deck\"] = df[\"Cabin_deck\"].astype('category')\n",
    "    df[\"Title\"] = df[\"Title\"].astype('category')\n",
    "    df[\"Sex\"] = df[\"Sex\"].astype('category')\n",
    "\n",
    "    \n",
    "    df['nEmbark'] = df[\"Embarked\"].cat.codes    \n",
    "    df['nCabin_deck'] = df[\"Cabin_deck\"].cat.codes\n",
    "    df['nTitle'] = df[\"Title\"].cat.codes\n",
    "    df['nSex'] = df[\"Sex\"].cat.codes\n",
    "    \n",
    "    return (df)\n",
    "    \n",
    "df =change_categ_to_numeric(df)\n",
    "\n",
    "df.head()"
   ]
  },
  {
   "cell_type": "code",
   "execution_count": 460,
   "metadata": {
    "collapsed": false
   },
   "outputs": [],
   "source": [
    "## Get Train & Test Data \n",
    "\n",
    "def get_data(df):\n",
    "    \n",
    "    \n",
    "    train_col_name = [ 'Age', 'Fare', 'Parch', 'Pclass', 'SibSp', 'nCabin_deck', 'nTitle', 'nSex']#, 'nEmbark', 'Cabin_count' ]\n",
    "    truth_col_name = ['Survived']\n",
    "\n",
    "    X = df[train_col_name][(df['Survived']<3)]\n",
    "    y = (np.array(df[truth_col_name][(df['Survived']<3)]))\n",
    "    y = y.reshape(len(y),)\n",
    "    X_test = df[train_col_name][(df['Survived']==3)]\n",
    "    \n",
    "    print (\"Train data len : %.0f\"%len(X),\"Test data len : %.0f\"%len(X_test))\n",
    "    y_test = list(df_y_test['Survived'])\n",
    "    \n",
    "    \n",
    "    return X, y, X_test, y_test\n"
   ]
  },
  {
   "cell_type": "code",
   "execution_count": 461,
   "metadata": {
    "collapsed": false
   },
   "outputs": [
    {
     "data": {
      "text/html": [
       "<div>\n",
       "<table border=\"1\" class=\"dataframe\">\n",
       "  <thead>\n",
       "    <tr style=\"text-align: right;\">\n",
       "      <th></th>\n",
       "      <th>Age</th>\n",
       "      <th>Fare</th>\n",
       "      <th>Parch</th>\n",
       "      <th>Pclass</th>\n",
       "      <th>SibSp</th>\n",
       "      <th>nEmbark</th>\n",
       "      <th>nCabin_deck</th>\n",
       "      <th>nTitle</th>\n",
       "      <th>nSex</th>\n",
       "    </tr>\n",
       "  </thead>\n",
       "  <tbody>\n",
       "    <tr>\n",
       "      <th>0</th>\n",
       "      <td>22.0</td>\n",
       "      <td>7.2500</td>\n",
       "      <td>0</td>\n",
       "      <td>3</td>\n",
       "      <td>1</td>\n",
       "      <td>2</td>\n",
       "      <td>8</td>\n",
       "      <td>2</td>\n",
       "      <td>1</td>\n",
       "    </tr>\n",
       "    <tr>\n",
       "      <th>1</th>\n",
       "      <td>38.0</td>\n",
       "      <td>71.2833</td>\n",
       "      <td>0</td>\n",
       "      <td>1</td>\n",
       "      <td>1</td>\n",
       "      <td>0</td>\n",
       "      <td>2</td>\n",
       "      <td>3</td>\n",
       "      <td>0</td>\n",
       "    </tr>\n",
       "    <tr>\n",
       "      <th>2</th>\n",
       "      <td>26.0</td>\n",
       "      <td>7.9250</td>\n",
       "      <td>0</td>\n",
       "      <td>3</td>\n",
       "      <td>0</td>\n",
       "      <td>2</td>\n",
       "      <td>8</td>\n",
       "      <td>1</td>\n",
       "      <td>0</td>\n",
       "    </tr>\n",
       "    <tr>\n",
       "      <th>3</th>\n",
       "      <td>35.0</td>\n",
       "      <td>53.1000</td>\n",
       "      <td>0</td>\n",
       "      <td>1</td>\n",
       "      <td>1</td>\n",
       "      <td>2</td>\n",
       "      <td>2</td>\n",
       "      <td>3</td>\n",
       "      <td>0</td>\n",
       "    </tr>\n",
       "    <tr>\n",
       "      <th>4</th>\n",
       "      <td>35.0</td>\n",
       "      <td>8.0500</td>\n",
       "      <td>0</td>\n",
       "      <td>3</td>\n",
       "      <td>0</td>\n",
       "      <td>2</td>\n",
       "      <td>8</td>\n",
       "      <td>2</td>\n",
       "      <td>1</td>\n",
       "    </tr>\n",
       "  </tbody>\n",
       "</table>\n",
       "</div>"
      ],
      "text/plain": [
       "    Age     Fare  Parch  Pclass  SibSp  nEmbark  nCabin_deck  nTitle  nSex\n",
       "0  22.0   7.2500      0       3      1        2            8       2     1\n",
       "1  38.0  71.2833      0       1      1        0            2       3     0\n",
       "2  26.0   7.9250      0       3      0        2            8       1     0\n",
       "3  35.0  53.1000      0       1      1        2            2       3     0\n",
       "4  35.0   8.0500      0       3      0        2            8       2     1"
      ]
     },
     "execution_count": 461,
     "metadata": {},
     "output_type": "execute_result"
    }
   ],
   "source": [
    "X.head()"
   ]
  },
  {
   "cell_type": "code",
   "execution_count": 462,
   "metadata": {
    "collapsed": false
   },
   "outputs": [
    {
     "name": "stdout",
     "output_type": "stream",
     "text": [
      "Train data len : 891 Test data len : 418\n",
      "#### Decision Tree ####\n",
      "Train Score : 84.400%\n",
      "Test Score : 93.541%\n",
      "Feature Importance [ 0.05103131  0.05918343  0.00749232  0.14227934  0.06663975  0.06582887\n",
      "  0.03946037  0.56808461]\n"
     ]
    }
   ],
   "source": [
    "def decision_tree(df):\n",
    "    from sklearn.tree import DecisionTreeClassifier\n",
    "    from sklearn.model_selection import train_test_split\n",
    "    from sklearn.tree import export_graphviz\n",
    "    \n",
    "    X_train, y_train, X_test, y_test = get_data(df)\n",
    "    \n",
    "    clf = DecisionTreeClassifier(max_depth=4, random_state=0)\n",
    "    clf.fit(X_train, y_train)\n",
    "    \n",
    "    print (\"#### Decision Tree ####\")\n",
    "    print (\"Train Score : %.3f\"%(100*clf.score(X_train, y_train))+\"%\")\n",
    "    print (\"Test Score : %.3f\"%(100*clf.score(X_test, y_test))+\"%\")\n",
    "    print (\"Feature Importance\", clf.feature_importances_)\n",
    "\n",
    "decision_tree(df)"
   ]
  },
  {
   "cell_type": "code",
   "execution_count": 463,
   "metadata": {
    "collapsed": false
   },
   "outputs": [
    {
     "name": "stdout",
     "output_type": "stream",
     "text": [
      "Train data len : 891 Test data len : 418\n",
      "#### Logistic Regression ####\n",
      "--- C Value is : 0.001\n",
      "Train Score : 76.880%\n",
      "Test Score : 87.799%\n",
      "--- C Value is : 0.010\n",
      "Train Score : 78.900%\n",
      "Test Score : 93.301%\n",
      "--- C Value is : 0.100\n",
      "Train Score : 79.910%\n",
      "Test Score : 93.062%\n",
      "--- C Value is : 1.000\n",
      "Train Score : 80.022%\n",
      "Test Score : 92.584%\n",
      "--- C Value is : 10.000\n",
      "Train Score : 80.022%\n",
      "Test Score : 92.584%\n",
      "--- C Value is : 100.000\n",
      "Train Score : 80.022%\n",
      "Test Score : 92.584%\n"
     ]
    }
   ],
   "source": [
    "def logistic_classification(df):\n",
    "    from sklearn.linear_model import LogisticRegression\n",
    "    from sklearn.model_selection import train_test_split\n",
    "    from sklearn import preprocessing\n",
    "\n",
    "    X_train, y_train, X_test, y_test = get_data(df)\n",
    "    \n",
    "    scaler = preprocessing.StandardScaler().fit(X_train)\n",
    "    X_train_scaled = scaler.transform(X_train) \n",
    "    X_test_scaled = scaler.transform(X_test)\n",
    "    \n",
    "    \n",
    "\n",
    "    print (\"#### Logistic Regression ####\")\n",
    "    C = [0.001, 0.01, 0.1, 1, 10, 100]\n",
    "    \n",
    "    for c in C :\n",
    "        clf = LogisticRegression(C=c).fit(X_train_scaled, y_train)\n",
    "        print (\"--- C Value is : %.3f\"%c)\n",
    "        print (\"Train Score : %.3f\"%(100*clf.score(X_train_scaled, y_train))+\"%\")\n",
    "        print (\"Test Score : %.3f\"%(100*clf.score(X_test_scaled, y_test))+\"%\")\n",
    "\n",
    "logistic_classification(df)"
   ]
  },
  {
   "cell_type": "code",
   "execution_count": 444,
   "metadata": {
    "collapsed": false
   },
   "outputs": [
    {
     "name": "stdout",
     "output_type": "stream",
     "text": [
      "Train data len : 891 Test data len : 418\n",
      "#### SVM Classifier ####\n",
      "--- C Value is : 0.001\n",
      "Train Score : 78.676%\n",
      "Test Score : 92.584%\n",
      "--- C Value is : 0.010\n",
      "Train Score : 79.574%\n",
      "Test Score : 94.737%\n",
      "--- C Value is : 0.100\n",
      "Train Score : 80.022%\n",
      "Test Score : 94.498%\n",
      "--- C Value is : 1.000\n",
      "Train Score : 80.135%\n",
      "Test Score : 94.498%\n",
      "--- C Value is : 10.000\n",
      "Train Score : 79.574%\n",
      "Test Score : 96.411%\n",
      "--- C Value is : 100.000\n",
      "Train Score : 79.237%\n",
      "Test Score : 90.431%\n"
     ]
    }
   ],
   "source": [
    "def SVM_classification(df):\n",
    "    from sklearn.svm import LinearSVC\n",
    "    from sklearn import preprocessing\n",
    "\n",
    "    X_train, y_train, X_test, y_test = get_data(df)\n",
    "    \n",
    "    scaler = preprocessing.StandardScaler().fit(X_train)\n",
    "    X_train_scaled = scaler.transform(X_train) \n",
    "    X_test_scaled = scaler.transform(X_test)\n",
    "    \n",
    "    C = [0.001, 0.01, 0.1, 1, 10, 100]\n",
    "    \n",
    "    print (\"#### SVM Classifier ####\")\n",
    "    \n",
    "    for c in C :\n",
    "        clf = LinearSVC(C=c).fit(X_train_scaled, y_train)\n",
    "\n",
    "        print (\"--- C Value is : %.3f\"%c)\n",
    "        print (\"Train Score : %.3f\"%(100*clf.score(X_train_scaled, y_train))+\"%\")\n",
    "        print (\"Test Score : %.3f\"%(100*clf.score(X_test_scaled, y_test))+\"%\")\n",
    "\n",
    "SVM_classification(df)"
   ]
  },
  {
   "cell_type": "code",
   "execution_count": 464,
   "metadata": {
    "collapsed": false
   },
   "outputs": [
    {
     "name": "stdout",
     "output_type": "stream",
     "text": [
      "Train data len : 891 Test data len : 418\n",
      "#### Random Forest Classifier ####\n",
      "--- Est Value is : 2.000\n",
      "Train Score : 90.685%\n",
      "Test Score : 83.014%\n",
      "Feature Importance :  [ 0.26096475  0.22645932  0.02124058  0.04598355  0.0437665   0.07850384\n",
      "  0.08034033  0.24274112]\n",
      "--- Est Value is : 5.000\n",
      "Train Score : 95.286%\n",
      "Test Score : 81.100%\n",
      "Feature Importance :  [ 0.23014027  0.22601476  0.03802421  0.08108923  0.06171201  0.05936515\n",
      "  0.11452267  0.1891317 ]\n",
      "--- Est Value is : 10.000\n",
      "Train Score : 97.306%\n",
      "Test Score : 82.536%\n",
      "Feature Importance :  [ 0.22201307  0.24308647  0.03331997  0.08468366  0.04920716  0.07416312\n",
      "  0.14953712  0.14398944]\n",
      "--- Est Value is : 12.000\n",
      "Train Score : 97.643%\n",
      "Test Score : 82.536%\n",
      "Feature Importance :  [ 0.23931617  0.24504812  0.03165385  0.06474076  0.05061211  0.05963982\n",
      "  0.08336147  0.22562769]\n",
      "--- Est Value is : 14.000\n",
      "Train Score : 97.419%\n",
      "Test Score : 83.254%\n",
      "Feature Importance :  [ 0.20814673  0.26388137  0.03514921  0.0643159   0.04854987  0.06447592\n",
      "  0.11044342  0.20503759]\n",
      "--- Est Value is : 15.000\n",
      "Train Score : 98.316%\n",
      "Test Score : 80.383%\n",
      "Feature Importance :  [ 0.2241523   0.2490215   0.03278539  0.06452897  0.04273002  0.07470168\n",
      "  0.06971006  0.24237009]\n",
      "--- Est Value is : 16.000\n",
      "Train Score : 97.980%\n",
      "Test Score : 81.340%\n",
      "Feature Importance :  [ 0.21106576  0.2650846   0.03418604  0.07436906  0.04865513  0.06597401\n",
      "  0.11243175  0.18823365]\n",
      "--- Est Value is : 20.000\n",
      "Train Score : 97.531%\n",
      "Test Score : 82.297%\n",
      "Feature Importance :  [ 0.22306504  0.2376484   0.03292127  0.08055236  0.05241184  0.06847959\n",
      "  0.15016907  0.15475243]\n"
     ]
    }
   ],
   "source": [
    "def RadndomForest_classification(df):\n",
    "    from sklearn.ensemble import RandomForestClassifier\n",
    "\n",
    "    X_train, y_train, X_test, y_test = get_data(df)\n",
    "    \n",
    "    est = [2, 5, 10,12,14,15,16, 20]\n",
    "    \n",
    "    print (\"#### Random Forest Classifier ####\")\n",
    "    \n",
    "    for c in est :\n",
    "        clf = RandomForestClassifier(n_estimators=c).fit(X_train, y_train)\n",
    "\n",
    "        print (\"--- Est Value is : %.3f\"%c)\n",
    "        print (\"Train Score : %.3f\"%(100*clf.score(X_train, y_train))+\"%\")\n",
    "        print (\"Test Score : %.3f\"%(100*clf.score(X_test, y_test))+\"%\")\n",
    "        print (\"Feature Importance : \", clf.feature_importances_)\n",
    "\n",
    "RadndomForest_classification(df)"
   ]
  },
  {
   "cell_type": "code",
   "execution_count": 468,
   "metadata": {
    "collapsed": false
   },
   "outputs": [
    {
     "name": "stdout",
     "output_type": "stream",
     "text": [
      "Train data len : 891 Test data len : 418\n",
      "#### SVM kernel Classifier ####\n",
      "--- C Value is : 0.100 Gamma value is : 0.100\n",
      "Train Score : 83.165%\n",
      "Test Score : 94.976%\n",
      "--- C Value is : 1.000 Gamma value is : 0.100\n",
      "Train Score : 83.838%\n",
      "Test Score : 94.737%\n",
      "--- C Value is : 10.000 Gamma value is : 0.100\n",
      "Train Score : 85.634%\n",
      "Test Score : 90.431%\n",
      "--- C Value is : 100.000 Gamma value is : 0.100\n",
      "Train Score : 87.542%\n",
      "Test Score : 87.321%\n"
     ]
    }
   ],
   "source": [
    "def SVM_Kernel_classification(df):\n",
    "    from sklearn.svm import SVC\n",
    "    from sklearn import preprocessing\n",
    "\n",
    "    X_train, y_train, X_test, y_test = get_data(df)\n",
    "    \n",
    "    scaler = preprocessing.StandardScaler().fit(X_train)\n",
    "    X_train_scaled = scaler.transform(X_train) \n",
    "    X_test_scaled = scaler.transform(X_test)\n",
    "    \n",
    "    C = [0.1, 1, 10, 100]\n",
    "    G = [0.1, 1, 10]\n",
    "    \n",
    "    print (\"#### SVM kernel Classifier ####\")\n",
    "    \n",
    "    for c in C :\n",
    "        g = 0.1\n",
    "        clf = SVC(kernel='rbf', C=c, gamma=g).fit(X_train_scaled, y_train)\n",
    "\n",
    "        print (\"--- C Value is : %.3f\"%c, 'Gamma value is : %.3f'%g)\n",
    "        print (\"Train Score : %.3f\"%(100*clf.score(X_train_scaled, y_train))+\"%\")\n",
    "        print (\"Test Score : %.3f\"%(100*clf.score(X_test_scaled, y_test))+\"%\")\n",
    "\n",
    "SVM_Kernel_classification(df)"
   ]
  },
  {
   "cell_type": "code",
   "execution_count": 472,
   "metadata": {
    "collapsed": false
   },
   "outputs": [
    {
     "name": "stdout",
     "output_type": "stream",
     "text": [
      "Train data len : 891 Test data len : 418\n",
      "#### MLP Classifier ####\n",
      "----- Layer :  [5]\n",
      "Train Score : 83.951%\n",
      "Test Score : 87.799%\n",
      "----- Layer :  [10]\n",
      "Train Score : 86.420%\n",
      "Test Score : 87.560%\n",
      "----- Layer :  [20, 10]\n",
      "Train Score : 90.685%\n",
      "Test Score : 84.928%\n",
      "----- Layer :  [30, 10]\n",
      "Train Score : 90.797%\n",
      "Test Score : 85.167%\n",
      "----- Layer :  [100, 20]\n",
      "Train Score : 92.705%\n",
      "Test Score : 82.297%\n",
      "----- Layer :  [100, 50]\n",
      "Train Score : 92.817%\n",
      "Test Score : 82.297%\n",
      "----- Layer :  [50, 30, 20]\n",
      "Train Score : 92.368%\n",
      "Test Score : 80.622%\n",
      "----- Layer :  [30, 20, 10]\n",
      "Train Score : 90.460%\n",
      "Test Score : 84.689%\n",
      "----- Layer :  [30, 20, 10, 5]\n",
      "Train Score : 90.572%\n",
      "Test Score : 84.211%\n"
     ]
    }
   ],
   "source": [
    "def MLP_classification(df):\n",
    "    from sklearn.neural_network import MLPClassifier\n",
    "    from sklearn import preprocessing\n",
    "\n",
    "    X_train, y_train, X_test, y_test = get_data(df)\n",
    "    \n",
    "    scaler = preprocessing.StandardScaler().fit(X_train)\n",
    "    X_train_scaled = scaler.transform(X_train) \n",
    "    X_test_scaled = scaler.transform(X_test)\n",
    "    \n",
    "    C = [0.1, 1, 10, 100]\n",
    "    G = [0.1, 1, 10]\n",
    "    layer = [[5], [10], [20,10], [ 30, 10],[100, 20], [100,50], [50,30,20],  [30,20,10], [ 30, 20, 10, 5]]\n",
    "    \n",
    "    print (\"#### MLP Classifier ####\")\n",
    "    \n",
    "    for l in layer : \n",
    "        clf = MLPClassifier(solver='lbfgs', activation = 'relu', random_state=0, hidden_layer_sizes=l).fit(X_train_scaled, y_train)\n",
    "        print (\"----- Layer : \", l)\n",
    "        print (\"Train Score : %.3f\"%(100*clf.score(X_train_scaled, y_train))+\"%\")\n",
    "        print (\"Test Score : %.3f\"%(100*clf.score(X_test_scaled, y_test))+\"%\")\n",
    "\n",
    "MLP_classification(df)"
   ]
  },
  {
   "cell_type": "code",
   "execution_count": 13,
   "metadata": {
    "collapsed": false
   },
   "outputs": [],
   "source": [
    "def show_histogram(x, bins):\n",
    "    plt.hist(x, bins = bins, color='blue')\n",
    "    plt.show()\n"
   ]
  },
  {
   "cell_type": "code",
   "execution_count": 345,
   "metadata": {
    "collapsed": false
   },
   "outputs": [],
   "source": [
    "def substrings_in_string(big_string, substrings):\n",
    "    import string\n",
    "    for substring in substrings:\n",
    "#        if string.find(big_string, substring) != -1:\n",
    "        if big_string.find(substring) != -1:\n",
    "            return substring\n",
    "    print (big_string)\n",
    "    return np.nan"
   ]
  },
  {
   "cell_type": "code",
   "execution_count": null,
   "metadata": {
    "collapsed": true
   },
   "outputs": [],
   "source": []
  }
 ],
 "metadata": {
  "kernelspec": {
   "display_name": "Python 3",
   "language": "python",
   "name": "python3"
  },
  "language_info": {
   "codemirror_mode": {
    "name": "ipython",
    "version": 3
   },
   "file_extension": ".py",
   "mimetype": "text/x-python",
   "name": "python",
   "nbconvert_exporter": "python",
   "pygments_lexer": "ipython3",
   "version": "3.6.0"
  }
 },
 "nbformat": 4,
 "nbformat_minor": 2
}
