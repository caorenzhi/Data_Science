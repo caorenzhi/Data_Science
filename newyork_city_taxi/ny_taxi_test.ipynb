{
 "cells": [
  {
   "cell_type": "code",
   "execution_count": 1,
   "metadata": {
    "collapsed": true
   },
   "outputs": [],
   "source": [
    "import numpy as np\n",
    "import pandas as pd\n",
    "import matplotlib.pyplot as plt\n",
    "import datetime as dt\n",
    "import tensorflow as tf\n",
    "\n",
    "import warnings\n",
    "warnings.filterwarnings('ignore')\n",
    "\n",
    "pd.options.display.max_columns = 100\n",
    "pd.options.display.max_rows = 100\n",
    "\n",
    "RANDOM_SEED = 42\n",
    "\n",
    "%matplotlib inline\n"
   ]
  },
  {
   "cell_type": "code",
   "execution_count": 2,
   "metadata": {
    "collapsed": false
   },
   "outputs": [],
   "source": [
    "def load_data():\n",
    "    df_train = pd.read_csv('./data/train.csv')\n",
    "    df_test = pd.read_csv('./data/test.csv')\n",
    "    return df_train, df_test\n",
    "\n",
    "df_train, df_test = load_data()"
   ]
  },
  {
   "cell_type": "code",
   "execution_count": 3,
   "metadata": {
    "collapsed": false
   },
   "outputs": [
    {
     "name": "stdout",
     "output_type": "stream",
     "text": [
      "(1458644, 11)\n",
      "(625134, 9)\n"
     ]
    }
   ],
   "source": [
    "print (df_train.shape)\n",
    "print (df_test.shape)"
   ]
  },
  {
   "cell_type": "code",
   "execution_count": 4,
   "metadata": {
    "collapsed": false
   },
   "outputs": [
    {
     "data": {
      "text/html": [
       "<div>\n",
       "<table border=\"1\" class=\"dataframe\">\n",
       "  <thead>\n",
       "    <tr style=\"text-align: right;\">\n",
       "      <th></th>\n",
       "      <th>id</th>\n",
       "      <th>vendor_id</th>\n",
       "      <th>pickup_datetime</th>\n",
       "      <th>dropoff_datetime</th>\n",
       "      <th>passenger_count</th>\n",
       "      <th>pickup_longitude</th>\n",
       "      <th>pickup_latitude</th>\n",
       "      <th>dropoff_longitude</th>\n",
       "      <th>dropoff_latitude</th>\n",
       "      <th>store_and_fwd_flag</th>\n",
       "      <th>trip_duration</th>\n",
       "    </tr>\n",
       "  </thead>\n",
       "  <tbody>\n",
       "    <tr>\n",
       "      <th>0</th>\n",
       "      <td>id2875421</td>\n",
       "      <td>2</td>\n",
       "      <td>2016-03-14 17:24:55</td>\n",
       "      <td>2016-03-14 17:32:30</td>\n",
       "      <td>1</td>\n",
       "      <td>-73.982155</td>\n",
       "      <td>40.767937</td>\n",
       "      <td>-73.964630</td>\n",
       "      <td>40.765602</td>\n",
       "      <td>N</td>\n",
       "      <td>455</td>\n",
       "    </tr>\n",
       "    <tr>\n",
       "      <th>1</th>\n",
       "      <td>id2377394</td>\n",
       "      <td>1</td>\n",
       "      <td>2016-06-12 00:43:35</td>\n",
       "      <td>2016-06-12 00:54:38</td>\n",
       "      <td>1</td>\n",
       "      <td>-73.980415</td>\n",
       "      <td>40.738564</td>\n",
       "      <td>-73.999481</td>\n",
       "      <td>40.731152</td>\n",
       "      <td>N</td>\n",
       "      <td>663</td>\n",
       "    </tr>\n",
       "    <tr>\n",
       "      <th>2</th>\n",
       "      <td>id3858529</td>\n",
       "      <td>2</td>\n",
       "      <td>2016-01-19 11:35:24</td>\n",
       "      <td>2016-01-19 12:10:48</td>\n",
       "      <td>1</td>\n",
       "      <td>-73.979027</td>\n",
       "      <td>40.763939</td>\n",
       "      <td>-74.005333</td>\n",
       "      <td>40.710087</td>\n",
       "      <td>N</td>\n",
       "      <td>2124</td>\n",
       "    </tr>\n",
       "  </tbody>\n",
       "</table>\n",
       "</div>"
      ],
      "text/plain": [
       "          id  vendor_id      pickup_datetime     dropoff_datetime  \\\n",
       "0  id2875421          2  2016-03-14 17:24:55  2016-03-14 17:32:30   \n",
       "1  id2377394          1  2016-06-12 00:43:35  2016-06-12 00:54:38   \n",
       "2  id3858529          2  2016-01-19 11:35:24  2016-01-19 12:10:48   \n",
       "\n",
       "   passenger_count  pickup_longitude  pickup_latitude  dropoff_longitude  \\\n",
       "0                1        -73.982155        40.767937         -73.964630   \n",
       "1                1        -73.980415        40.738564         -73.999481   \n",
       "2                1        -73.979027        40.763939         -74.005333   \n",
       "\n",
       "   dropoff_latitude store_and_fwd_flag  trip_duration  \n",
       "0         40.765602                  N            455  \n",
       "1         40.731152                  N            663  \n",
       "2         40.710087                  N           2124  "
      ]
     },
     "execution_count": 4,
     "metadata": {},
     "output_type": "execute_result"
    }
   ],
   "source": [
    "df_train.head(3)"
   ]
  },
  {
   "cell_type": "code",
   "execution_count": 5,
   "metadata": {
    "collapsed": false
   },
   "outputs": [
    {
     "data": {
      "text/html": [
       "<div>\n",
       "<table border=\"1\" class=\"dataframe\">\n",
       "  <thead>\n",
       "    <tr style=\"text-align: right;\">\n",
       "      <th></th>\n",
       "      <th>id</th>\n",
       "      <th>vendor_id</th>\n",
       "      <th>pickup_datetime</th>\n",
       "      <th>passenger_count</th>\n",
       "      <th>pickup_longitude</th>\n",
       "      <th>pickup_latitude</th>\n",
       "      <th>dropoff_longitude</th>\n",
       "      <th>dropoff_latitude</th>\n",
       "      <th>store_and_fwd_flag</th>\n",
       "    </tr>\n",
       "  </thead>\n",
       "  <tbody>\n",
       "    <tr>\n",
       "      <th>0</th>\n",
       "      <td>id3004672</td>\n",
       "      <td>1</td>\n",
       "      <td>2016-06-30 23:59:58</td>\n",
       "      <td>1</td>\n",
       "      <td>-73.988129</td>\n",
       "      <td>40.732029</td>\n",
       "      <td>-73.990173</td>\n",
       "      <td>40.756680</td>\n",
       "      <td>N</td>\n",
       "    </tr>\n",
       "    <tr>\n",
       "      <th>1</th>\n",
       "      <td>id3505355</td>\n",
       "      <td>1</td>\n",
       "      <td>2016-06-30 23:59:53</td>\n",
       "      <td>1</td>\n",
       "      <td>-73.964203</td>\n",
       "      <td>40.679993</td>\n",
       "      <td>-73.959808</td>\n",
       "      <td>40.655403</td>\n",
       "      <td>N</td>\n",
       "    </tr>\n",
       "    <tr>\n",
       "      <th>2</th>\n",
       "      <td>id1217141</td>\n",
       "      <td>1</td>\n",
       "      <td>2016-06-30 23:59:47</td>\n",
       "      <td>1</td>\n",
       "      <td>-73.997437</td>\n",
       "      <td>40.737583</td>\n",
       "      <td>-73.986160</td>\n",
       "      <td>40.729523</td>\n",
       "      <td>N</td>\n",
       "    </tr>\n",
       "  </tbody>\n",
       "</table>\n",
       "</div>"
      ],
      "text/plain": [
       "          id  vendor_id      pickup_datetime  passenger_count  \\\n",
       "0  id3004672          1  2016-06-30 23:59:58                1   \n",
       "1  id3505355          1  2016-06-30 23:59:53                1   \n",
       "2  id1217141          1  2016-06-30 23:59:47                1   \n",
       "\n",
       "   pickup_longitude  pickup_latitude  dropoff_longitude  dropoff_latitude  \\\n",
       "0        -73.988129        40.732029         -73.990173         40.756680   \n",
       "1        -73.964203        40.679993         -73.959808         40.655403   \n",
       "2        -73.997437        40.737583         -73.986160         40.729523   \n",
       "\n",
       "  store_and_fwd_flag  \n",
       "0                  N  \n",
       "1                  N  \n",
       "2                  N  "
      ]
     },
     "execution_count": 5,
     "metadata": {},
     "output_type": "execute_result"
    }
   ],
   "source": [
    "df_test.head(3)"
   ]
  },
  {
   "cell_type": "markdown",
   "metadata": {},
   "source": [
    "<br>\n",
    "# Check if the train & test is unique ID <br>\n"
   ]
  },
  {
   "cell_type": "code",
   "execution_count": 6,
   "metadata": {
    "collapsed": false
   },
   "outputs": [
    {
     "name": "stdout",
     "output_type": "stream",
     "text": [
      "Train and test sets are Unique.\n"
     ]
    }
   ],
   "source": [
    "print('Train and test sets are Unique.') if len(np.intersect1d(df_train['id'].values, df_test['id'].values))== 0 else print('Not Unique')"
   ]
  },
  {
   "cell_type": "code",
   "execution_count": 7,
   "metadata": {
    "collapsed": false
   },
   "outputs": [
    {
     "name": "stdout",
     "output_type": "stream",
     "text": [
      "Col name : id 1458644\n",
      "Col name : vendor_id 2\n",
      "Col name : pickup_datetime 1380222\n",
      "Col name : dropoff_datetime 1380377\n",
      "Col name : passenger_count 10\n",
      "Col name : pickup_longitude 23047\n",
      "Col name : pickup_latitude 45245\n",
      "Col name : dropoff_longitude 33821\n",
      "Col name : dropoff_latitude 62519\n",
      "Col name : store_and_fwd_flag 2\n",
      "Col name : trip_duration 7417\n"
     ]
    }
   ],
   "source": [
    "for col in df_train.columns:\n",
    "    print (\"Col name : \"+col, len(df_train[col].unique()))"
   ]
  },
  {
   "cell_type": "markdown",
   "metadata": {},
   "source": [
    "# Check the Data <br>"
   ]
  },
  {
   "cell_type": "code",
   "execution_count": 8,
   "metadata": {
    "collapsed": false
   },
   "outputs": [
    {
     "data": {
      "text/plain": [
       "id                    0\n",
       "vendor_id             0\n",
       "pickup_datetime       0\n",
       "dropoff_datetime      0\n",
       "passenger_count       0\n",
       "pickup_longitude      0\n",
       "pickup_latitude       0\n",
       "dropoff_longitude     0\n",
       "dropoff_latitude      0\n",
       "store_and_fwd_flag    0\n",
       "trip_duration         0\n",
       "dtype: int64"
      ]
     },
     "execution_count": 8,
     "metadata": {},
     "output_type": "execute_result"
    }
   ],
   "source": [
    "df_train.isnull().sum()"
   ]
  },
  {
   "cell_type": "code",
   "execution_count": 9,
   "metadata": {
    "collapsed": false
   },
   "outputs": [
    {
     "name": "stdout",
     "output_type": "stream",
     "text": [
      "Col name : id object\n",
      "Col name : vendor_id int64\n",
      "Col name : pickup_datetime object\n",
      "Col name : dropoff_datetime object\n",
      "Col name : passenger_count int64\n",
      "Col name : pickup_longitude float64\n",
      "Col name : pickup_latitude float64\n",
      "Col name : dropoff_longitude float64\n",
      "Col name : dropoff_latitude float64\n",
      "Col name : store_and_fwd_flag object\n",
      "Col name : trip_duration int64\n"
     ]
    }
   ],
   "source": [
    "for col in df_train.columns:\n",
    "    print (\"Col name : \"+col, df_train[col].dtypes)"
   ]
  },
  {
   "cell_type": "code",
   "execution_count": 10,
   "metadata": {
    "collapsed": false
   },
   "outputs": [
    {
     "name": "stdout",
     "output_type": "stream",
     "text": [
      "id 1458644\n",
      "vendor_id 2\n",
      "pickup_datetime 1380222\n",
      "dropoff_datetime 1380377\n",
      "passenger_count 10\n",
      "pickup_longitude 23047\n",
      "pickup_latitude 45245\n",
      "dropoff_longitude 33821\n",
      "dropoff_latitude 62519\n",
      "store_and_fwd_flag 2\n",
      "trip_duration 7417\n"
     ]
    }
   ],
   "source": [
    "for col in df_train.columns:\n",
    "    print (col, len(df_train[col].unique()))"
   ]
  },
  {
   "cell_type": "markdown",
   "metadata": {},
   "source": [
    "# 1. Add Feature \n",
    "# (1) Change the type of Date then add 'pick up date' feature \n",
    "# (2) Add Time feature"
   ]
  },
  {
   "cell_type": "code",
   "execution_count": 11,
   "metadata": {
    "collapsed": true
   },
   "outputs": [],
   "source": [
    "def pre_processing(df, train=True):\n",
    "    df['pickup_datetime'] = pd.to_datetime(df.pickup_datetime)\n",
    "    df['pickup_date'] = df['pickup_datetime'].dt.date\n",
    "#    df['dist'] = np.log(1+10*np.sqrt(np.square(df['pickup_longitude']-df['dropoff_longitude'])+np.square(df['pickup_latitude']-df['dropoff_latitude'])))\n",
    "    if train : \n",
    "        df['dropoff_datetime'] = pd.to_datetime(df.dropoff_datetime)\n",
    "        df['check_trip_duration'] = (df['dropoff_datetime']-df['pickup_datetime']).map(lambda x: x.total_seconds())\n",
    "        df['log_trip'] = np.log(df['trip_duration'].values+1)\n",
    "    df['store_and_fwd_flag'] = df['store_and_fwd_flag'].map({'Y':1, 'N':0})\n",
    "    \n",
    "    ## Time Processing \n",
    "    df['pick_weekday'] = df['pickup_datetime'].dt.weekday\n",
    "    df['pick_weekofyear'] = df['pickup_datetime'].dt.weekofyear\n",
    "    df['pick_hour'] = df['pickup_datetime'].dt.hour\n",
    "    df['pick_min'] = df['pickup_datetime'].dt.minute\n",
    "    df['pick_dt'] = (df['pickup_datetime'] - df['pickup_datetime'].min()).dt.total_seconds()\n",
    "    df['pick_week_hour'] = df['pick_weekday']*24+df['pick_hour']\n",
    "    \n",
    "    return df"
   ]
  },
  {
   "cell_type": "code",
   "execution_count": 12,
   "metadata": {
    "collapsed": false
   },
   "outputs": [
    {
     "data": {
      "text/html": [
       "<div>\n",
       "<table border=\"1\" class=\"dataframe\">\n",
       "  <thead>\n",
       "    <tr style=\"text-align: right;\">\n",
       "      <th></th>\n",
       "      <th>id</th>\n",
       "      <th>vendor_id</th>\n",
       "      <th>pickup_datetime</th>\n",
       "      <th>dropoff_datetime</th>\n",
       "      <th>passenger_count</th>\n",
       "      <th>pickup_longitude</th>\n",
       "      <th>pickup_latitude</th>\n",
       "      <th>dropoff_longitude</th>\n",
       "      <th>dropoff_latitude</th>\n",
       "      <th>store_and_fwd_flag</th>\n",
       "      <th>trip_duration</th>\n",
       "      <th>pickup_date</th>\n",
       "      <th>check_trip_duration</th>\n",
       "      <th>log_trip</th>\n",
       "      <th>pick_weekday</th>\n",
       "      <th>pick_weekofyear</th>\n",
       "      <th>pick_hour</th>\n",
       "      <th>pick_min</th>\n",
       "      <th>pick_dt</th>\n",
       "      <th>pick_week_hour</th>\n",
       "    </tr>\n",
       "  </thead>\n",
       "  <tbody>\n",
       "    <tr>\n",
       "      <th>0</th>\n",
       "      <td>id2875421</td>\n",
       "      <td>2</td>\n",
       "      <td>2016-03-14 17:24:55</td>\n",
       "      <td>2016-03-14 17:32:30</td>\n",
       "      <td>1</td>\n",
       "      <td>-73.982155</td>\n",
       "      <td>40.767937</td>\n",
       "      <td>-73.964630</td>\n",
       "      <td>40.765602</td>\n",
       "      <td>0</td>\n",
       "      <td>455</td>\n",
       "      <td>2016-03-14</td>\n",
       "      <td>455.0</td>\n",
       "      <td>6.122493</td>\n",
       "      <td>0</td>\n",
       "      <td>11</td>\n",
       "      <td>17</td>\n",
       "      <td>24</td>\n",
       "      <td>6369878.0</td>\n",
       "      <td>17</td>\n",
       "    </tr>\n",
       "    <tr>\n",
       "      <th>1</th>\n",
       "      <td>id2377394</td>\n",
       "      <td>1</td>\n",
       "      <td>2016-06-12 00:43:35</td>\n",
       "      <td>2016-06-12 00:54:38</td>\n",
       "      <td>1</td>\n",
       "      <td>-73.980415</td>\n",
       "      <td>40.738564</td>\n",
       "      <td>-73.999481</td>\n",
       "      <td>40.731152</td>\n",
       "      <td>0</td>\n",
       "      <td>663</td>\n",
       "      <td>2016-06-12</td>\n",
       "      <td>663.0</td>\n",
       "      <td>6.498282</td>\n",
       "      <td>6</td>\n",
       "      <td>23</td>\n",
       "      <td>0</td>\n",
       "      <td>43</td>\n",
       "      <td>14085798.0</td>\n",
       "      <td>144</td>\n",
       "    </tr>\n",
       "    <tr>\n",
       "      <th>2</th>\n",
       "      <td>id3858529</td>\n",
       "      <td>2</td>\n",
       "      <td>2016-01-19 11:35:24</td>\n",
       "      <td>2016-01-19 12:10:48</td>\n",
       "      <td>1</td>\n",
       "      <td>-73.979027</td>\n",
       "      <td>40.763939</td>\n",
       "      <td>-74.005333</td>\n",
       "      <td>40.710087</td>\n",
       "      <td>0</td>\n",
       "      <td>2124</td>\n",
       "      <td>2016-01-19</td>\n",
       "      <td>2124.0</td>\n",
       "      <td>7.661527</td>\n",
       "      <td>1</td>\n",
       "      <td>3</td>\n",
       "      <td>11</td>\n",
       "      <td>35</td>\n",
       "      <td>1596907.0</td>\n",
       "      <td>35</td>\n",
       "    </tr>\n",
       "  </tbody>\n",
       "</table>\n",
       "</div>"
      ],
      "text/plain": [
       "          id  vendor_id     pickup_datetime    dropoff_datetime  \\\n",
       "0  id2875421          2 2016-03-14 17:24:55 2016-03-14 17:32:30   \n",
       "1  id2377394          1 2016-06-12 00:43:35 2016-06-12 00:54:38   \n",
       "2  id3858529          2 2016-01-19 11:35:24 2016-01-19 12:10:48   \n",
       "\n",
       "   passenger_count  pickup_longitude  pickup_latitude  dropoff_longitude  \\\n",
       "0                1        -73.982155        40.767937         -73.964630   \n",
       "1                1        -73.980415        40.738564         -73.999481   \n",
       "2                1        -73.979027        40.763939         -74.005333   \n",
       "\n",
       "   dropoff_latitude  store_and_fwd_flag  trip_duration pickup_date  \\\n",
       "0         40.765602                   0            455  2016-03-14   \n",
       "1         40.731152                   0            663  2016-06-12   \n",
       "2         40.710087                   0           2124  2016-01-19   \n",
       "\n",
       "   check_trip_duration  log_trip  pick_weekday  pick_weekofyear  pick_hour  \\\n",
       "0                455.0  6.122493             0               11         17   \n",
       "1                663.0  6.498282             6               23          0   \n",
       "2               2124.0  7.661527             1                3         11   \n",
       "\n",
       "   pick_min     pick_dt  pick_week_hour  \n",
       "0        24   6369878.0              17  \n",
       "1        43  14085798.0             144  \n",
       "2        35   1596907.0              35  "
      ]
     },
     "execution_count": 12,
     "metadata": {},
     "output_type": "execute_result"
    }
   ],
   "source": [
    "df_train = pre_processing(df_train, train=True)\n",
    "df_test = pre_processing(df_test, train=False)\n",
    "df_train.head(3)"
   ]
  },
  {
   "cell_type": "code",
   "execution_count": 13,
   "metadata": {
    "collapsed": false
   },
   "outputs": [
    {
     "data": {
      "text/plain": [
       "(array([  3.30000000e+01,   0.00000000e+00,   1.77000000e+02,\n",
       "          0.00000000e+00,   3.18000000e+02,   0.00000000e+00,\n",
       "          3.17000000e+02,   2.84000000e+02,   1.92000000e+02,\n",
       "          2.18000000e+02,   2.06000000e+02,   4.21000000e+02,\n",
       "          1.64000000e+02,   3.14000000e+02,   4.50000000e+02,\n",
       "          2.77000000e+02,   5.24000000e+02,   4.02000000e+02,\n",
       "          4.85000000e+02,   6.11000000e+02,   5.53000000e+02,\n",
       "          8.32000000e+02,   9.16000000e+02,   1.43000000e+03,\n",
       "          1.69300000e+03,   2.84800000e+03,   4.24500000e+03,\n",
       "          6.00800000e+03,   8.77800000e+03,   1.29630000e+04,\n",
       "          1.89590000e+04,   2.64870000e+04,   3.55110000e+04,\n",
       "          4.50130000e+04,   5.88140000e+04,   6.89740000e+04,\n",
       "          8.24950000e+04,   9.34350000e+04,   1.03080000e+05,\n",
       "          1.11102000e+05,   1.12725000e+05,   1.12528000e+05,\n",
       "          1.07650000e+05,   9.74220000e+04,   8.52740000e+04,\n",
       "          7.07090000e+04,   5.56630000e+04,   4.15460000e+04,\n",
       "          2.92120000e+04,   2.03730000e+04,   1.39830000e+04,\n",
       "          8.88500000e+03,   5.48400000e+03,   3.14100000e+03,\n",
       "          1.47600000e+03,   5.90000000e+02,   2.03000000e+02,\n",
       "          8.50000000e+01,   3.80000000e+01,   2.00000000e+01,\n",
       "          2.00000000e+01,   1.10000000e+01,   4.00000000e+00,\n",
       "          5.00000000e+00,   1.10000000e+01,   1.20000000e+01,\n",
       "          1.70000000e+01,   1.50000000e+01,   1.70000000e+01,\n",
       "          1.10000000e+01,   1.20000000e+01,   2.30000000e+01,\n",
       "          1.80000000e+01,   2.06000000e+02,   1.72200000e+03,\n",
       "          0.00000000e+00,   0.00000000e+00,   0.00000000e+00,\n",
       "          0.00000000e+00,   0.00000000e+00,   0.00000000e+00,\n",
       "          0.00000000e+00,   0.00000000e+00,   0.00000000e+00,\n",
       "          0.00000000e+00,   0.00000000e+00,   0.00000000e+00,\n",
       "          0.00000000e+00,   0.00000000e+00,   0.00000000e+00,\n",
       "          0.00000000e+00,   0.00000000e+00,   0.00000000e+00,\n",
       "          0.00000000e+00,   0.00000000e+00,   1.00000000e+00,\n",
       "          2.00000000e+00,   0.00000000e+00,   0.00000000e+00,\n",
       "          1.00000000e+00]),\n",
       " array([  0.69314718,   0.83697326,   0.98079933,   1.12462541,\n",
       "          1.26845149,   1.41227757,   1.55610364,   1.69992972,\n",
       "          1.8437558 ,   1.98758188,   2.13140795,   2.27523403,\n",
       "          2.41906011,   2.56288618,   2.70671226,   2.85053834,\n",
       "          2.99436442,   3.13819049,   3.28201657,   3.42584265,\n",
       "          3.56966872,   3.7134948 ,   3.85732088,   4.00114696,\n",
       "          4.14497303,   4.28879911,   4.43262519,   4.57645126,\n",
       "          4.72027734,   4.86410342,   5.0079295 ,   5.15175557,\n",
       "          5.29558165,   5.43940773,   5.58323381,   5.72705988,\n",
       "          5.87088596,   6.01471204,   6.15853811,   6.30236419,\n",
       "          6.44619027,   6.59001635,   6.73384242,   6.8776685 ,\n",
       "          7.02149458,   7.16532065,   7.30914673,   7.45297281,\n",
       "          7.59679889,   7.74062496,   7.88445104,   8.02827712,\n",
       "          8.17210319,   8.31592927,   8.45975535,   8.60358143,\n",
       "          8.7474075 ,   8.89123358,   9.03505966,   9.17888573,\n",
       "          9.32271181,   9.46653789,   9.61036397,   9.75419004,\n",
       "          9.89801612,  10.0418422 ,  10.18566828,  10.32949435,\n",
       "         10.47332043,  10.61714651,  10.76097258,  10.90479866,\n",
       "         11.04862474,  11.19245082,  11.33627689,  11.48010297,\n",
       "         11.62392905,  11.76775512,  11.9115812 ,  12.05540728,\n",
       "         12.19923336,  12.34305943,  12.48688551,  12.63071159,\n",
       "         12.77453766,  12.91836374,  13.06218982,  13.2060159 ,\n",
       "         13.34984197,  13.49366805,  13.63749413,  13.7813202 ,\n",
       "         13.92514628,  14.06897236,  14.21279844,  14.35662451,\n",
       "         14.50045059,  14.64427667,  14.78810275,  14.93192882,  15.0757549 ]),\n",
       " <a list of 100 Patch objects>)"
      ]
     },
     "execution_count": 13,
     "metadata": {},
     "output_type": "execute_result"
    },
    {
     "data": {
      "image/png": "[encoded data removed]",
      "text/plain": [
       "<matplotlib.figure.Figure at 0x120487470>"
      ]
     },
     "metadata": {},
     "output_type": "display_data"
    }
   ],
   "source": [
    "plt.hist(df_train['log_trip'].values, bins=100)\n"
   ]
  },
  {
   "cell_type": "code",
   "execution_count": 14,
   "metadata": {
    "collapsed": false
   },
   "outputs": [
    {
     "name": "stdout",
     "output_type": "stream",
     "text": [
      "2016-06-30 2016-01-01\n",
      "2016-06-30 2016-01-01\n",
      "-61.3355293274 -121.93334198\n",
      "-69.248916626 -121.933128357\n",
      "51.8810844421 34.3596954346\n",
      "42.8149375916 37.3895874023\n",
      "-61.3355293274 -121.933303833\n",
      "-67.4967956543 -121.933326721\n",
      "43.9210281372 32.1811408997\n",
      "48.8575973511 36.6013221741\n"
     ]
    }
   ],
   "source": [
    "print (df_train['pickup_date'].max(), df_train['pickup_date'].min())\n",
    "print (df_test['pickup_date'].max(), df_test['pickup_date'].min())\n",
    "print (df_train['pickup_longitude'].max(), df_train['pickup_longitude'].min())\n",
    "print (df_test['pickup_longitude'].max(), df_test['pickup_longitude'].min())\n",
    "print (df_train['pickup_latitude'].max(), df_train['pickup_latitude'].min())\n",
    "print (df_test['pickup_latitude'].max(), df_test['pickup_latitude'].min())\n",
    "print (df_train['dropoff_longitude'].max(), df_train['dropoff_longitude'].min())\n",
    "print (df_test['dropoff_longitude'].max(), df_test['dropoff_longitude'].min())\n",
    "print (df_train['dropoff_latitude'].max(), df_train['dropoff_latitude'].min())\n",
    "print (df_test['dropoff_latitude'].max(), df_test['dropoff_latitude'].min())"
   ]
  },
  {
   "cell_type": "code",
   "execution_count": 15,
   "metadata": {
    "collapsed": false
   },
   "outputs": [
    {
     "data": {
      "image/png": "[encoded data removed]",
      "text/plain": [
       "<matplotlib.figure.Figure at 0x1212b8c18>"
      ]
     },
     "metadata": {},
     "output_type": "display_data"
    }
   ],
   "source": [
    "plt.figure(figsize=(10,8))\n",
    "plt.plot(df_train.groupby('pickup_date').count()[['id']], 'o-', label='train')\n",
    "plt.plot(df_test.groupby('pickup_date').count()[['id']], 'o-', label='test')\n",
    "plt.title('Train and test period complete overlap.')\n",
    "plt.legend(loc=0)\n",
    "plt.ylabel('number of records')\n",
    "plt.show()"
   ]
  },
  {
   "cell_type": "markdown",
   "metadata": {},
   "source": [
    "<br>The lowest pick-up call date is <br>"
   ]
  },
  {
   "cell_type": "code",
   "execution_count": 16,
   "metadata": {
    "collapsed": false
   },
   "outputs": [
    {
     "data": {
      "text/plain": [
       "id    2016-01-23\n",
       "dtype: object"
      ]
     },
     "execution_count": 16,
     "metadata": {},
     "output_type": "execute_result"
    }
   ],
   "source": [
    "df_train.groupby('pickup_date').count()[['id']].idxmin()"
   ]
  },
  {
   "cell_type": "code",
   "execution_count": 17,
   "metadata": {
    "collapsed": false
   },
   "outputs": [
    {
     "data": {
      "image/png": "[encoded data removed]",
      "text/plain": [
       "<matplotlib.figure.Figure at 0x120b40b00>"
      ]
     },
     "metadata": {},
     "output_type": "display_data"
    }
   ],
   "source": [
    "def show_pickup_location(df_train):\n",
    "    city_long_border = (-74.03, -73.75)\n",
    "    city_lat_border = (40.63, 40.85)\n",
    "    fig, ax = plt.subplots(ncols=2, sharex=True, sharey=True)\n",
    "    ax[0].scatter(df_train['pickup_longitude'].values, df_train['pickup_latitude'].values,\n",
    "                  color='blue', s=1, label='train', alpha=0.1)\n",
    "    ax[1].scatter(df_test['pickup_longitude'].values, df_test['pickup_latitude'].values,\n",
    "                  color='green', s=1, label='test', alpha=0.1)\n",
    "    fig.suptitle('Train and test area complete overlap.')\n",
    "    ax[0].legend(loc=0)\n",
    "    ax[0].set_ylabel('latitude')\n",
    "    ax[0].set_xlabel('longitude')\n",
    "    ax[1].set_xlabel('longitude')\n",
    "    ax[1].legend(loc=0)\n",
    "    plt.ylim(city_lat_border)\n",
    "    plt.xlim(city_long_border)\n",
    "    plt.show() \n",
    "    \n",
    "show_pickup_location(df_train)"
   ]
  },
  {
   "cell_type": "code",
   "execution_count": 18,
   "metadata": {
    "collapsed": true
   },
   "outputs": [],
   "source": [
    "def pca_transform(df_train, df_test):\n",
    "    \n",
    "    from sklearn.decomposition import PCA\n",
    "    \n",
    "    coords = np.vstack((df_train[['pickup_latitude', 'pickup_longitude']].values,\n",
    "                    df_train[['dropoff_latitude', 'dropoff_longitude']].values,\n",
    "                    df_test[['pickup_latitude', 'pickup_longitude']].values,\n",
    "                    df_test[['dropoff_latitude', 'dropoff_longitude']].values))\n",
    "    \n",
    "    pca = PCA()\n",
    "    \n",
    "    print (pca)\n",
    "    pca.fit(coords)\n",
    "    \n",
    "    df_train['pickup_pca0'] = pca.transform(df_train[['pickup_latitude', 'pickup_longitude']])[:, 0]\n",
    "    df_train['pickup_pca1'] = pca.transform(df_train[['pickup_latitude', 'pickup_longitude']])[:, 1]\n",
    "    df_train['dropoff_pca0'] = pca.transform(df_train[['dropoff_latitude', 'dropoff_longitude']])[:, 0]\n",
    "    df_train['dropoff_pca1'] = pca.transform(df_train[['dropoff_latitude', 'dropoff_longitude']])[:, 1]\n",
    "    df_test['pickup_pca0'] = pca.transform(df_test[['pickup_latitude', 'pickup_longitude']])[:, 0]\n",
    "    df_test['pickup_pca1'] = pca.transform(df_test[['pickup_latitude', 'pickup_longitude']])[:, 1]\n",
    "    df_test['dropoff_pca0'] = pca.transform(df_test[['dropoff_latitude', 'dropoff_longitude']])[:, 0]\n",
    "    df_test['dropoff_pca1'] = pca.transform(df_test[['dropoff_latitude', 'dropoff_longitude']])[:, 1]\n",
    "    \n",
    "    return df_train, df_test"
   ]
  },
  {
   "cell_type": "code",
   "execution_count": 19,
   "metadata": {
    "collapsed": false
   },
   "outputs": [
    {
     "name": "stdout",
     "output_type": "stream",
     "text": [
      "PCA(copy=True, iterated_power='auto', n_components=None, random_state=None,\n",
      "  svd_solver='auto', tol=0.0, whiten=False)\n"
     ]
    },
    {
     "data": {
      "text/html": [
       "<div>\n",
       "<table border=\"1\" class=\"dataframe\">\n",
       "  <thead>\n",
       "    <tr style=\"text-align: right;\">\n",
       "      <th></th>\n",
       "      <th>id</th>\n",
       "      <th>vendor_id</th>\n",
       "      <th>pickup_datetime</th>\n",
       "      <th>dropoff_datetime</th>\n",
       "      <th>passenger_count</th>\n",
       "      <th>pickup_longitude</th>\n",
       "      <th>pickup_latitude</th>\n",
       "      <th>dropoff_longitude</th>\n",
       "      <th>dropoff_latitude</th>\n",
       "      <th>store_and_fwd_flag</th>\n",
       "      <th>trip_duration</th>\n",
       "      <th>pickup_date</th>\n",
       "      <th>check_trip_duration</th>\n",
       "      <th>log_trip</th>\n",
       "      <th>pick_weekday</th>\n",
       "      <th>pick_weekofyear</th>\n",
       "      <th>pick_hour</th>\n",
       "      <th>pick_min</th>\n",
       "      <th>pick_dt</th>\n",
       "      <th>pick_week_hour</th>\n",
       "      <th>pickup_pca0</th>\n",
       "      <th>pickup_pca1</th>\n",
       "      <th>dropoff_pca0</th>\n",
       "      <th>dropoff_pca1</th>\n",
       "    </tr>\n",
       "  </thead>\n",
       "  <tbody>\n",
       "    <tr>\n",
       "      <th>0</th>\n",
       "      <td>id2875421</td>\n",
       "      <td>2</td>\n",
       "      <td>2016-03-14 17:24:55</td>\n",
       "      <td>2016-03-14 17:32:30</td>\n",
       "      <td>1</td>\n",
       "      <td>-73.982155</td>\n",
       "      <td>40.767937</td>\n",
       "      <td>-73.964630</td>\n",
       "      <td>40.765602</td>\n",
       "      <td>0</td>\n",
       "      <td>455</td>\n",
       "      <td>2016-03-14</td>\n",
       "      <td>455.0</td>\n",
       "      <td>6.122493</td>\n",
       "      <td>0</td>\n",
       "      <td>11</td>\n",
       "      <td>17</td>\n",
       "      <td>24</td>\n",
       "      <td>6369878.0</td>\n",
       "      <td>17</td>\n",
       "      <td>0.007691</td>\n",
       "      <td>0.017053</td>\n",
       "      <td>-0.009666</td>\n",
       "      <td>0.013695</td>\n",
       "    </tr>\n",
       "    <tr>\n",
       "      <th>1</th>\n",
       "      <td>id2377394</td>\n",
       "      <td>1</td>\n",
       "      <td>2016-06-12 00:43:35</td>\n",
       "      <td>2016-06-12 00:54:38</td>\n",
       "      <td>1</td>\n",
       "      <td>-73.980415</td>\n",
       "      <td>40.738564</td>\n",
       "      <td>-73.999481</td>\n",
       "      <td>40.731152</td>\n",
       "      <td>0</td>\n",
       "      <td>663</td>\n",
       "      <td>2016-06-12</td>\n",
       "      <td>663.0</td>\n",
       "      <td>6.498282</td>\n",
       "      <td>6</td>\n",
       "      <td>23</td>\n",
       "      <td>0</td>\n",
       "      <td>43</td>\n",
       "      <td>14085798.0</td>\n",
       "      <td>144</td>\n",
       "      <td>0.007677</td>\n",
       "      <td>-0.012371</td>\n",
       "      <td>0.027145</td>\n",
       "      <td>-0.018652</td>\n",
       "    </tr>\n",
       "    <tr>\n",
       "      <th>2</th>\n",
       "      <td>id3858529</td>\n",
       "      <td>2</td>\n",
       "      <td>2016-01-19 11:35:24</td>\n",
       "      <td>2016-01-19 12:10:48</td>\n",
       "      <td>1</td>\n",
       "      <td>-73.979027</td>\n",
       "      <td>40.763939</td>\n",
       "      <td>-74.005333</td>\n",
       "      <td>40.710087</td>\n",
       "      <td>0</td>\n",
       "      <td>2124</td>\n",
       "      <td>2016-01-19</td>\n",
       "      <td>2124.0</td>\n",
       "      <td>7.661527</td>\n",
       "      <td>1</td>\n",
       "      <td>3</td>\n",
       "      <td>11</td>\n",
       "      <td>35</td>\n",
       "      <td>1596907.0</td>\n",
       "      <td>35</td>\n",
       "      <td>0.004803</td>\n",
       "      <td>0.012879</td>\n",
       "      <td>0.034222</td>\n",
       "      <td>-0.039337</td>\n",
       "    </tr>\n",
       "  </tbody>\n",
       "</table>\n",
       "</div>"
      ],
      "text/plain": [
       "          id  vendor_id     pickup_datetime    dropoff_datetime  \\\n",
       "0  id2875421          2 2016-03-14 17:24:55 2016-03-14 17:32:30   \n",
       "1  id2377394          1 2016-06-12 00:43:35 2016-06-12 00:54:38   \n",
       "2  id3858529          2 2016-01-19 11:35:24 2016-01-19 12:10:48   \n",
       "\n",
       "   passenger_count  pickup_longitude  pickup_latitude  dropoff_longitude  \\\n",
       "0                1        -73.982155        40.767937         -73.964630   \n",
       "1                1        -73.980415        40.738564         -73.999481   \n",
       "2                1        -73.979027        40.763939         -74.005333   \n",
       "\n",
       "   dropoff_latitude  store_and_fwd_flag  trip_duration pickup_date  \\\n",
       "0         40.765602                   0            455  2016-03-14   \n",
       "1         40.731152                   0            663  2016-06-12   \n",
       "2         40.710087                   0           2124  2016-01-19   \n",
       "\n",
       "   check_trip_duration  log_trip  pick_weekday  pick_weekofyear  pick_hour  \\\n",
       "0                455.0  6.122493             0               11         17   \n",
       "1                663.0  6.498282             6               23          0   \n",
       "2               2124.0  7.661527             1                3         11   \n",
       "\n",
       "   pick_min     pick_dt  pick_week_hour  pickup_pca0  pickup_pca1  \\\n",
       "0        24   6369878.0              17     0.007691     0.017053   \n",
       "1        43  14085798.0             144     0.007677    -0.012371   \n",
       "2        35   1596907.0              35     0.004803     0.012879   \n",
       "\n",
       "   dropoff_pca0  dropoff_pca1  \n",
       "0     -0.009666      0.013695  \n",
       "1      0.027145     -0.018652  \n",
       "2      0.034222     -0.039337  "
      ]
     },
     "execution_count": 19,
     "metadata": {},
     "output_type": "execute_result"
    }
   ],
   "source": [
    "df_train, df_test = pca_transform(df_train, df_test)\n",
    "df_train.head(3)\n",
    "\n",
    "    "
   ]
  },
  {
   "cell_type": "code",
   "execution_count": 20,
   "metadata": {
    "collapsed": false
   },
   "outputs": [
    {
     "data": {
      "text/plain": [
       "count    1.458644e+06\n",
       "mean     3.560932e-05\n",
       "std      7.084957e-02\n",
       "min     -1.244609e+01\n",
       "25%     -7.260550e-03\n",
       "50%      7.727282e-03\n",
       "75%      1.890063e-02\n",
       "max      4.807449e+01\n",
       "Name: pickup_pca0, dtype: float64"
      ]
     },
     "execution_count": 20,
     "metadata": {},
     "output_type": "execute_result"
    }
   ],
   "source": [
    "df_train['pickup_pca0'].describe()"
   ]
  },
  {
   "cell_type": "code",
   "execution_count": 21,
   "metadata": {
    "collapsed": true
   },
   "outputs": [],
   "source": [
    "city_lat_border = (df_train['pickup_pca0'].describe()['25%'], df_train['pickup_pca0'].describe()['75%'])"
   ]
  },
  {
   "cell_type": "code",
   "execution_count": 22,
   "metadata": {
    "collapsed": false
   },
   "outputs": [
    {
     "data": {
      "text/plain": [
       "count    1.458644e+06\n",
       "mean    -4.414311e-04\n",
       "std      3.299371e-02\n",
       "min     -6.857210e+00\n",
       "25%     -1.295075e-02\n",
       "50%      3.063014e-03\n",
       "75%      1.588978e-02\n",
       "max      1.104230e+01\n",
       "Name: pickup_pca1, dtype: float64"
      ]
     },
     "execution_count": 22,
     "metadata": {},
     "output_type": "execute_result"
    }
   ],
   "source": [
    "df_train['pickup_pca1'].describe()"
   ]
  },
  {
   "cell_type": "code",
   "execution_count": 23,
   "metadata": {
    "collapsed": true
   },
   "outputs": [],
   "source": [
    "city_long_border = (df_train['pickup_pca1'].describe()['25%'], df_train['pickup_pca1'].describe()['75%'])"
   ]
  },
  {
   "cell_type": "code",
   "execution_count": 24,
   "metadata": {
    "collapsed": false
   },
   "outputs": [
    {
     "data": {
      "image/png": "[encoded data removed]",
      "text/plain": [
       "<matplotlib.figure.Figure at 0x12d2ce588>"
      ]
     },
     "metadata": {},
     "output_type": "display_data"
    }
   ],
   "source": [
    "fig, ax = plt.subplots(ncols=2, sharex=True, sharey=True)\n",
    "ax[0].scatter(df_train['pickup_pca1'].values, df_train['pickup_pca0'].values,\n",
    "              color='blue', s=1, label='train', alpha=0.1)\n",
    "ax[1].scatter(df_test['pickup_pca1'].values, df_test['pickup_pca0'].values,\n",
    "              color='green', s=1, label='test', alpha=0.1)\n",
    "fig.suptitle('Train and test area complete overlap.')\n",
    "ax[0].legend(loc=0)\n",
    "ax[0].set_ylabel('latitude')\n",
    "ax[0].set_xlabel('longitude')\n",
    "ax[1].set_xlabel('longitude')\n",
    "ax[1].legend(loc=0)\n",
    "plt.ylim(city_lat_border)\n",
    "plt.xlim(city_long_border)\n",
    "plt.show() "
   ]
  },
  {
   "cell_type": "code",
   "execution_count": 25,
   "metadata": {
    "collapsed": true
   },
   "outputs": [],
   "source": [
    "def haversine_dist(lat1, long1, lat2, long2):\n",
    "    \n",
    "    \n",
    "    lat1, long1, lat2, long2 = map(np.radians, (lat1, long1, lat2, long2))\n",
    "    \n",
    "    earth_r = 6371  # km \n",
    "    \n",
    "    delta_lat = lat2 - lat1\n",
    "    delta_long = long2 - long1\n",
    "    \n",
    "    a = np.sin(delta_lat/2.0)**2 + np.cos(lat1)*np.cos(lat2)*np.sin(delta_long/2.0)**2\n",
    "    \n",
    "    dist = 2* earth_r * np.arcsin(np.sqrt(a))\n",
    "    \n",
    "    return dist \n",
    "\n",
    "def pitagorian_square_dist(lat1, long1, lat2, long2):\n",
    "    \n",
    "    return (haversine_dist(lat1, long1, lat1, long2)+haversine_dist(lat1, long1, lat2, long1))"
   ]
  },
  {
   "cell_type": "code",
   "execution_count": 26,
   "metadata": {
    "collapsed": true
   },
   "outputs": [],
   "source": [
    "def feature_engineering(df, train=True):\n",
    "    df['h_dist'] = haversine_dist(df['pickup_latitude'], df['pickup_longitude'], df['dropoff_latitude'], df['dropoff_longitude'])\n",
    "    df['square_dist'] = pitagorian_square_dist(df['pickup_latitude'], df['pickup_longitude'], df['dropoff_latitude'], df['dropoff_longitude'])\n",
    "    \n",
    "    df['center_latitude'] = (df['pickup_latitude'].values + df['dropoff_latitude'].values) / 2\n",
    "    df['center_longitude'] = (df['pickup_longitude'].values + df['dropoff_longitude'].values) / 2\n",
    "\n",
    "    if train : \n",
    "        df['avg_speed_kmh'] = df['h_dist'] / (df['trip_duration']/3600.0)\n",
    "        df['avg_speed_square_kmh'] = df['square_dist'] / (df['trip_duration']/3600.0)\n",
    "    \n",
    "    return df\n",
    "\n",
    "df_train = feature_engineering(df_train, train=True)\n",
    "df_test = feature_engineering(df_test, train=False)"
   ]
  },
  {
   "cell_type": "code",
   "execution_count": 27,
   "metadata": {
    "collapsed": false
   },
   "outputs": [
    {
     "data": {
      "text/html": [
       "<div>\n",
       "<table border=\"1\" class=\"dataframe\">\n",
       "  <thead>\n",
       "    <tr style=\"text-align: right;\">\n",
       "      <th></th>\n",
       "      <th>id</th>\n",
       "      <th>vendor_id</th>\n",
       "      <th>pickup_datetime</th>\n",
       "      <th>dropoff_datetime</th>\n",
       "      <th>passenger_count</th>\n",
       "      <th>pickup_longitude</th>\n",
       "      <th>pickup_latitude</th>\n",
       "      <th>dropoff_longitude</th>\n",
       "      <th>dropoff_latitude</th>\n",
       "      <th>store_and_fwd_flag</th>\n",
       "      <th>trip_duration</th>\n",
       "      <th>pickup_date</th>\n",
       "      <th>check_trip_duration</th>\n",
       "      <th>log_trip</th>\n",
       "      <th>pick_weekday</th>\n",
       "      <th>pick_weekofyear</th>\n",
       "      <th>pick_hour</th>\n",
       "      <th>pick_min</th>\n",
       "      <th>pick_dt</th>\n",
       "      <th>pick_week_hour</th>\n",
       "      <th>pickup_pca0</th>\n",
       "      <th>pickup_pca1</th>\n",
       "      <th>dropoff_pca0</th>\n",
       "      <th>dropoff_pca1</th>\n",
       "      <th>h_dist</th>\n",
       "      <th>square_dist</th>\n",
       "      <th>center_latitude</th>\n",
       "      <th>center_longitude</th>\n",
       "      <th>avg_speed_kmh</th>\n",
       "      <th>avg_speed_square_kmh</th>\n",
       "    </tr>\n",
       "  </thead>\n",
       "  <tbody>\n",
       "    <tr>\n",
       "      <th>0</th>\n",
       "      <td>id2875421</td>\n",
       "      <td>2</td>\n",
       "      <td>2016-03-14 17:24:55</td>\n",
       "      <td>2016-03-14 17:32:30</td>\n",
       "      <td>1</td>\n",
       "      <td>-73.982155</td>\n",
       "      <td>40.767937</td>\n",
       "      <td>-73.964630</td>\n",
       "      <td>40.765602</td>\n",
       "      <td>0</td>\n",
       "      <td>455</td>\n",
       "      <td>2016-03-14</td>\n",
       "      <td>455.0</td>\n",
       "      <td>6.122493</td>\n",
       "      <td>0</td>\n",
       "      <td>11</td>\n",
       "      <td>17</td>\n",
       "      <td>24</td>\n",
       "      <td>6369878.0</td>\n",
       "      <td>17</td>\n",
       "      <td>0.007691</td>\n",
       "      <td>0.017053</td>\n",
       "      <td>-0.009666</td>\n",
       "      <td>0.013695</td>\n",
       "      <td>1.498521</td>\n",
       "      <td>1.735433</td>\n",
       "      <td>40.766769</td>\n",
       "      <td>-73.973392</td>\n",
       "      <td>11.856428</td>\n",
       "      <td>13.730901</td>\n",
       "    </tr>\n",
       "    <tr>\n",
       "      <th>1</th>\n",
       "      <td>id2377394</td>\n",
       "      <td>1</td>\n",
       "      <td>2016-06-12 00:43:35</td>\n",
       "      <td>2016-06-12 00:54:38</td>\n",
       "      <td>1</td>\n",
       "      <td>-73.980415</td>\n",
       "      <td>40.738564</td>\n",
       "      <td>-73.999481</td>\n",
       "      <td>40.731152</td>\n",
       "      <td>0</td>\n",
       "      <td>663</td>\n",
       "      <td>2016-06-12</td>\n",
       "      <td>663.0</td>\n",
       "      <td>6.498282</td>\n",
       "      <td>6</td>\n",
       "      <td>23</td>\n",
       "      <td>0</td>\n",
       "      <td>43</td>\n",
       "      <td>14085798.0</td>\n",
       "      <td>144</td>\n",
       "      <td>0.007677</td>\n",
       "      <td>-0.012371</td>\n",
       "      <td>0.027145</td>\n",
       "      <td>-0.018652</td>\n",
       "      <td>1.805507</td>\n",
       "      <td>2.430506</td>\n",
       "      <td>40.734858</td>\n",
       "      <td>-73.989948</td>\n",
       "      <td>9.803659</td>\n",
       "      <td>13.197318</td>\n",
       "    </tr>\n",
       "    <tr>\n",
       "      <th>2</th>\n",
       "      <td>id3858529</td>\n",
       "      <td>2</td>\n",
       "      <td>2016-01-19 11:35:24</td>\n",
       "      <td>2016-01-19 12:10:48</td>\n",
       "      <td>1</td>\n",
       "      <td>-73.979027</td>\n",
       "      <td>40.763939</td>\n",
       "      <td>-74.005333</td>\n",
       "      <td>40.710087</td>\n",
       "      <td>0</td>\n",
       "      <td>2124</td>\n",
       "      <td>2016-01-19</td>\n",
       "      <td>2124.0</td>\n",
       "      <td>7.661527</td>\n",
       "      <td>1</td>\n",
       "      <td>3</td>\n",
       "      <td>11</td>\n",
       "      <td>35</td>\n",
       "      <td>1596907.0</td>\n",
       "      <td>35</td>\n",
       "      <td>0.004803</td>\n",
       "      <td>0.012879</td>\n",
       "      <td>0.034222</td>\n",
       "      <td>-0.039337</td>\n",
       "      <td>6.385098</td>\n",
       "      <td>8.203575</td>\n",
       "      <td>40.737013</td>\n",
       "      <td>-73.992180</td>\n",
       "      <td>10.822201</td>\n",
       "      <td>13.904365</td>\n",
       "    </tr>\n",
       "  </tbody>\n",
       "</table>\n",
       "</div>"
      ],
      "text/plain": [
       "          id  vendor_id     pickup_datetime    dropoff_datetime  \\\n",
       "0  id2875421          2 2016-03-14 17:24:55 2016-03-14 17:32:30   \n",
       "1  id2377394          1 2016-06-12 00:43:35 2016-06-12 00:54:38   \n",
       "2  id3858529          2 2016-01-19 11:35:24 2016-01-19 12:10:48   \n",
       "\n",
       "   passenger_count  pickup_longitude  pickup_latitude  dropoff_longitude  \\\n",
       "0                1        -73.982155        40.767937         -73.964630   \n",
       "1                1        -73.980415        40.738564         -73.999481   \n",
       "2                1        -73.979027        40.763939         -74.005333   \n",
       "\n",
       "   dropoff_latitude  store_and_fwd_flag  trip_duration pickup_date  \\\n",
       "0         40.765602                   0            455  2016-03-14   \n",
       "1         40.731152                   0            663  2016-06-12   \n",
       "2         40.710087                   0           2124  2016-01-19   \n",
       "\n",
       "   check_trip_duration  log_trip  pick_weekday  pick_weekofyear  pick_hour  \\\n",
       "0                455.0  6.122493             0               11         17   \n",
       "1                663.0  6.498282             6               23          0   \n",
       "2               2124.0  7.661527             1                3         11   \n",
       "\n",
       "   pick_min     pick_dt  pick_week_hour  pickup_pca0  pickup_pca1  \\\n",
       "0        24   6369878.0              17     0.007691     0.017053   \n",
       "1        43  14085798.0             144     0.007677    -0.012371   \n",
       "2        35   1596907.0              35     0.004803     0.012879   \n",
       "\n",
       "   dropoff_pca0  dropoff_pca1    h_dist  square_dist  center_latitude  \\\n",
       "0     -0.009666      0.013695  1.498521     1.735433        40.766769   \n",
       "1      0.027145     -0.018652  1.805507     2.430506        40.734858   \n",
       "2      0.034222     -0.039337  6.385098     8.203575        40.737013   \n",
       "\n",
       "   center_longitude  avg_speed_kmh  avg_speed_square_kmh  \n",
       "0        -73.973392      11.856428             13.730901  \n",
       "1        -73.989948       9.803659             13.197318  \n",
       "2        -73.992180      10.822201             13.904365  "
      ]
     },
     "execution_count": 27,
     "metadata": {},
     "output_type": "execute_result"
    }
   ],
   "source": [
    "df_train.head(3)"
   ]
  },
  {
   "cell_type": "code",
   "execution_count": 28,
   "metadata": {
    "collapsed": false
   },
   "outputs": [
    {
     "data": {
      "image/png": "[encoded data removed]",
      "text/plain": [
       "<matplotlib.figure.Figure at 0x14ef95a58>"
      ]
     },
     "metadata": {},
     "output_type": "display_data"
    }
   ],
   "source": [
    "#fig = plt.figure(figsize=(8,10))\n",
    "fig, ax = plt.subplots(figsize=(12,5), ncols=3, sharey=True)\n",
    "ax[0].plot(df_train.groupby('pick_hour').mean()['avg_speed_kmh'], 'bo-', lw=2, alpha=0.7)\n",
    "ax[1].plot(df_train.groupby('pick_weekday').mean()['avg_speed_kmh'], 'go-', lw=2, alpha=0.7)\n",
    "ax[2].plot(df_train.groupby('pick_week_hour').mean()['avg_speed_kmh'], 'ro-', lw=2, alpha=0.7)\n",
    "ax[0].set_xlabel('hour')\n",
    "ax[1].set_xlabel('weekday')\n",
    "ax[2].set_xlabel('weekhour')\n",
    "ax[0].set_ylabel('average speed')\n",
    "fig.suptitle('Rush hour average traffic speed')\n",
    "plt.show()"
   ]
  },
  {
   "cell_type": "code",
   "execution_count": 35,
   "metadata": {
    "collapsed": true
   },
   "outputs": [],
   "source": [
    "from sklearn.model_selection import train_test_split\n",
    "from sklearn.linear_model import LogisticRegression\n",
    "from sklearn.ensemble import RandomForestRegressor\n",
    "from sklearn.svm import SVR\n",
    "from sklearn.preprocessing import StandardScaler\n",
    "from sklearn.model_selection import cross_val_score\n",
    "from sklearn.model_selection import GridSearchCV"
   ]
  },
  {
   "cell_type": "code",
   "execution_count": 30,
   "metadata": {
    "collapsed": true
   },
   "outputs": [],
   "source": [
    "X = df_train[['pick_weekday', 'pick_weekofyear', 'pick_hour', 'pick_min',\n",
    "             'pick_dt', 'pickup_pca0', 'pickup_pca1', 'dropoff_pca0', 'dropoff_pca1', 'h_dist']]\n",
    "y = df_train['log_trip']"
   ]
  },
  {
   "cell_type": "code",
   "execution_count": 31,
   "metadata": {
    "collapsed": false
   },
   "outputs": [
    {
     "data": {
      "text/html": [
       "<div>\n",
       "<table border=\"1\" class=\"dataframe\">\n",
       "  <thead>\n",
       "    <tr style=\"text-align: right;\">\n",
       "      <th></th>\n",
       "      <th>pick_weekday</th>\n",
       "      <th>pick_weekofyear</th>\n",
       "      <th>pick_hour</th>\n",
       "      <th>pick_min</th>\n",
       "      <th>pick_dt</th>\n",
       "      <th>pickup_pca0</th>\n",
       "      <th>pickup_pca1</th>\n",
       "      <th>dropoff_pca0</th>\n",
       "      <th>dropoff_pca1</th>\n",
       "      <th>h_dist</th>\n",
       "    </tr>\n",
       "  </thead>\n",
       "  <tbody>\n",
       "    <tr>\n",
       "      <th>0</th>\n",
       "      <td>0</td>\n",
       "      <td>11</td>\n",
       "      <td>17</td>\n",
       "      <td>24</td>\n",
       "      <td>6369878.0</td>\n",
       "      <td>0.007691</td>\n",
       "      <td>0.017053</td>\n",
       "      <td>-0.009666</td>\n",
       "      <td>0.013695</td>\n",
       "      <td>1.498521</td>\n",
       "    </tr>\n",
       "    <tr>\n",
       "      <th>1</th>\n",
       "      <td>6</td>\n",
       "      <td>23</td>\n",
       "      <td>0</td>\n",
       "      <td>43</td>\n",
       "      <td>14085798.0</td>\n",
       "      <td>0.007677</td>\n",
       "      <td>-0.012371</td>\n",
       "      <td>0.027145</td>\n",
       "      <td>-0.018652</td>\n",
       "      <td>1.805507</td>\n",
       "    </tr>\n",
       "    <tr>\n",
       "      <th>2</th>\n",
       "      <td>1</td>\n",
       "      <td>3</td>\n",
       "      <td>11</td>\n",
       "      <td>35</td>\n",
       "      <td>1596907.0</td>\n",
       "      <td>0.004803</td>\n",
       "      <td>0.012879</td>\n",
       "      <td>0.034222</td>\n",
       "      <td>-0.039337</td>\n",
       "      <td>6.385098</td>\n",
       "    </tr>\n",
       "  </tbody>\n",
       "</table>\n",
       "</div>"
      ],
      "text/plain": [
       "   pick_weekday  pick_weekofyear  pick_hour  pick_min     pick_dt  \\\n",
       "0             0               11         17        24   6369878.0   \n",
       "1             6               23          0        43  14085798.0   \n",
       "2             1                3         11        35   1596907.0   \n",
       "\n",
       "   pickup_pca0  pickup_pca1  dropoff_pca0  dropoff_pca1    h_dist  \n",
       "0     0.007691     0.017053     -0.009666      0.013695  1.498521  \n",
       "1     0.007677    -0.012371      0.027145     -0.018652  1.805507  \n",
       "2     0.004803     0.012879      0.034222     -0.039337  6.385098  "
      ]
     },
     "execution_count": 31,
     "metadata": {},
     "output_type": "execute_result"
    }
   ],
   "source": [
    "X.head(3)"
   ]
  },
  {
   "cell_type": "code",
   "execution_count": 32,
   "metadata": {
    "collapsed": true
   },
   "outputs": [],
   "source": [
    "X_train, X_valid, y_train, y_valid = train_test_split(X, y, random_state=42)"
   ]
  },
  {
   "cell_type": "code",
   "execution_count": 33,
   "metadata": {
    "collapsed": true
   },
   "outputs": [],
   "source": [
    "scaler = StandardScaler()\n",
    "scaler.fit(X_train)\n",
    "\n",
    "X_train_scaled = scaler.transform(X_train)\n",
    "X_valid_scaled = scaler.transform(X_valid)"
   ]
  },
  {
   "cell_type": "code",
   "execution_count": 36,
   "metadata": {
    "collapsed": false
   },
   "outputs": [],
   "source": [
    "logit_clf = LogisticRegression()\n",
    "rf_clf = RandomForestRegressor(random_state=42)\n",
    "svr_clf = SVR(kernel='rbf')"
   ]
  },
  {
   "cell_type": "code",
   "execution_count": 37,
   "metadata": {
    "collapsed": false
   },
   "outputs": [
    {
     "name": "stderr",
     "output_type": "stream",
     "text": [
      "[Parallel(n_jobs=-1)]: Done   6 out of  10 | elapsed:  4.3min remaining:  2.9min\n",
      "[Parallel(n_jobs=-1)]: Done  10 out of  10 | elapsed:  6.5min finished\n"
     ]
    },
    {
     "data": {
      "text/plain": [
       "array([ 0.41861182,  0.42288019,  0.42847302,  0.43264532,  0.42703263,\n",
       "        0.42898718,  0.43545589,  0.43075701,  0.42824281,  0.42700484])"
      ]
     },
     "execution_count": 37,
     "metadata": {},
     "output_type": "execute_result"
    }
   ],
   "source": [
    "scores = cross_val_score(rf_clf, X_train_scaled, y_train,\n",
    "                         scoring=\"neg_mean_squared_error\", cv=10,  n_jobs=-1, verbose = 1 )\n",
    "cross_val_scores = np.sqrt(-scores)\n",
    "cross_val_scores"
   ]
  },
  {
   "cell_type": "code",
   "execution_count": 38,
   "metadata": {
    "collapsed": false
   },
   "outputs": [
    {
     "data": {
      "text/plain": [
       "6.466982938342501"
      ]
     },
     "execution_count": 38,
     "metadata": {},
     "output_type": "execute_result"
    }
   ],
   "source": [
    "np.mean(y_train)"
   ]
  },
  {
   "cell_type": "code",
   "execution_count": 39,
   "metadata": {
    "collapsed": true
   },
   "outputs": [],
   "source": [
    "error = cross_val_scores / np.mean(y_train)"
   ]
  },
  {
   "cell_type": "code",
   "execution_count": 40,
   "metadata": {
    "collapsed": false
   },
   "outputs": [
    {
     "data": {
      "text/plain": [
       "array([ 0.06473062,  0.06539065,  0.06625547,  0.06690064,  0.06603274,\n",
       "        0.06633498,  0.06733525,  0.06660865,  0.06621988,  0.06602845])"
      ]
     },
     "execution_count": 40,
     "metadata": {},
     "output_type": "execute_result"
    }
   ],
   "source": [
    "error"
   ]
  },
  {
   "cell_type": "code",
   "execution_count": 42,
   "metadata": {
    "collapsed": true
   },
   "outputs": [],
   "source": [
    "param_grid = [\n",
    "    # try 12 (3×4) combinations of hyperparameters\n",
    "    {'n_estimators': [3, 10, 30], 'max_features': [2, 4, 6, 8]},\n",
    "]\n",
    "\n"
   ]
  },
  {
   "cell_type": "code",
   "execution_count": 46,
   "metadata": {
    "collapsed": true
   },
   "outputs": [],
   "source": [
    "grid_search = GridSearchCV(rf_clf, param_grid, cv=5,\n",
    "                           scoring='neg_mean_squared_error', n_jobs=-1, verbose = 1)"
   ]
  },
  {
   "cell_type": "code",
   "execution_count": 47,
   "metadata": {
    "collapsed": false
   },
   "outputs": [
    {
     "name": "stdout",
     "output_type": "stream",
     "text": [
      "Fitting 5 folds for each of 12 candidates, totalling 60 fits\n"
     ]
    },
    {
     "name": "stderr",
     "output_type": "stream",
     "text": [
      "[Parallel(n_jobs=-1)]: Done  34 tasks      | elapsed:  9.7min\n",
      "[Parallel(n_jobs=-1)]: Done  60 out of  60 | elapsed: 24.7min finished\n"
     ]
    },
    {
     "data": {
      "text/plain": [
       "GridSearchCV(cv=5, error_score='raise',\n",
       "       estimator=RandomForestRegressor(bootstrap=True, criterion='mse', max_depth=None,\n",
       "           max_features='auto', max_leaf_nodes=None,\n",
       "           min_impurity_split=1e-07, min_samples_leaf=1,\n",
       "           min_samples_split=2, min_weight_fraction_leaf=0.0,\n",
       "           n_estimators=10, n_jobs=1, oob_score=False, random_state=42,\n",
       "           verbose=0, warm_start=False),\n",
       "       fit_params={}, iid=True, n_jobs=-1,\n",
       "       param_grid=[{'n_estimators': [3, 10, 30], 'max_features': [2, 4, 6, 8]}],\n",
       "       pre_dispatch='2*n_jobs', refit=True, return_train_score=True,\n",
       "       scoring='neg_mean_squared_error', verbose=1)"
      ]
     },
     "execution_count": 47,
     "metadata": {},
     "output_type": "execute_result"
    }
   ],
   "source": [
    "grid_search.fit(X_train_scaled, y_train)"
   ]
  },
  {
   "cell_type": "markdown",
   "metadata": {},
   "source": [
    "# Total error of Validation "
   ]
  },
  {
   "cell_type": "code",
   "execution_count": 51,
   "metadata": {
    "collapsed": false
   },
   "outputs": [
    {
     "data": {
      "text/plain": [
       "0.40850864679393784"
      ]
     },
     "execution_count": 51,
     "metadata": {},
     "output_type": "execute_result"
    }
   ],
   "source": [
    "np.sqrt(-grid_search.score(X_valid_scaled, y_valid))"
   ]
  },
  {
   "cell_type": "code",
   "execution_count": 52,
   "metadata": {
    "collapsed": false
   },
   "outputs": [
    {
     "data": {
      "text/plain": [
       "{'max_features': 4, 'n_estimators': 30}"
      ]
     },
     "execution_count": 52,
     "metadata": {},
     "output_type": "execute_result"
    }
   ],
   "source": [
    "grid_search.best_params_\n"
   ]
  },
  {
   "cell_type": "code",
   "execution_count": 53,
   "metadata": {
    "collapsed": true
   },
   "outputs": [],
   "source": [
    "y_valid_predicted = grid_search.predict(X_valid_scaled)"
   ]
  },
  {
   "cell_type": "code",
   "execution_count": 54,
   "metadata": {
    "collapsed": true
   },
   "outputs": [],
   "source": [
    "df_valid = pd.DataFrame(index=y_valid.index)\n"
   ]
  },
  {
   "cell_type": "code",
   "execution_count": 55,
   "metadata": {
    "collapsed": false
   },
   "outputs": [
    {
     "data": {
      "text/html": [
       "<div>\n",
       "<table border=\"1\" class=\"dataframe\">\n",
       "  <thead>\n",
       "    <tr style=\"text-align: right;\">\n",
       "      <th></th>\n",
       "      <th>label</th>\n",
       "      <th>prediced</th>\n",
       "    </tr>\n",
       "  </thead>\n",
       "  <tbody>\n",
       "    <tr>\n",
       "      <th>67250</th>\n",
       "      <td>6.947937</td>\n",
       "      <td>6.626020</td>\n",
       "    </tr>\n",
       "    <tr>\n",
       "      <th>1397036</th>\n",
       "      <td>6.719013</td>\n",
       "      <td>6.652119</td>\n",
       "    </tr>\n",
       "    <tr>\n",
       "      <th>1021087</th>\n",
       "      <td>6.421622</td>\n",
       "      <td>5.843581</td>\n",
       "    </tr>\n",
       "    <tr>\n",
       "      <th>951424</th>\n",
       "      <td>6.766192</td>\n",
       "      <td>6.854675</td>\n",
       "    </tr>\n",
       "    <tr>\n",
       "      <th>707882</th>\n",
       "      <td>8.510773</td>\n",
       "      <td>8.531622</td>\n",
       "    </tr>\n",
       "  </tbody>\n",
       "</table>\n",
       "</div>"
      ],
      "text/plain": [
       "            label  prediced\n",
       "67250    6.947937  6.626020\n",
       "1397036  6.719013  6.652119\n",
       "1021087  6.421622  5.843581\n",
       "951424   6.766192  6.854675\n",
       "707882   8.510773  8.531622"
      ]
     },
     "execution_count": 55,
     "metadata": {},
     "output_type": "execute_result"
    }
   ],
   "source": [
    "df_valid['label'] = y_valid\n",
    "df_valid['prediced'] = y_valid_predicted\n",
    "df_valid.head()"
   ]
  },
  {
   "cell_type": "code",
   "execution_count": 63,
   "metadata": {
    "collapsed": false
   },
   "outputs": [
    {
     "data": {
      "text/html": [
       "<div>\n",
       "<table border=\"1\" class=\"dataframe\">\n",
       "  <thead>\n",
       "    <tr style=\"text-align: right;\">\n",
       "      <th></th>\n",
       "      <th>label</th>\n",
       "      <th>prediced</th>\n",
       "    </tr>\n",
       "  </thead>\n",
       "  <tbody>\n",
       "    <tr>\n",
       "      <th>67250</th>\n",
       "      <td>6.947937</td>\n",
       "      <td>6.626020</td>\n",
       "    </tr>\n",
       "    <tr>\n",
       "      <th>1397036</th>\n",
       "      <td>6.719013</td>\n",
       "      <td>6.652119</td>\n",
       "    </tr>\n",
       "    <tr>\n",
       "      <th>1021087</th>\n",
       "      <td>6.421622</td>\n",
       "      <td>5.843581</td>\n",
       "    </tr>\n",
       "    <tr>\n",
       "      <th>951424</th>\n",
       "      <td>6.766192</td>\n",
       "      <td>6.854675</td>\n",
       "    </tr>\n",
       "    <tr>\n",
       "      <th>707882</th>\n",
       "      <td>8.510773</td>\n",
       "      <td>8.531622</td>\n",
       "    </tr>\n",
       "    <tr>\n",
       "      <th>1432685</th>\n",
       "      <td>5.926926</td>\n",
       "      <td>5.904884</td>\n",
       "    </tr>\n",
       "    <tr>\n",
       "      <th>528407</th>\n",
       "      <td>7.133296</td>\n",
       "      <td>6.480567</td>\n",
       "    </tr>\n",
       "    <tr>\n",
       "      <th>1217989</th>\n",
       "      <td>5.003946</td>\n",
       "      <td>5.194985</td>\n",
       "    </tr>\n",
       "    <tr>\n",
       "      <th>1165122</th>\n",
       "      <td>7.313220</td>\n",
       "      <td>7.240809</td>\n",
       "    </tr>\n",
       "    <tr>\n",
       "      <th>1324437</th>\n",
       "      <td>6.925595</td>\n",
       "      <td>6.809279</td>\n",
       "    </tr>\n",
       "    <tr>\n",
       "      <th>1252266</th>\n",
       "      <td>6.865891</td>\n",
       "      <td>6.824946</td>\n",
       "    </tr>\n",
       "    <tr>\n",
       "      <th>469182</th>\n",
       "      <td>5.442418</td>\n",
       "      <td>5.737770</td>\n",
       "    </tr>\n",
       "    <tr>\n",
       "      <th>1336331</th>\n",
       "      <td>7.996990</td>\n",
       "      <td>7.963586</td>\n",
       "    </tr>\n",
       "    <tr>\n",
       "      <th>991070</th>\n",
       "      <td>6.935370</td>\n",
       "      <td>6.602647</td>\n",
       "    </tr>\n",
       "    <tr>\n",
       "      <th>408182</th>\n",
       "      <td>6.363028</td>\n",
       "      <td>6.480826</td>\n",
       "    </tr>\n",
       "    <tr>\n",
       "      <th>741329</th>\n",
       "      <td>4.948760</td>\n",
       "      <td>5.420639</td>\n",
       "    </tr>\n",
       "    <tr>\n",
       "      <th>982424</th>\n",
       "      <td>8.506537</td>\n",
       "      <td>8.303377</td>\n",
       "    </tr>\n",
       "    <tr>\n",
       "      <th>1331428</th>\n",
       "      <td>7.063048</td>\n",
       "      <td>6.710336</td>\n",
       "    </tr>\n",
       "    <tr>\n",
       "      <th>428165</th>\n",
       "      <td>6.860664</td>\n",
       "      <td>6.752874</td>\n",
       "    </tr>\n",
       "    <tr>\n",
       "      <th>1035866</th>\n",
       "      <td>6.912743</td>\n",
       "      <td>7.019188</td>\n",
       "    </tr>\n",
       "    <tr>\n",
       "      <th>590660</th>\n",
       "      <td>7.010312</td>\n",
       "      <td>6.482237</td>\n",
       "    </tr>\n",
       "    <tr>\n",
       "      <th>772172</th>\n",
       "      <td>7.466799</td>\n",
       "      <td>7.645612</td>\n",
       "    </tr>\n",
       "    <tr>\n",
       "      <th>1402272</th>\n",
       "      <td>6.154858</td>\n",
       "      <td>6.534873</td>\n",
       "    </tr>\n",
       "    <tr>\n",
       "      <th>1024453</th>\n",
       "      <td>7.145984</td>\n",
       "      <td>7.016799</td>\n",
       "    </tr>\n",
       "    <tr>\n",
       "      <th>569333</th>\n",
       "      <td>7.225481</td>\n",
       "      <td>7.181300</td>\n",
       "    </tr>\n",
       "    <tr>\n",
       "      <th>1411398</th>\n",
       "      <td>6.555357</td>\n",
       "      <td>6.565211</td>\n",
       "    </tr>\n",
       "    <tr>\n",
       "      <th>935340</th>\n",
       "      <td>7.257003</td>\n",
       "      <td>7.404388</td>\n",
       "    </tr>\n",
       "    <tr>\n",
       "      <th>129753</th>\n",
       "      <td>7.389564</td>\n",
       "      <td>5.830188</td>\n",
       "    </tr>\n",
       "    <tr>\n",
       "      <th>748069</th>\n",
       "      <td>6.546785</td>\n",
       "      <td>5.859709</td>\n",
       "    </tr>\n",
       "    <tr>\n",
       "      <th>155377</th>\n",
       "      <td>6.265301</td>\n",
       "      <td>6.405210</td>\n",
       "    </tr>\n",
       "  </tbody>\n",
       "</table>\n",
       "</div>"
      ],
      "text/plain": [
       "            label  prediced\n",
       "67250    6.947937  6.626020\n",
       "1397036  6.719013  6.652119\n",
       "1021087  6.421622  5.843581\n",
       "951424   6.766192  6.854675\n",
       "707882   8.510773  8.531622\n",
       "1432685  5.926926  5.904884\n",
       "528407   7.133296  6.480567\n",
       "1217989  5.003946  5.194985\n",
       "1165122  7.313220  7.240809\n",
       "1324437  6.925595  6.809279\n",
       "1252266  6.865891  6.824946\n",
       "469182   5.442418  5.737770\n",
       "1336331  7.996990  7.963586\n",
       "991070   6.935370  6.602647\n",
       "408182   6.363028  6.480826\n",
       "741329   4.948760  5.420639\n",
       "982424   8.506537  8.303377\n",
       "1331428  7.063048  6.710336\n",
       "428165   6.860664  6.752874\n",
       "1035866  6.912743  7.019188\n",
       "590660   7.010312  6.482237\n",
       "772172   7.466799  7.645612\n",
       "1402272  6.154858  6.534873\n",
       "1024453  7.145984  7.016799\n",
       "569333   7.225481  7.181300\n",
       "1411398  6.555357  6.565211\n",
       "935340   7.257003  7.404388\n",
       "129753   7.389564  5.830188\n",
       "748069   6.546785  5.859709\n",
       "155377   6.265301  6.405210"
      ]
     },
     "execution_count": 63,
     "metadata": {},
     "output_type": "execute_result"
    }
   ],
   "source": [
    "df_valid.head(30)"
   ]
  },
  {
   "cell_type": "code",
   "execution_count": 64,
   "metadata": {
    "collapsed": true
   },
   "outputs": [],
   "source": [
    "X_submit = df_test[['pick_weekday', 'pick_weekofyear', 'pick_hour', 'pick_min',\n",
    "             'pick_dt', 'pickup_pca0', 'pickup_pca1', 'dropoff_pca0', 'dropoff_pca1', 'h_dist']]"
   ]
  },
  {
   "cell_type": "code",
   "execution_count": 65,
   "metadata": {
    "collapsed": true
   },
   "outputs": [],
   "source": [
    "X_submit_scaled = scaler.transform(X_submit)"
   ]
  },
  {
   "cell_type": "code",
   "execution_count": 66,
   "metadata": {
    "collapsed": true
   },
   "outputs": [],
   "source": [
    "y_submit_predicted = grid_search.predict(X_submit_scaled)"
   ]
  },
  {
   "cell_type": "code",
   "execution_count": 67,
   "metadata": {
    "collapsed": true
   },
   "outputs": [],
   "source": [
    "df_submit = pd.read_csv('./data/sample_submission.csv')"
   ]
  },
  {
   "cell_type": "code",
   "execution_count": 68,
   "metadata": {
    "collapsed": false
   },
   "outputs": [
    {
     "data": {
      "text/html": [
       "<div>\n",
       "<table border=\"1\" class=\"dataframe\">\n",
       "  <thead>\n",
       "    <tr style=\"text-align: right;\">\n",
       "      <th></th>\n",
       "      <th>id</th>\n",
       "      <th>trip_duration</th>\n",
       "    </tr>\n",
       "  </thead>\n",
       "  <tbody>\n",
       "    <tr>\n",
       "      <th>0</th>\n",
       "      <td>id3004672</td>\n",
       "      <td>959</td>\n",
       "    </tr>\n",
       "    <tr>\n",
       "      <th>1</th>\n",
       "      <td>id3505355</td>\n",
       "      <td>959</td>\n",
       "    </tr>\n",
       "    <tr>\n",
       "      <th>2</th>\n",
       "      <td>id1217141</td>\n",
       "      <td>959</td>\n",
       "    </tr>\n",
       "  </tbody>\n",
       "</table>\n",
       "</div>"
      ],
      "text/plain": [
       "          id  trip_duration\n",
       "0  id3004672            959\n",
       "1  id3505355            959\n",
       "2  id1217141            959"
      ]
     },
     "execution_count": 68,
     "metadata": {},
     "output_type": "execute_result"
    }
   ],
   "source": [
    "df_submit.head(3)"
   ]
  },
  {
   "cell_type": "code",
   "execution_count": 71,
   "metadata": {
    "collapsed": false
   },
   "outputs": [],
   "source": [
    "df_submit['trip_duration'] = np.exp(y_submit_predicted)"
   ]
  },
  {
   "cell_type": "code",
   "execution_count": 73,
   "metadata": {
    "collapsed": true
   },
   "outputs": [],
   "source": [
    "df_submit.to_csv('./data/output.csv', index=False)"
   ]
  },
  {
   "cell_type": "code",
   "execution_count": null,
   "metadata": {
    "collapsed": true
   },
   "outputs": [],
   "source": []
  }
 ],
 "metadata": {
  "kernelspec": {
   "display_name": "Python 3",
   "language": "python",
   "name": "python3"
  },
  "language_info": {
   "codemirror_mode": {
    "name": "ipython",
    "version": 3
   },
   "file_extension": ".py",
   "mimetype": "text/x-python",
   "name": "python",
   "nbconvert_exporter": "python",
   "pygments_lexer": "ipython3",
   "version": "3.6.0"
  }
 },
 "nbformat": 4,
 "nbformat_minor": 2
}
