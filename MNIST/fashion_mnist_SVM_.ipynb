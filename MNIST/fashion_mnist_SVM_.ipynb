{
 "cells": [
  {
   "cell_type": "code",
   "execution_count": 4,
   "metadata": {
    "collapsed": false
   },
   "outputs": [],
   "source": [
    "# Standard scientific Python imports\n",
    "import matplotlib.pyplot as plt\n",
    "import numpy as np\n",
    "import time\n",
    "import datetime as dt\n",
    "\n",
    "# Import datasets, classifiers and performance metrics\n",
    "from sklearn import datasets, svm, metrics\n",
    "\n",
    "from matplotlib import pyplot\n",
    "import matplotlib as mpl\n",
    "\n",
    "import gzip\n",
    "\n",
    "\n",
    "%matplotlib inline\n",
    "\n"
   ]
  },
  {
   "cell_type": "code",
   "execution_count": 16,
   "metadata": {
    "collapsed": true
   },
   "outputs": [],
   "source": [
    "# This is a Fashin_MNIST Datasets \n",
    "\n",
    "data_file_name = {\n",
    "    'train_image':'train-images-idx3-ubyte.gz',\n",
    "    'train_label':'train-labels-idx1-ubyte.gz',\n",
    "    'test_image':'t10k-images-idx3-ubyte.gz',\n",
    "    'test_label':'t10k-labels-idx1-ubyte.gz'\n",
    "}\n",
    "\n",
    "label_description = [ 'T-shirt/top','Trouser', 'Pullover',\n",
    "    'Dress','Coat','Sandal','Shirt','Sneaker','Bag','Ankle boot']\n",
    "\n",
    "dir_data_file = './data'\n",
    "image_size = 784"
   ]
  },
  {
   "cell_type": "code",
   "execution_count": 6,
   "metadata": {
    "collapsed": true
   },
   "outputs": [],
   "source": [
    "def LoadLabel(file_name):\n",
    "    # file_name의 Binary 파일을 읽어서 numpy.ndarray 를 Return 한다.\n",
    "    file_path = dir_data_file + \"/\" + file_name\n",
    "    with gzip.open(file_path, 'rb') as f:\n",
    "        data = np.frombuffer(f.read(), np.uint8, offset=8)\n",
    "    rtval = data\n",
    "    print(file_name + \" file loaded\")\n",
    "    return rtval\n",
    "\n",
    "def LoadImage(file_name):\n",
    "    # file_name의 Binary 파일을 읽어서 numpy.ndarray 를 Return 한다.\n",
    "    file_path = dir_data_file + \"/\" + file_name   \n",
    "    with gzip.open(file_path, 'rb') as f:\n",
    "        data = np.frombuffer(f.read(), np.uint8, offset=16)\n",
    "    rtval = data.reshape(-1, image_size)\n",
    "    print(file_name + \" file loaded\")\n",
    "    return rtval\n",
    "\n",
    "def DictoNumpy():\n",
    "    ## Dictionary data-type으로 \n",
    "    dic_data = {}\n",
    "    print(type(dic_data))\n",
    "    dic_data['train_image'] =  LoadImage(data_file_name['train_image'])\n",
    "    dic_data['train_label'] = LoadLabel(data_file_name['train_label'])    \n",
    "    dic_data['test_image'] = LoadImage(data_file_name['test_image'])\n",
    "    dic_data['test_label'] = LoadLabel(data_file_name['test_label'])\n",
    "    \n",
    "    return dic_data\n",
    "\n",
    "def NormalizeData(dic_data):\n",
    "    dic_data['train_image'] = dic_data['train_image']/255\n",
    "    dic_data['test_image'] = dic_data['test_image']/255\n",
    "    return dic_data"
   ]
  },
  {
   "cell_type": "code",
   "execution_count": 7,
   "metadata": {
    "collapsed": false
   },
   "outputs": [
    {
     "name": "stdout",
     "output_type": "stream",
     "text": [
      "<class 'dict'>\n",
      "train-images-idx3-ubyte.gz file loaded\n",
      "train-labels-idx1-ubyte.gz file loaded\n",
      "t10k-images-idx3-ubyte.gz file loaded\n",
      "t10k-labels-idx1-ubyte.gz file loaded\n"
     ]
    }
   ],
   "source": [
    "dic_data = DictoNumpy()\n",
    "dic_data = NormalizeData(dic_data)"
   ]
  },
  {
   "cell_type": "code",
   "execution_count": 14,
   "metadata": {
    "collapsed": true
   },
   "outputs": [],
   "source": [
    "## For Time Saving Cut the Train Image size to 10000 samples ( IT takes for about 4min )\n",
    "\n",
    "X_train = dic_data['train_image'][:10000]\n",
    "y_train = dic_data['train_label'][:10000]\n",
    "X_test = dic_data['test_image']\n",
    "y_test = dic_data['test_label']"
   ]
  },
  {
   "cell_type": "code",
   "execution_count": 50,
   "metadata": {
    "collapsed": true
   },
   "outputs": [],
   "source": [
    "kernel_svm = svm.SVC(gamma=.2)\n"
   ]
  },
  {
   "cell_type": "code",
   "execution_count": 51,
   "metadata": {
    "collapsed": false
   },
   "outputs": [
    {
     "name": "stdout",
     "output_type": "stream",
     "text": [
      "Start kernel svm learning at 2017-08-28 17:30:03.038779\n",
      "End kernel svm learning at 2017-08-28 17:32:51.041632\n",
      "Elapsed learning 0:02:48.002853\n",
      "Test Score : 0.9998\n"
     ]
    }
   ],
   "source": [
    "kernel_svm_start_time = dt.datetime.now()\n",
    "\n",
    "print ('Start kernel svm learning at {}'.format(str(kernel_svm_start_time)))\n",
    "kernel_svm.fit(X_train, y_train)\n",
    "kernel_svm_end_time = dt.datetime.now()\n",
    "elapsed_time = kernel_svm_end_time - kernel_svm_start_time\n",
    "print ('End kernel svm learning at {}'.format(str(kernel_svm_end_time)))\n",
    "print ('Elapsed learning {}'.format(str(elapsed_time)))\n",
    "print ('Test Score : {}'.format(str(kernel_svm.score(X_train, y_train))))"
   ]
  },
  {
   "cell_type": "code",
   "execution_count": 52,
   "metadata": {
    "collapsed": false
   },
   "outputs": [
    {
     "name": "stdout",
     "output_type": "stream",
     "text": [
      "Prediction takes 0:01:23.668029\n"
     ]
    }
   ],
   "source": [
    "\n",
    "kernel_svm_start_time = dt.datetime.now()\n",
    "kernel_svm_score = kernel_svm.score(X_test, y_test)\n",
    "elapsed_time = dt.datetime.now() - kernel_svm_start_time\n",
    "print ('Prediction takes {}'.format(str(elapsed_time)))"
   ]
  },
  {
   "cell_type": "code",
   "execution_count": 53,
   "metadata": {
    "collapsed": false
   },
   "outputs": [
    {
     "name": "stdout",
     "output_type": "stream",
     "text": [
      "0.6319\n"
     ]
    }
   ],
   "source": [
    "print (kernel_svm_score)"
   ]
  },
  {
   "cell_type": "code",
   "execution_count": 9,
   "metadata": {
    "collapsed": true
   },
   "outputs": [],
   "source": [
    "def ImageDisplay(list_data):\n",
    "    ## List형의 Pixcel 정보를 받아서 이미지로 보여준다.\n",
    "    fig = pyplot.figure()\n",
    "    axis = fig.add_subplot(1,1,1)\n",
    "    plot_img = axis.imshow(list_data, cmap=mpl.cm.Greys)\n",
    "    plot_img.set_interpolation('none')\n",
    "#    ax.xaxis.set_ticks_position('top')\n",
    "#    ax.yaxis.set_ticks_position('left')\n",
    "    pyplot.show()\n"
   ]
  },
  {
   "cell_type": "code",
   "execution_count": 20,
   "metadata": {
    "collapsed": false
   },
   "outputs": [
    {
     "data": {
      "image/png": "[encoded data removed]",
      "text/plain": [
       "<matplotlib.figure.Figure at 0x133a446d8>"
      ]
     },
     "metadata": {},
     "output_type": "display_data"
    },
    {
     "name": "stdout",
     "output_type": "stream",
     "text": [
      "T-shirt/top\n"
     ]
    }
   ],
   "source": [
    "ImageDisplay (X_train[110].reshape(28,28))\n",
    "print (label_description[y_train[110]])"
   ]
  },
  {
   "cell_type": "code",
   "execution_count": 24,
   "metadata": {
    "collapsed": false
   },
   "outputs": [
    {
     "data": {
      "image/png": "[encoded data removed]",
      "text/plain": [
       "<matplotlib.figure.Figure at 0x13360d278>"
      ]
     },
     "metadata": {},
     "output_type": "display_data"
    },
    {
     "name": "stdout",
     "output_type": "stream",
     "text": [
      "Shirt\n"
     ]
    }
   ],
   "source": [
    "ImageDisplay (X_train[610].reshape(28,28))\n",
    "print (label_description[y_train[61]])"
   ]
  },
  {
   "cell_type": "code",
   "execution_count": null,
   "metadata": {
    "collapsed": true
   },
   "outputs": [],
   "source": []
  }
 ],
 "metadata": {
  "kernelspec": {
   "display_name": "Python 3",
   "language": "python",
   "name": "python3"
  },
  "language_info": {
   "codemirror_mode": {
    "name": "ipython",
    "version": 3
   },
   "file_extension": ".py",
   "mimetype": "text/x-python",
   "name": "python",
   "nbconvert_exporter": "python",
   "pygments_lexer": "ipython3",
   "version": "3.6.0"
  }
 },
 "nbformat": 4,
 "nbformat_minor": 2
}
