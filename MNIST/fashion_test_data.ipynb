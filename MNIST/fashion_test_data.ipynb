{
 "cells": [
  {
   "cell_type": "code",
   "execution_count": 3,
   "metadata": {
    "collapsed": false
   },
   "outputs": [],
   "source": [
    "import os\n",
    "import numpy as np\n",
    "from math import exp, log\n",
    "import pandas as pd\n",
    "from scipy.stats import ttest_ind\n",
    "import matplotlib.pyplot as plt\n",
    "import random\n",
    "import gzip\n",
    "from matplotlib import pyplot\n",
    "import matplotlib as mpl\n",
    "\n",
    "%matplotlib inline\n",
    "\n",
    "data_file_name = {\n",
    "    'train_image':'train-images-idx3-ubyte.gz',\n",
    "    'train_label':'train-labels-idx1-ubyte.gz',\n",
    "    'test_image':'t10k-images-idx3-ubyte.gz',\n",
    "    'test_label':'t10k-labels-idx1-ubyte.gz'\n",
    "}\n",
    "\n",
    "dir_data_file = './data'\n",
    "\n",
    "train_num = 60000\n",
    "test_num = 10000\n",
    "image_dimension = (28, 28)\n",
    "image_size = 784\n",
    "\n",
    "\n"
   ]
  },
  {
   "cell_type": "code",
   "execution_count": 4,
   "metadata": {
    "collapsed": true
   },
   "outputs": [],
   "source": [
    "def LoadLabel(file_name):\n",
    "    # file_name의 Binary 파일을 읽어서 numpy.ndarray 를 Return 한다.\n",
    "    file_path = dir_data_file + \"/\" + file_name\n",
    "    with gzip.open(file_path, 'rb') as f:\n",
    "        data = np.frombuffer(f.read(), np.uint8, offset=8)\n",
    "    rtval = data\n",
    "    print(file_name + \" file loaded\")\n",
    "    return rtval\n",
    "\n",
    "def LoadImage(file_name):\n",
    "    # file_name의 Binary 파일을 읽어서 numpy.ndarray 를 Return 한다.\n",
    "    file_path = dir_data_file + \"/\" + file_name   \n",
    "    with gzip.open(file_path, 'rb') as f:\n",
    "        data = np.frombuffer(f.read(), np.uint8, offset=16)\n",
    "    rtval = data.reshape(-1, image_size)\n",
    "    print(file_name + \" file loaded\")\n",
    "    return rtval\n",
    "\n",
    "def DictoNumpy():\n",
    "    ## Dictionary data-type으로 \n",
    "    dic_data = {}\n",
    "    print(type(dic_data))\n",
    "    dic_data['train_image'] =  LoadImage(data_file_name['train_image'])\n",
    "    dic_data['train_label'] = LoadLabel(data_file_name['train_label'])    \n",
    "    dic_data['test_image'] = LoadImage(data_file_name['test_image'])\n",
    "    dic_data['test_label'] = LoadLabel(data_file_name['test_label'])\n",
    "    \n",
    "    return dic_data\n",
    "\n",
    "def NormalizeData(dic_data):\n",
    "    dic_data['train_image'] = dic_data['train_image']/255\n",
    "    dic_data['test_image'] = dic_data['test_image']/255\n",
    "    return dic_data\n",
    "\n",
    "def ImageDisplay(list_data):\n",
    "    ## List형의 Pixcel 정보를 받아서 이미지로 보여준다.\n",
    "    fig = pyplot.figure()\n",
    "    axis = fig.add_subplot(1,1,1)\n",
    "    plot_img = axis.imshow(list_data, cmap=mpl.cm.Greys)\n",
    "    plot_img.set_interpolation('none')\n",
    "#    ax.xaxis.set_ticks_position('top')\n",
    "#    ax.yaxis.set_ticks_position('left')\n",
    "    pyplot.show()\n",
    "\n",
    "def ascii_show(image):\n",
    "    for y in image:\n",
    "        row = \"\"\n",
    "        for x  in y:\n",
    "            row += '{0: <4}'.format(x)\n",
    "        print (row)\n",
    "        \n",
    "        \n",
    "def MakeNetwork(sizes):\n",
    "    num_layers = len(sizes)-1\n",
    "    \n",
    "    biases = [np.random.randn(y, 1) for y in sizes[1:]]\n",
    "    weights = [np.random.randn(y, x) \n",
    "                for x, y in zip(sizes[:-1], sizes[1:])]\n",
    "    \n",
    "    return num_layers, biases, weights"
   ]
  },
  {
   "cell_type": "code",
   "execution_count": 5,
   "metadata": {
    "collapsed": false
   },
   "outputs": [
    {
     "name": "stdout",
     "output_type": "stream",
     "text": [
      "<class 'dict'>\n",
      "train-images-idx3-ubyte.gz file loaded\n",
      "train-labels-idx1-ubyte.gz file loaded\n",
      "t10k-images-idx3-ubyte.gz file loaded\n",
      "t10k-labels-idx1-ubyte.gz file loaded\n",
      "<class 'numpy.ndarray'>\n",
      "2\n"
     ]
    },
    {
     "data": {
      "image/png": "[encoded data removed]",
      "text/plain": [
       "<matplotlib.figure.Figure at 0x11088f3c8>"
      ]
     },
     "metadata": {},
     "output_type": "display_data"
    },
    {
     "name": "stdout",
     "output_type": "stream",
     "text": [
      "3\n"
     ]
    }
   ],
   "source": [
    "net_sizes = [784,100,50,10]\n",
    "num_layers, biases, weights = MakeNetwork(net_sizes)\n",
    "save_init_random_b = biases\n",
    "save_init_random_w = weights\n",
    "dic_data = DictoNumpy()\n",
    "dic_data = NormalizeData(dic_data)\n",
    "\n",
    "print (type(dic_data['train_image'][0]))\n",
    "print (dic_data['train_label'][0])\n",
    "ImageDisplay (dic_data['train_image'][0].reshape(28,28))\n",
    "print (num_layers)"
   ]
  },
  {
   "cell_type": "code",
   "execution_count": 6,
   "metadata": {
    "collapsed": true
   },
   "outputs": [],
   "source": [
    "def Sigmoid(x):\n",
    "    return 1.0/(1.0+np.exp(-x))\n",
    "\n",
    "def SigmoidPrime(x):\n",
    "    return Sigmoid(x)*(1-Sigmoid(x))\n",
    "\n",
    "def SoftMax(x):\n",
    "    exp = np.exp(x-np.max(x))\n",
    "    return exp / np.sum(exp)\n",
    "\n",
    "def OneHotLabel(x):\n",
    "    onehot = np.zeros((x.size, 10))\n",
    "    for i, row in enumerate(onehot):\n",
    "        row[x[i]] = 1\n",
    "    return onehot \n",
    "\n",
    "def ForwardPropagation(x, w, b):\n",
    "    a = np.dot(w, x) + b\n",
    "    return a # Sigmoid(a)\n",
    "\n",
    "def MeanSqrError(y, t):\n",
    "    return 0.5*np.sum((y-t)**2)\n",
    "\n",
    "def CrossEntropy ( y, t ):\n",
    "    delta = 1e-7\n",
    "    return -np.sum(t * np.log(y+delta))\n",
    "\n"
   ]
  },
  {
   "cell_type": "code",
   "execution_count": 7,
   "metadata": {
    "collapsed": true
   },
   "outputs": [],
   "source": [
    "def PredictOutput(x, weights, biases, num_layers, net_sizes):\n",
    "    \n",
    "    last_layer = num_layers-1\n",
    "    out_list = []\n",
    "    a = x\n",
    "    for i in range(last_layer):\n",
    "        y = ForwardPropagation(a, weights[i],np.reshape(biases[i],(net_sizes[i+1],))) # np.transpose(biases[i]))\n",
    "                               #np.reshape(biases[i],(net_sizes[i+1],1)) )# biases[i].resape(len(net_sizes[i+1]),))\n",
    "        a = Sigmoid(y)\n",
    "        out_list.append(y)\n",
    "    \n",
    "    predicted_output = ForwardPropagation(a,weights[last_layer], np.reshape(biases[last_layer],(net_sizes[-1],))) #np.transpose(biases[last_layer]))\n",
    "    \n",
    "    out_list.append(predicted_output)\n",
    "    \n",
    "                                          #np.reshape(biases[i],(net_sizes[-1],1))) # biases[last_layer].reshape(len(net_sizes[-1]),))\n",
    "    return predicted_output, out_list\n",
    "\n",
    "def BackPropagation(x, w, b, predicted_output, out_list, d, num_layers, net_sizes):\n",
    "    delta_b = []\n",
    "    delta_w = []\n",
    "    \n",
    "    ## Last_Layer Derivative \n",
    "    ## Example net_sizes = [ 784, 100, 50, 10 ]\n",
    "    ## out_list = [ y1, y2, y3  ]\n",
    "    ## After Activation :: a = Sigmoid(out_list)\n",
    "    ## a = [ a1, a2, a3=y3 ]\n",
    "    \n",
    "    d_b_L = (out_list[-1]-d).reshape(len(d),1)\n",
    "    d_w_L = np.dot(d_b_L, Sigmoid(out_list[-2].reshape(1,len(out_list[-2]))))\n",
    "    \n",
    "    delta_b.append(d_b_L)\n",
    "    delta_w.append(d_w_L)\n",
    "    \n",
    "    d_b_p = d_b_L\n",
    "    \n",
    "    for i in range(num_layers-1):\n",
    "        idx = num_layers-2-i\n",
    "        d_b = []\n",
    "        d_w = []\n",
    "        \n",
    "        #print (idx, net_sizes[idx+1],net_sizes[idx+2])\n",
    "        \n",
    "        #d_b = np.dot(w[idx].reshape(net_sizes[idx+1],net_sizes[idx+2]), d_b)*SigmoidPrime(out_list[idx].reshape(net_sizes[idx+1],1))\n",
    "        d_b = np.dot(w[idx+1].transpose(), d_b_p)*SigmoidPrime(out_list[idx].reshape(net_sizes[idx+1],1))\n",
    "        \n",
    "        #print (len(d_b))\n",
    "        \n",
    "        if idx == 0:\n",
    "            d_w = np.dot(d_b, x.reshape(1,len(x)))\n",
    "        else:\n",
    "            d_w = np.dot(d_b, Sigmoid(out_list[idx-1].reshape(1,len(out_list[idx-1]))))\n",
    "        \n",
    "        delta_b.append(d_b)\n",
    "        delta_w.append(d_w)\n",
    "        \n",
    "        d_b_p = d_b\n",
    "    \n",
    "    delta_b.reverse()\n",
    "    delta_w.reverse()\n",
    "    \n",
    "    return delta_b, delta_w\n",
    "\n",
    "\n",
    "\n",
    "\n",
    "\n",
    "def BackProp (x, layer1, a1, a2, d, weights):\n",
    "    # DIM (10,1)\n",
    "    delta_b2 = (a2-d).reshape(10,1)   \n",
    "    # DIM (10, 30)\n",
    "    delta_w2 = np.dot(delta_b2,a1.reshape(1,30))  \n",
    "    # DIM (30, 1 )\n",
    "    delta_b1 = np.dot(weights[1].reshape(30,10),delta_b2)*SigmoidPrime(layer1.reshape(30,1))\n",
    "    # DIM (30, 784)\n",
    "    delta_w1 = np.dot(delta_b1, x.reshape(1,784))\n",
    "    \n",
    "    return delta_w1, delta_b1, delta_w2, delta_b2\n",
    "\n"
   ]
  },
  {
   "cell_type": "code",
   "execution_count": 8,
   "metadata": {
    "collapsed": false
   },
   "outputs": [
    {
     "name": "stdout",
     "output_type": "stream",
     "text": [
      "<class 'dict'>\n",
      "train-images-idx3-ubyte.gz file loaded\n",
      "train-labels-idx1-ubyte.gz file loaded\n",
      "t10k-images-idx3-ubyte.gz file loaded\n",
      "t10k-labels-idx1-ubyte.gz file loaded\n",
      "[784, 100, 30, 10]\n"
     ]
    }
   ],
   "source": [
    "net_sizes = [784,100,30,10]\n",
    "num_layers, biases, weights = MakeNetwork(net_sizes)\n",
    "save_init_random_b = biases\n",
    "save_init_random_w = weights\n",
    "dic_data = DictoNumpy()\n",
    "dic_data = NormalizeData(dic_data)\n",
    "print (net_sizes)\n"
   ]
  },
  {
   "cell_type": "code",
   "execution_count": 9,
   "metadata": {
    "collapsed": false
   },
   "outputs": [
    {
     "name": "stdout",
     "output_type": "stream",
     "text": [
      "learning rate :  0.01\n",
      "Network Size :  [784, 100, 30, 10]\n",
      "Number of Layers :  3\n",
      "Condition : Sigmoid, One-Hot, Identity, MSE\n",
      "-----------------------------------------------\n",
      "Epoch : 1 1000 train-err 0.325 test-err 0.3125\n",
      "Epoch : 2 2000 train-err 0.385 test-err 0.3401\n",
      "Epoch : 3 3000 train-err 0.431 test-err 0.3786\n",
      "Epoch : 4 4000 train-err 0.465 test-err 0.4602\n",
      "Epoch : 5 5000 train-err 0.532 test-err 0.4968\n",
      "Epoch : 6 6000 train-err 0.547 test-err 0.4978\n",
      "Epoch : 7 7000 train-err 0.579 test-err 0.5365\n",
      "Epoch : 8 8000 train-err 0.617 test-err 0.5868\n",
      "Epoch : 9 9000 train-err 0.65 test-err 0.6048\n",
      "Epoch : 10 10000 train-err 0.672 test-err 0.5907\n",
      "Epoch : 11 11000 train-err 0.67 test-err 0.6434\n",
      "Epoch : 12 12000 train-err 0.672 test-err 0.649\n",
      "Epoch : 13 13000 train-err 0.711 test-err 0.6549\n",
      "Epoch : 14 14000 train-err 0.702 test-err 0.6687\n",
      "Epoch : 15 15000 train-err 0.731 test-err 0.6732\n",
      "Epoch : 16 16000 train-err 0.721 test-err 0.6525\n",
      "Epoch : 17 17000 train-err 0.703 test-err 0.6874\n",
      "Epoch : 18 18000 train-err 0.728 test-err 0.7021\n",
      "Epoch : 19 19000 train-err 0.719 test-err 0.6914\n",
      "Epoch : 20 20000 train-err 0.688 test-err 0.711\n",
      "Epoch : 21 21000 train-err 0.728 test-err 0.6867\n",
      "Epoch : 22 22000 train-err 0.733 test-err 0.6995\n",
      "Epoch : 23 23000 train-err 0.723 test-err 0.7145\n",
      "Epoch : 24 24000 train-err 0.709 test-err 0.7028\n",
      "Epoch : 25 25000 train-err 0.747 test-err 0.701\n",
      "Epoch : 26 26000 train-err 0.751 test-err 0.7051\n",
      "Epoch : 27 27000 train-err 0.724 test-err 0.6984\n",
      "Epoch : 28 28000 train-err 0.727 test-err 0.7134\n",
      "Epoch : 29 29000 train-err 0.757 test-err 0.7079\n",
      "Epoch : 30 30000 train-err 0.717 test-err 0.7097\n",
      "Epoch : 31 31000 train-err 0.737 test-err 0.7268\n",
      "Epoch : 32 32000 train-err 0.748 test-err 0.7264\n",
      "Epoch : 33 33000 train-err 0.742 test-err 0.7111\n",
      "Epoch : 34 34000 train-err 0.735 test-err 0.7143\n",
      "Epoch : 35 35000 train-err 0.749 test-err 0.7122\n",
      "Epoch : 36 36000 train-err 0.746 test-err 0.7162\n",
      "Epoch : 37 37000 train-err 0.734 test-err 0.7365\n",
      "Epoch : 38 38000 train-err 0.744 test-err 0.7242\n",
      "Epoch : 39 39000 train-err 0.767 test-err 0.7161\n",
      "Epoch : 40 40000 train-err 0.764 test-err 0.7145\n",
      "Epoch : 41 41000 train-err 0.736 test-err 0.7376\n",
      "Epoch : 42 42000 train-err 0.745 test-err 0.7149\n",
      "Epoch : 43 43000 train-err 0.751 test-err 0.715\n",
      "Epoch : 44 44000 train-err 0.735 test-err 0.7133\n",
      "Epoch : 45 45000 train-err 0.751 test-err 0.7201\n",
      "Epoch : 46 46000 train-err 0.744 test-err 0.7156\n",
      "Epoch : 47 47000 train-err 0.756 test-err 0.7169\n",
      "Epoch : 48 48000 train-err 0.755 test-err 0.7198\n",
      "Epoch : 49 49000 train-err 0.734 test-err 0.716\n",
      "Epoch : 50 50000 train-err 0.729 test-err 0.7196\n",
      "Epoch : 51 51000 train-err 0.773 test-err 0.7183\n",
      "Epoch : 52 52000 train-err 0.764 test-err 0.7224\n",
      "Epoch : 53 53000 train-err 0.744 test-err 0.7259\n",
      "Epoch : 54 54000 train-err 0.733 test-err 0.7207\n",
      "Epoch : 55 55000 train-err 0.755 test-err 0.7192\n",
      "Epoch : 56 56000 train-err 0.728 test-err 0.7184\n",
      "Epoch : 57 57000 train-err 0.764 test-err 0.7154\n",
      "Epoch : 58 58000 train-err 0.752 test-err 0.7223\n",
      "Epoch : 59 59000 train-err 0.745 test-err 0.7191\n",
      "Epoch : 60 60000 train-err 0.752 test-err 0.7277\n"
     ]
    }
   ],
   "source": [
    "## Batch 처리\n",
    "batch_size = 1000\n",
    "repeat_gradient = 20\n",
    "learning_rate = 0.01\n",
    "\n",
    "input_data = dic_data['train_image']\n",
    "one_hot_output = OneHotLabel(dic_data['train_label'])\n",
    "\n",
    "test_data = dic_data['test_image']\n",
    "one_hot_output_test = OneHotLabel(dic_data['test_label'])\n",
    "\n",
    "train_err_list = []\n",
    "test_err_list = []\n",
    "\n",
    "print ('learning rate : ', learning_rate, )\n",
    "print ('Network Size : ', net_sizes)\n",
    "print ('Number of Layers : ', num_layers)\n",
    "print ('Condition : Sigmoid, One-Hot, Identity, MSE')\n",
    "print ('-----------------------------------------------')\n",
    "\n",
    "for k in range(int(train_num/batch_size)): # sample selection\n",
    "\n",
    "    epoch_error = []\n",
    "    \n",
    "    for j in range(repeat_gradient): # repeat gradient\n",
    "        \n",
    "        prediction_error_batch = []\n",
    "        prediction_error = 0\n",
    "        \n",
    "        for i in range(batch_size):\n",
    "            idx = i+k*batch_size\n",
    "            \n",
    "            predicted_output, out_list = PredictOutput(input_data[idx], weights, biases, num_layers, net_sizes)\n",
    "            \n",
    "            d = np.array(one_hot_output[idx])\n",
    "            error = MeanSqrError(np.array(predicted_output), d)\n",
    "            \n",
    "            delta_b, delta_w = BackPropagation(input_data[idx], weights, biases, predicted_output, out_list, d, num_layers, net_sizes)\n",
    "\n",
    "            if np.argmax(predicted_output) == np.argmax(d):\n",
    "                prediction_error = prediction_error+1\n",
    "\n",
    "            prediction_error_batch.append(error)\n",
    "        \n",
    "            for m in range(num_layers):\n",
    "                weights[m] = weights[m]-learning_rate*delta_w[m] # (sum(dl_w1)/batch_size)\n",
    "                biases[m] = biases[m]-learning_rate*delta_b[m] # (sum(dl_b1)/batch_size)\n",
    "        \n",
    "        #weights[1] = weights[1]-learning_rate*(sum(dl_w2)/batch_size)\n",
    "        #biases[1] = biases[1]-learning_rate*(sum(dl_b2)/batch_size)\n",
    "    \n",
    "    test_error = 0\n",
    "    \n",
    "    for j in range(test_num):\n",
    "        idx = j\n",
    "\n",
    "#        a2 = PredictOutput(test_data[idx],weights,biases )\n",
    "        test_output, out2 = PredictOutput(test_data[idx], weights, biases, num_layers, net_sizes)\n",
    "        d = np.array(one_hot_output_test[idx])\n",
    "        \n",
    "        if np.argmax(test_output) == np.argmax(d):\n",
    "            test_error = test_error+1\n",
    "    \n",
    "    print ('Epoch :', k+1, (k+1)*batch_size, \"train-err\", prediction_error/batch_size, \"test-err\", test_error/test_num)\n",
    "    train_err_list.append(prediction_error/batch_size)\n",
    "    test_err_list.append(test_error/test_num)\n"
   ]
  },
  {
   "cell_type": "code",
   "execution_count": 10,
   "metadata": {
    "collapsed": false
   },
   "outputs": [
    {
     "data": {
      "text/plain": [
       "[<matplotlib.lines.Line2D at 0x11088f198>]"
      ]
     },
     "execution_count": 10,
     "metadata": {},
     "output_type": "execute_result"
    },
    {
     "data": {
      "image/png": "[encoded data removed]",
      "text/plain": [
       "<matplotlib.figure.Figure at 0x13086fac8>"
      ]
     },
     "metadata": {},
     "output_type": "display_data"
    }
   ],
   "source": [
    "plt.figure()\n",
    "plt.plot(train_err_list)\n",
    "plt.plot(test_err_list)"
   ]
  },
  {
   "cell_type": "code",
   "execution_count": null,
   "metadata": {
    "collapsed": true
   },
   "outputs": [],
   "source": []
  }
 ],
 "metadata": {
  "kernelspec": {
   "display_name": "Python 3",
   "language": "python",
   "name": "python3"
  },
  "language_info": {
   "codemirror_mode": {
    "name": "ipython",
    "version": 3
   },
   "file_extension": ".py",
   "mimetype": "text/x-python",
   "name": "python",
   "nbconvert_exporter": "python",
   "pygments_lexer": "ipython3",
   "version": "3.6.0"
  }
 },
 "nbformat": 4,
 "nbformat_minor": 2
}
