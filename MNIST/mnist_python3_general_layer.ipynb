{
 "cells": [
  {
   "cell_type": "code",
   "execution_count": 21,
   "metadata": {
    "collapsed": true
   },
   "outputs": [],
   "source": [
    "import os\n",
    "import numpy as np\n",
    "from math import exp, log\n",
    "import pandas as pd\n",
    "from scipy.stats import ttest_ind\n",
    "import matplotlib.pyplot as plt\n",
    "import random\n",
    "import gzip\n",
    "from matplotlib import pyplot\n",
    "import matplotlib as mpl\n",
    "import time\n",
    "\n",
    "%matplotlib inline\n",
    "\n",
    "data_file_name = {\n",
    "    'train_image':'train-images-idx3-ubyte.gz',\n",
    "    'train_label':'train-labels-idx1-ubyte.gz',\n",
    "    'test_image':'t10k-images-idx3-ubyte.gz',\n",
    "    'test_label':'t10k-labels-idx1-ubyte.gz'\n",
    "}\n",
    "\n",
    "dir_data_file = './data'\n",
    "\n",
    "train_num = 60000\n",
    "test_num = 10000\n",
    "image_dimension = (28, 28)\n",
    "image_size = 784\n",
    "\n"
   ]
  },
  {
   "cell_type": "code",
   "execution_count": 5,
   "metadata": {
    "collapsed": true
   },
   "outputs": [],
   "source": [
    "def LoadLabel(file_name):\n",
    "    # file_name의 Binary 파일을 읽어서 numpy.ndarray 를 Return 한다.\n",
    "    file_path = dir_data_file + \"/\" + file_name\n",
    "    with gzip.open(file_path, 'rb') as f:\n",
    "        data = np.frombuffer(f.read(), np.uint8, offset=8)\n",
    "    rtval = data\n",
    "    print(file_name + \" file loaded\")\n",
    "    return rtval\n",
    "\n",
    "def LoadImage(file_name):\n",
    "    # file_name의 Binary 파일을 읽어서 numpy.ndarray 를 Return 한다.\n",
    "    file_path = dir_data_file + \"/\" + file_name   \n",
    "    with gzip.open(file_path, 'rb') as f:\n",
    "        data = np.frombuffer(f.read(), np.uint8, offset=16)\n",
    "    rtval = data.reshape(-1, image_size)\n",
    "    print(file_name + \" file loaded\")\n",
    "    return rtval\n",
    "\n",
    "def DictoNumpy():\n",
    "    ## Dictionary data-type으로 \n",
    "    dic_data = {}\n",
    "    print(type(dic_data))\n",
    "    dic_data['train_image'] =  LoadImage(data_file_name['train_image'])\n",
    "    dic_data['train_label'] = LoadLabel(data_file_name['train_label'])    \n",
    "    dic_data['test_image'] = LoadImage(data_file_name['test_image'])\n",
    "    dic_data['test_label'] = LoadLabel(data_file_name['test_label'])\n",
    "    \n",
    "    return dic_data\n",
    "\n",
    "def NormalizeData(dic_data):\n",
    "    dic_data['train_image'] = dic_data['train_image']/255\n",
    "    dic_data['test_image'] = dic_data['test_image']/255\n",
    "    return dic_data\n",
    "\n",
    "def ImageDisplay(list_data):\n",
    "    ## List형의 Pixcel 정보를 받아서 이미지로 보여준다.\n",
    "    fig = pyplot.figure()\n",
    "    axis = fig.add_subplot(1,1,1)\n",
    "    plot_img = axis.imshow(list_data, cmap=mpl.cm.Greys)\n",
    "    plot_img.set_interpolation('none')\n",
    "#    ax.xaxis.set_ticks_position('top')\n",
    "#    ax.yaxis.set_ticks_position('left')\n",
    "    pyplot.show()\n",
    "\n",
    "def ascii_show(image):\n",
    "    for y in image:\n",
    "        row = \"\"\n",
    "        for x  in y:\n",
    "            row += '{0: <4}'.format(x)\n",
    "        print (row)\n",
    "        \n",
    "        \n",
    "def MakeNetwork(sizes):\n",
    "    num_layers = len(sizes)-1\n",
    "    \n",
    "    biases = [np.random.randn(y, 1) for y in sizes[1:]]\n",
    "    weights = [np.random.randn(y, x) \n",
    "                for x, y in zip(sizes[:-1], sizes[1:])]\n",
    "    \n",
    "    return num_layers, biases, weights"
   ]
  },
  {
   "cell_type": "code",
   "execution_count": 3,
   "metadata": {
    "collapsed": false
   },
   "outputs": [
    {
     "name": "stdout",
     "output_type": "stream",
     "text": [
      "<class 'dict'>\n",
      "train-images-idx3-ubyte.gz file loaded\n",
      "train-labels-idx1-ubyte.gz file loaded\n",
      "t10k-images-idx3-ubyte.gz file loaded\n",
      "t10k-labels-idx1-ubyte.gz file loaded\n",
      "<class 'numpy.ndarray'>\n",
      "5\n"
     ]
    },
    {
     "data": {
      "image/png": "[encoded data removed]",
      "text/plain": [
       "<matplotlib.figure.Figure at 0x117b82550>"
      ]
     },
     "metadata": {},
     "output_type": "display_data"
    },
    {
     "name": "stdout",
     "output_type": "stream",
     "text": [
      "3\n"
     ]
    }
   ],
   "source": [
    "net_sizes = [784,100,50,10]\n",
    "num_layers, biases, weights = MakeNetwork(net_sizes)\n",
    "save_init_random_b = biases\n",
    "save_init_random_w = weights\n",
    "dic_data = DictoNumpy()\n",
    "dic_data = NormalizeData(dic_data)\n",
    "\n",
    "print (type(dic_data['train_image'][0]))\n",
    "print (dic_data['train_label'][0])\n",
    "ImageDisplay (dic_data['train_image'][0].reshape(28,28))\n",
    "print (num_layers)"
   ]
  },
  {
   "cell_type": "code",
   "execution_count": 6,
   "metadata": {
    "collapsed": false
   },
   "outputs": [],
   "source": [
    "def Sigmoid(x):\n",
    "    return 1.0/(1.0+np.exp(-x))\n",
    "\n",
    "def SigmoidPrime(x):\n",
    "    return Sigmoid(x)*(1-Sigmoid(x))\n",
    "\n",
    "def SoftMax(x):\n",
    "    exp = np.exp(x-np.max(x))\n",
    "    return exp / np.sum(exp)\n",
    "\n",
    "def OneHotLabel(x):\n",
    "    onehot = np.zeros((x.size, 10))\n",
    "    for i, row in enumerate(onehot):\n",
    "        row[x[i]] = 1\n",
    "    return onehot \n",
    "\n",
    "def ForwardPropagation(x, w, b):\n",
    "    a = np.dot(w, x) + b\n",
    "    return a # Sigmoid(a)\n",
    "\n",
    "def MeanSqrError(y, t):\n",
    "    return 0.5*np.sum((y-t)**2)\n",
    "\n",
    "def CrossEntropy ( y, t ):\n",
    "    delta = 1e-7\n",
    "    return -np.sum(t * np.log(y+delta))\n",
    "\n"
   ]
  },
  {
   "cell_type": "code",
   "execution_count": 7,
   "metadata": {
    "collapsed": false
   },
   "outputs": [],
   "source": [
    "def PredictOutput(x, weights, biases, num_layers, net_sizes):\n",
    "    \n",
    "    last_layer = num_layers-1\n",
    "    out_list = []\n",
    "    a = x\n",
    "    for i in range(last_layer):\n",
    "        y = ForwardPropagation(a, weights[i],np.reshape(biases[i],(net_sizes[i+1],))) # np.transpose(biases[i]))\n",
    "                               #np.reshape(biases[i],(net_sizes[i+1],1)) )# biases[i].resape(len(net_sizes[i+1]),))\n",
    "        a = Sigmoid(y)\n",
    "        out_list.append(y)\n",
    "    \n",
    "    predicted_output = ForwardPropagation(a,weights[last_layer], np.reshape(biases[last_layer],(net_sizes[-1],))) #np.transpose(biases[last_layer]))\n",
    "    \n",
    "    out_list.append(predicted_output)\n",
    "    \n",
    "                                          #np.reshape(biases[i],(net_sizes[-1],1))) # biases[last_layer].reshape(len(net_sizes[-1]),))\n",
    "    return predicted_output, out_list\n",
    "\n",
    "def BackPropagation(x, w, b, predicted_output, out_list, d, num_layers, net_sizes):\n",
    "    delta_b = []\n",
    "    delta_w = []\n",
    "    \n",
    "    ## Last_Layer Derivative \n",
    "    ## Example net_sizes = [ 784, 100, 50, 10 ]\n",
    "    ## out_list = [ y1, y2, y3  ]\n",
    "    ## After Activation :: a = Sigmoid(out_list)\n",
    "    ## a = [ a1, a2, a3=y3 ]\n",
    "    \n",
    "    d_b_L = (out_list[-1]-d).reshape(len(d),1)\n",
    "    d_w_L = np.dot(d_b_L, Sigmoid(out_list[-2].reshape(1,len(out_list[-2]))))\n",
    "    \n",
    "    delta_b.append(d_b_L)\n",
    "    delta_w.append(d_w_L)\n",
    "    \n",
    "    d_b_p = d_b_L\n",
    "    \n",
    "    for i in range(num_layers-1):\n",
    "        idx = num_layers-2-i\n",
    "        d_b = []\n",
    "        d_w = []\n",
    "        \n",
    "        #print (idx, net_sizes[idx+1],net_sizes[idx+2])\n",
    "        \n",
    "        #d_b = np.dot(w[idx].reshape(net_sizes[idx+1],net_sizes[idx+2]), d_b)*SigmoidPrime(out_list[idx].reshape(net_sizes[idx+1],1))\n",
    "        d_b = np.dot(w[idx+1].transpose(), d_b_p)*SigmoidPrime(out_list[idx].reshape(net_sizes[idx+1],1))\n",
    "        \n",
    "        #print (len(d_b))\n",
    "        \n",
    "        if idx == 0:\n",
    "            d_w = np.dot(d_b, x.reshape(1,len(x)))\n",
    "        else:\n",
    "            d_w = np.dot(d_b, Sigmoid(out_list[idx-1].reshape(1,len(out_list[idx-1]))))\n",
    "        \n",
    "        delta_b.append(d_b)\n",
    "        delta_w.append(d_w)\n",
    "        \n",
    "        d_b_p = d_b\n",
    "    \n",
    "    delta_b.reverse()\n",
    "    delta_w.reverse()\n",
    "    \n",
    "    return delta_b, delta_w\n",
    "\n",
    "\n"
   ]
  },
  {
   "cell_type": "code",
   "execution_count": 8,
   "metadata": {
    "collapsed": false
   },
   "outputs": [
    {
     "name": "stdout",
     "output_type": "stream",
     "text": [
      "<class 'dict'>\n",
      "train-images-idx3-ubyte.gz file loaded\n",
      "train-labels-idx1-ubyte.gz file loaded\n",
      "t10k-images-idx3-ubyte.gz file loaded\n",
      "t10k-labels-idx1-ubyte.gz file loaded\n"
     ]
    }
   ],
   "source": [
    "dic_data = DictoNumpy()\n",
    "dic_data = NormalizeData(dic_data)"
   ]
  },
  {
   "cell_type": "code",
   "execution_count": 37,
   "metadata": {
    "collapsed": false
   },
   "outputs": [
    {
     "name": "stdout",
     "output_type": "stream",
     "text": [
      "[[ 0.04329603]\n",
      " [-0.38393085]\n",
      " [-0.10002016]\n",
      " [-0.76903506]\n",
      " [ 0.22726196]\n",
      " [-0.48729225]\n",
      " [ 0.02696118]\n",
      " [ 0.39549338]\n",
      " [ 0.9097608 ]\n",
      " [ 2.00604309]]\n"
     ]
    }
   ],
   "source": [
    "net_sizes = [784,100,50,10]\n",
    "#net_sizes = [784,30,10]\n",
    "num_layers, biases, weights = MakeNetwork(net_sizes)\n",
    "save_init_random_b = biases\n",
    "save_init_random_w = weights\n",
    "\n",
    "print (biases[-1])"
   ]
  },
  {
   "cell_type": "code",
   "execution_count": 38,
   "metadata": {
    "collapsed": false,
    "scrolled": false
   },
   "outputs": [
    {
     "name": "stdout",
     "output_type": "stream",
     "text": [
      "learning rate :  0.1\n",
      "Network Size :  [784, 100, 50, 10]\n",
      "Number of Layers :  3\n",
      "Condition : Sigmoid, One-Hot, Identity, MSE\n",
      "--------------------------------------------------------\n",
      "Epoch : 1 500 rt:7.38s train-err:72.2 % test-err:36.4 %\n",
      "Epoch : 2 1000 rt:11.53s train-err:91.0 % test-err:68.4 %\n",
      "Epoch : 3 1500 rt:10.81s train-err:90.8 % test-err:75.1 %\n",
      "Epoch : 4 2000 rt:10.93s train-err:93.8 % test-err:78.0 %\n",
      "Epoch : 5 2500 rt:7.28s train-err:97.4 % test-err:79.4 %\n",
      "Epoch : 6 3000 rt:7.43s train-err:94.8 % test-err:80.7 %\n",
      "Epoch : 7 3500 rt:7.26s train-err:95.6 % test-err:80.5 %\n",
      "Epoch : 8 4000 rt:6.98s train-err:95.8 % test-err:82.0 %\n",
      "Epoch : 9 4500 rt:6.98s train-err:94.0 % test-err:83.3 %\n",
      "Epoch : 10 5000 rt:7.04s train-err:95.2 % test-err:83.6 %\n",
      "Epoch : 11 5500 rt:7.10s train-err:94.0 % test-err:84.4 %\n"
     ]
    },
    {
     "ename": "KeyboardInterrupt",
     "evalue": "",
     "output_type": "error",
     "traceback": [
      "\u001b[0;31m---------------------------------------------------------------------------\u001b[0m",
      "\u001b[0;31mKeyboardInterrupt\u001b[0m                         Traceback (most recent call last)",
      "\u001b[0;32m<ipython-input-38-996eb1c2d87d>\u001b[0m in \u001b[0;36m<module>\u001b[0;34m()\u001b[0m\n\u001b[1;32m     39\u001b[0m             \u001b[0merror\u001b[0m \u001b[0;34m=\u001b[0m \u001b[0mMeanSqrError\u001b[0m\u001b[0;34m(\u001b[0m\u001b[0mnp\u001b[0m\u001b[0;34m.\u001b[0m\u001b[0marray\u001b[0m\u001b[0;34m(\u001b[0m\u001b[0mpredicted_output\u001b[0m\u001b[0;34m)\u001b[0m\u001b[0;34m,\u001b[0m \u001b[0md\u001b[0m\u001b[0;34m)\u001b[0m\u001b[0;34m\u001b[0m\u001b[0m\n\u001b[1;32m     40\u001b[0m \u001b[0;34m\u001b[0m\u001b[0m\n\u001b[0;32m---> 41\u001b[0;31m             \u001b[0mdelta_b\u001b[0m\u001b[0;34m,\u001b[0m \u001b[0mdelta_w\u001b[0m \u001b[0;34m=\u001b[0m \u001b[0mBackPropagation\u001b[0m\u001b[0;34m(\u001b[0m\u001b[0minput_data\u001b[0m\u001b[0;34m[\u001b[0m\u001b[0midx\u001b[0m\u001b[0;34m]\u001b[0m\u001b[0;34m,\u001b[0m \u001b[0mweights\u001b[0m\u001b[0;34m,\u001b[0m \u001b[0mbiases\u001b[0m\u001b[0;34m,\u001b[0m \u001b[0mpredicted_output\u001b[0m\u001b[0;34m,\u001b[0m \u001b[0mout_list\u001b[0m\u001b[0;34m,\u001b[0m \u001b[0md\u001b[0m\u001b[0;34m,\u001b[0m \u001b[0mnum_layers\u001b[0m\u001b[0;34m,\u001b[0m \u001b[0mnet_sizes\u001b[0m\u001b[0;34m)\u001b[0m\u001b[0;34m\u001b[0m\u001b[0m\n\u001b[0m\u001b[1;32m     42\u001b[0m \u001b[0;34m\u001b[0m\u001b[0m\n\u001b[1;32m     43\u001b[0m             \u001b[0;32mif\u001b[0m \u001b[0mnp\u001b[0m\u001b[0;34m.\u001b[0m\u001b[0margmax\u001b[0m\u001b[0;34m(\u001b[0m\u001b[0mpredicted_output\u001b[0m\u001b[0;34m)\u001b[0m \u001b[0;34m==\u001b[0m \u001b[0mnp\u001b[0m\u001b[0;34m.\u001b[0m\u001b[0margmax\u001b[0m\u001b[0;34m(\u001b[0m\u001b[0md\u001b[0m\u001b[0;34m)\u001b[0m\u001b[0;34m:\u001b[0m\u001b[0;34m\u001b[0m\u001b[0m\n",
      "\u001b[0;32m<ipython-input-7-5ae501291fea>\u001b[0m in \u001b[0;36mBackPropagation\u001b[0;34m(x, w, b, predicted_output, out_list, d, num_layers, net_sizes)\u001b[0m\n\u001b[1;32m     43\u001b[0m \u001b[0;34m\u001b[0m\u001b[0m\n\u001b[1;32m     44\u001b[0m         \u001b[0;31m#d_b = np.dot(w[idx].reshape(net_sizes[idx+1],net_sizes[idx+2]), d_b)*SigmoidPrime(out_list[idx].reshape(net_sizes[idx+1],1))\u001b[0m\u001b[0;34m\u001b[0m\u001b[0;34m\u001b[0m\u001b[0m\n\u001b[0;32m---> 45\u001b[0;31m         \u001b[0md_b\u001b[0m \u001b[0;34m=\u001b[0m \u001b[0mnp\u001b[0m\u001b[0;34m.\u001b[0m\u001b[0mdot\u001b[0m\u001b[0;34m(\u001b[0m\u001b[0mw\u001b[0m\u001b[0;34m[\u001b[0m\u001b[0midx\u001b[0m\u001b[0;34m+\u001b[0m\u001b[0;36m1\u001b[0m\u001b[0;34m]\u001b[0m\u001b[0;34m.\u001b[0m\u001b[0mtranspose\u001b[0m\u001b[0;34m(\u001b[0m\u001b[0;34m)\u001b[0m\u001b[0;34m,\u001b[0m \u001b[0md_b_p\u001b[0m\u001b[0;34m)\u001b[0m\u001b[0;34m*\u001b[0m\u001b[0mSigmoidPrime\u001b[0m\u001b[0;34m(\u001b[0m\u001b[0mout_list\u001b[0m\u001b[0;34m[\u001b[0m\u001b[0midx\u001b[0m\u001b[0;34m]\u001b[0m\u001b[0;34m.\u001b[0m\u001b[0mreshape\u001b[0m\u001b[0;34m(\u001b[0m\u001b[0mnet_sizes\u001b[0m\u001b[0;34m[\u001b[0m\u001b[0midx\u001b[0m\u001b[0;34m+\u001b[0m\u001b[0;36m1\u001b[0m\u001b[0;34m]\u001b[0m\u001b[0;34m,\u001b[0m\u001b[0;36m1\u001b[0m\u001b[0;34m)\u001b[0m\u001b[0;34m)\u001b[0m\u001b[0;34m\u001b[0m\u001b[0m\n\u001b[0m\u001b[1;32m     46\u001b[0m \u001b[0;34m\u001b[0m\u001b[0m\n\u001b[1;32m     47\u001b[0m         \u001b[0;31m#print (len(d_b))\u001b[0m\u001b[0;34m\u001b[0m\u001b[0;34m\u001b[0m\u001b[0m\n",
      "\u001b[0;32m<ipython-input-6-ec1726b25501>\u001b[0m in \u001b[0;36mSigmoidPrime\u001b[0;34m(x)\u001b[0m\n\u001b[1;32m      3\u001b[0m \u001b[0;34m\u001b[0m\u001b[0m\n\u001b[1;32m      4\u001b[0m \u001b[0;32mdef\u001b[0m \u001b[0mSigmoidPrime\u001b[0m\u001b[0;34m(\u001b[0m\u001b[0mx\u001b[0m\u001b[0;34m)\u001b[0m\u001b[0;34m:\u001b[0m\u001b[0;34m\u001b[0m\u001b[0m\n\u001b[0;32m----> 5\u001b[0;31m     \u001b[0;32mreturn\u001b[0m \u001b[0mSigmoid\u001b[0m\u001b[0;34m(\u001b[0m\u001b[0mx\u001b[0m\u001b[0;34m)\u001b[0m\u001b[0;34m*\u001b[0m\u001b[0;34m(\u001b[0m\u001b[0;36m1\u001b[0m\u001b[0;34m-\u001b[0m\u001b[0mSigmoid\u001b[0m\u001b[0;34m(\u001b[0m\u001b[0mx\u001b[0m\u001b[0;34m)\u001b[0m\u001b[0;34m)\u001b[0m\u001b[0;34m\u001b[0m\u001b[0m\n\u001b[0m\u001b[1;32m      6\u001b[0m \u001b[0;34m\u001b[0m\u001b[0m\n\u001b[1;32m      7\u001b[0m \u001b[0;32mdef\u001b[0m \u001b[0mSoftMax\u001b[0m\u001b[0;34m(\u001b[0m\u001b[0mx\u001b[0m\u001b[0;34m)\u001b[0m\u001b[0;34m:\u001b[0m\u001b[0;34m\u001b[0m\u001b[0m\n",
      "\u001b[0;32m<ipython-input-6-ec1726b25501>\u001b[0m in \u001b[0;36mSigmoid\u001b[0;34m(x)\u001b[0m\n\u001b[1;32m      1\u001b[0m \u001b[0;32mdef\u001b[0m \u001b[0mSigmoid\u001b[0m\u001b[0;34m(\u001b[0m\u001b[0mx\u001b[0m\u001b[0;34m)\u001b[0m\u001b[0;34m:\u001b[0m\u001b[0;34m\u001b[0m\u001b[0m\n\u001b[0;32m----> 2\u001b[0;31m     \u001b[0;32mreturn\u001b[0m \u001b[0;36m1.0\u001b[0m\u001b[0;34m/\u001b[0m\u001b[0;34m(\u001b[0m\u001b[0;36m1.0\u001b[0m\u001b[0;34m+\u001b[0m\u001b[0mnp\u001b[0m\u001b[0;34m.\u001b[0m\u001b[0mexp\u001b[0m\u001b[0;34m(\u001b[0m\u001b[0;34m-\u001b[0m\u001b[0mx\u001b[0m\u001b[0;34m)\u001b[0m\u001b[0;34m)\u001b[0m\u001b[0;34m\u001b[0m\u001b[0m\n\u001b[0m\u001b[1;32m      3\u001b[0m \u001b[0;34m\u001b[0m\u001b[0m\n\u001b[1;32m      4\u001b[0m \u001b[0;32mdef\u001b[0m \u001b[0mSigmoidPrime\u001b[0m\u001b[0;34m(\u001b[0m\u001b[0mx\u001b[0m\u001b[0;34m)\u001b[0m\u001b[0;34m:\u001b[0m\u001b[0;34m\u001b[0m\u001b[0m\n\u001b[1;32m      5\u001b[0m     \u001b[0;32mreturn\u001b[0m \u001b[0mSigmoid\u001b[0m\u001b[0;34m(\u001b[0m\u001b[0mx\u001b[0m\u001b[0;34m)\u001b[0m\u001b[0;34m*\u001b[0m\u001b[0;34m(\u001b[0m\u001b[0;36m1\u001b[0m\u001b[0;34m-\u001b[0m\u001b[0mSigmoid\u001b[0m\u001b[0;34m(\u001b[0m\u001b[0mx\u001b[0m\u001b[0;34m)\u001b[0m\u001b[0;34m)\u001b[0m\u001b[0;34m\u001b[0m\u001b[0m\n",
      "\u001b[0;31mKeyboardInterrupt\u001b[0m: "
     ]
    }
   ],
   "source": [
    "## Batch 처리\n",
    "batch_size = 500\n",
    "repeat_gradient = 30\n",
    "learning_rate = 0.1\n",
    "\n",
    "input_data = dic_data['train_image']\n",
    "one_hot_output = OneHotLabel(dic_data['train_label'])\n",
    "\n",
    "test_data = dic_data['test_image']\n",
    "one_hot_output_test = OneHotLabel(dic_data['test_label'])\n",
    "\n",
    "train_err_list = []\n",
    "test_err_list = []\n",
    "\n",
    "print ('learning rate : ', learning_rate, )\n",
    "print ('Network Size : ', net_sizes)\n",
    "print ('Number of Layers : ', num_layers)\n",
    "print ('Condition : Sigmoid, One-Hot, Identity, MSE')\n",
    "print ('--------------------------------------------------------')\n",
    "\n",
    "for k in range(int(train_num/batch_size)): # sample selection\n",
    "\n",
    "    epoch_error = []\n",
    "    start_t = time.time()\n",
    "    for j in range(repeat_gradient): # repeat gradient\n",
    "        \n",
    "        prediction_error_batch = []\n",
    "        prediction_error = 0\n",
    "        \n",
    "        for i in range(batch_size):\n",
    "            idx = i+k*batch_size\n",
    "            \n",
    "            predicted_output, out_list = PredictOutput(input_data[idx], weights, biases, num_layers, net_sizes)\n",
    "            \n",
    "            d = np.array(one_hot_output[idx])\n",
    "            \n",
    "            #print (predicted_output[:3], d[:3])\n",
    "            \n",
    "            error = MeanSqrError(np.array(predicted_output), d)\n",
    "            \n",
    "            delta_b, delta_w = BackPropagation(input_data[idx], weights, biases, predicted_output, out_list, d, num_layers, net_sizes)\n",
    "\n",
    "            if np.argmax(predicted_output) == np.argmax(d):\n",
    "                prediction_error = prediction_error+1\n",
    "\n",
    "            prediction_error_batch.append(error)\n",
    "        \n",
    "            for m in range(num_layers):\n",
    "                weights[m] = weights[m]-learning_rate*delta_w[m] # (sum(dl_w1)/batch_size)\n",
    "                biases[m] = biases[m]-learning_rate*delta_b[m] # (sum(dl_b1)/batch_size)\n",
    "        \n",
    "        #weights[1] = weights[1]-learning_rate*(sum(dl_w2)/batch_size)\n",
    "        #biases[1] = biases[1]-learning_rate*(sum(dl_b2)/batch_size)\n",
    "    \n",
    "    test_error = 0\n",
    "    \n",
    "    for j in range(test_num):\n",
    "        idx = j\n",
    "\n",
    "#        a2 = PredictOutput(test_data[idx],weights,biases )\n",
    "        test_output, out2 = PredictOutput(test_data[idx], weights, biases, num_layers, net_sizes)\n",
    "        d = np.array(one_hot_output_test[idx])\n",
    "        \n",
    "        if np.argmax(test_output) == np.argmax(d):\n",
    "            test_error = test_error+1\n",
    "    \n",
    "    end_t = time.time() - start_t\n",
    "    percent_tr_er = 100*prediction_error/batch_size\n",
    "    percent_ts_er = 100*test_error/test_num\n",
    "\n",
    "    print ('Epoch :', k+1, (k+1)*batch_size, \"rt:%.2fs\"%end_t, \"train-err:%.1f\"%percent_tr_er,\"%\",\"test-err:%.1f\"%percent_ts_er, \"%\")\n",
    "    train_err_list.append(prediction_error/batch_size)\n",
    "    test_err_list.append(test_error/test_num)\n"
   ]
  },
  {
   "cell_type": "code",
   "execution_count": 39,
   "metadata": {
    "collapsed": false
   },
   "outputs": [
    {
     "data": {
      "text/plain": [
       "[<matplotlib.lines.Line2D at 0x139afbe10>]"
      ]
     },
     "execution_count": 39,
     "metadata": {},
     "output_type": "execute_result"
    },
    {
     "data": {
      "image/png": "[encoded data removed]",
      "text/plain": [
       "<matplotlib.figure.Figure at 0x139afb630>"
      ]
     },
     "metadata": {},
     "output_type": "display_data"
    }
   ],
   "source": [
    "plt.figure()\n",
    "plt.plot(train_err_list)\n",
    "plt.plot(test_err_list)"
   ]
  },
  {
   "cell_type": "code",
   "execution_count": null,
   "metadata": {
    "collapsed": true
   },
   "outputs": [],
   "source": []
  }
 ],
 "metadata": {
  "kernelspec": {
   "display_name": "Python 3",
   "language": "python",
   "name": "python3"
  },
  "language_info": {
   "codemirror_mode": {
    "name": "ipython",
    "version": 3
   },
   "file_extension": ".py",
   "mimetype": "text/x-python",
   "name": "python",
   "nbconvert_exporter": "python",
   "pygments_lexer": "ipython3",
   "version": "3.6.0"
  }
 },
 "nbformat": 4,
 "nbformat_minor": 2
}
