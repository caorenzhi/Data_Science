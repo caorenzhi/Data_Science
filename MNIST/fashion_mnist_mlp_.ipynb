{
 "cells": [
  {
   "cell_type": "code",
   "execution_count": 1,
   "metadata": {
    "collapsed": true
   },
   "outputs": [],
   "source": [
    "# Standard scientific Python imports\n",
    "import matplotlib.pyplot as plt\n",
    "import numpy as np\n",
    "import time\n",
    "import datetime as dt\n",
    "\n",
    "# Import datasets, classifiers and performance metrics\n",
    "from sklearn import datasets, svm, metrics\n",
    "\n",
    "from matplotlib import pyplot\n",
    "import matplotlib as mpl\n",
    "\n",
    "import gzip\n",
    "\n",
    "\n",
    "%matplotlib inline\n"
   ]
  },
  {
   "cell_type": "code",
   "execution_count": 2,
   "metadata": {
    "collapsed": true
   },
   "outputs": [],
   "source": [
    "from sklearn.neural_network import MLPClassifier\n",
    "from sklearn.model_selection import train_test_split\n",
    "import mglearn\n"
   ]
  },
  {
   "cell_type": "code",
   "execution_count": 3,
   "metadata": {
    "collapsed": true
   },
   "outputs": [],
   "source": [
    "# This is a Fashin_MNIST Datasets \n",
    "\n",
    "data_file_name = {\n",
    "    'train_image':'train-images-idx3-ubyte.gz',\n",
    "    'train_label':'train-labels-idx1-ubyte.gz',\n",
    "    'test_image':'t10k-images-idx3-ubyte.gz',\n",
    "    'test_label':'t10k-labels-idx1-ubyte.gz'\n",
    "}\n",
    "\n",
    "label_description = [ 'T-shirt/top','Trouser', 'Pullover',\n",
    "    'Dress','Coat','Sandal','Shirt','Sneaker','Bag','Ankle boot']\n",
    "\n",
    "dir_data_file = './data'\n",
    "image_size = 784"
   ]
  },
  {
   "cell_type": "code",
   "execution_count": 4,
   "metadata": {
    "collapsed": true
   },
   "outputs": [],
   "source": [
    "def LoadLabel(file_name):\n",
    "    # file_name의 Binary 파일을 읽어서 numpy.ndarray 를 Return 한다.\n",
    "    file_path = dir_data_file + \"/\" + file_name\n",
    "    with gzip.open(file_path, 'rb') as f:\n",
    "        data = np.frombuffer(f.read(), np.uint8, offset=8)\n",
    "    rtval = data\n",
    "    print(file_name + \" file loaded\")\n",
    "    return rtval\n",
    "\n",
    "def LoadImage(file_name):\n",
    "    # file_name의 Binary 파일을 읽어서 numpy.ndarray 를 Return 한다.\n",
    "    file_path = dir_data_file + \"/\" + file_name   \n",
    "    with gzip.open(file_path, 'rb') as f:\n",
    "        data = np.frombuffer(f.read(), np.uint8, offset=16)\n",
    "    rtval = data.reshape(-1, image_size)\n",
    "    print(file_name + \" file loaded\")\n",
    "    return rtval\n",
    "\n",
    "def DictoNumpy():\n",
    "    ## Dictionary data-type으로 \n",
    "    dic_data = {}\n",
    "    print(type(dic_data))\n",
    "    dic_data['train_image'] =  LoadImage(data_file_name['train_image'])\n",
    "    dic_data['train_label'] = LoadLabel(data_file_name['train_label'])    \n",
    "    dic_data['test_image'] = LoadImage(data_file_name['test_image'])\n",
    "    dic_data['test_label'] = LoadLabel(data_file_name['test_label'])\n",
    "    \n",
    "    return dic_data\n",
    "\n",
    "def NormalizeData(dic_data):\n",
    "    dic_data['train_image'] = dic_data['train_image']/255\n",
    "    dic_data['test_image'] = dic_data['test_image']/255\n",
    "    return dic_data"
   ]
  },
  {
   "cell_type": "code",
   "execution_count": 7,
   "metadata": {
    "collapsed": true
   },
   "outputs": [],
   "source": [
    "def ImageDisplay(list_data):\n",
    "    ## List형의 Pixcel 정보를 받아서 이미지로 보여준다.\n",
    "    fig = pyplot.figure()\n",
    "    axis = fig.add_subplot(1,1,1)\n",
    "    plot_img = axis.imshow(list_data, cmap=mpl.cm.Greys)\n",
    "    plot_img.set_interpolation('none')\n",
    "#    ax.xaxis.set_ticks_position('top')\n",
    "#    ax.yaxis.set_ticks_position('left')\n",
    "    pyplot.show()\n"
   ]
  },
  {
   "cell_type": "code",
   "execution_count": 5,
   "metadata": {
    "collapsed": false
   },
   "outputs": [
    {
     "name": "stdout",
     "output_type": "stream",
     "text": [
      "<class 'dict'>\n",
      "train-images-idx3-ubyte.gz file loaded\n",
      "train-labels-idx1-ubyte.gz file loaded\n",
      "t10k-images-idx3-ubyte.gz file loaded\n",
      "t10k-labels-idx1-ubyte.gz file loaded\n"
     ]
    }
   ],
   "source": [
    "dic_data = DictoNumpy()\n",
    "dic_data = NormalizeData(dic_data)"
   ]
  },
  {
   "cell_type": "code",
   "execution_count": 6,
   "metadata": {
    "collapsed": true
   },
   "outputs": [],
   "source": [
    "\n",
    "X_train = dic_data['train_image']\n",
    "y_train = dic_data['train_label']\n",
    "X_test = dic_data['test_image']\n",
    "y_test = dic_data['test_label']"
   ]
  },
  {
   "cell_type": "code",
   "execution_count": 8,
   "metadata": {
    "collapsed": false
   },
   "outputs": [
    {
     "name": "stdout",
     "output_type": "stream",
     "text": [
      "## Start MLP learning at 2017-08-28 20:40:46.538581\n",
      "## Elapsed learning time 0:01:19.911970\n",
      "## Train Score : 0.875866666667\n"
     ]
    }
   ],
   "source": [
    "mlp = MLPClassifier(solver='lbfgs', hidden_layer_sizes=[100,30], random_state=0)\n",
    "\n",
    "learn_start_time = dt.datetime.now()\n",
    "print ('## Start MLP learning at {}'.format(str(learn_start_time)))\n",
    "mlp.fit(X_train, y_train)\n",
    "learn_end_time = dt.datetime.now()\n",
    "elapsed_time = learn_end_time - learn_start_time\n",
    "print ('## Elapsed learning time {}'.format(str(elapsed_time)))\n",
    "print ('## Train Score : {}'.format(str(mlp.score(X_train, y_train))))"
   ]
  },
  {
   "cell_type": "code",
   "execution_count": 9,
   "metadata": {
    "collapsed": false
   },
   "outputs": [
    {
     "name": "stdout",
     "output_type": "stream",
     "text": [
      "## Test Score : 0.8657\n"
     ]
    }
   ],
   "source": [
    "print ('## Test Score : {}'.format(str(mlp.score(X_test, y_test))))"
   ]
  },
  {
   "cell_type": "code",
   "execution_count": 15,
   "metadata": {
    "collapsed": false
   },
   "outputs": [
    {
     "name": "stdout",
     "output_type": "stream",
     "text": [
      "Prediction :  Ankle boot , Ground Truth :  Ankle boot\n"
     ]
    },
    {
     "name": "stderr",
     "output_type": "stream",
     "text": [
      "/Users/noah_15/anaconda3/lib/python3.6/site-packages/sklearn/utils/validation.py:395: DeprecationWarning: Passing 1d arrays as data is deprecated in 0.17 and will raise ValueError in 0.19. Reshape your data either using X.reshape(-1, 1) if your data has a single feature or X.reshape(1, -1) if it contains a single sample.\n",
      "  DeprecationWarning)\n",
      "/Users/noah_15/anaconda3/lib/python3.6/site-packages/ipykernel/__main__.py:1: VisibleDeprecationWarning: converting an array with ndim > 0 to an index will result in an error in the future\n",
      "  if __name__ == '__main__':\n"
     ]
    },
    {
     "data": {
      "image/png": "[encoded data removed]",
      "text/plain": [
       "<matplotlib.figure.Figure at 0x112681940>"
      ]
     },
     "metadata": {},
     "output_type": "display_data"
    }
   ],
   "source": [
    "print (\"Prediction : \", label_description[mlp.predict(X_test[100])], \", Ground Truth : \", label_description[y_test[100]])\n",
    "ImageDisplay(X_test[100].reshape(-1,1))"
   ]
  },
  {
   "cell_type": "code",
   "execution_count": null,
   "metadata": {
    "collapsed": true
   },
   "outputs": [],
   "source": []
  }
 ],
 "metadata": {
  "kernelspec": {
   "display_name": "Python 3",
   "language": "python",
   "name": "python3"
  },
  "language_info": {
   "codemirror_mode": {
    "name": "ipython",
    "version": 3
   },
   "file_extension": ".py",
   "mimetype": "text/x-python",
   "name": "python",
   "nbconvert_exporter": "python",
   "pygments_lexer": "ipython3",
   "version": "3.6.0"
  }
 },
 "nbformat": 4,
 "nbformat_minor": 2
}
