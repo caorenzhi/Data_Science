{
 "cells": [
  {
   "cell_type": "code",
   "execution_count": 3,
   "metadata": {
    "collapsed": true
   },
   "outputs": [],
   "source": [
    "import pandas as pd\n",
    "import scipy as sp\n",
    "import timeit \n",
    "\n"
   ]
  },
  {
   "cell_type": "code",
   "execution_count": 5,
   "metadata": {
    "collapsed": false
   },
   "outputs": [
    {
     "name": "stdout",
     "output_type": "stream",
     "text": [
      "NP : 1.936151 sec\n",
      "NV : 0.943447 sec\n",
      "GG : 0.019445 sec\n"
     ]
    }
   ],
   "source": [
    "normal_py_sec = timeit.timeit('sum(x*x for x in xrange(1000))', number=10000)\n",
    "naive_np_sec = timeit.timeit('sum(na*na)', setup=\"import numpy as np; na=np.arange(1000)\", number=10000)\n",
    "good_np_sec=timeit.timeit('na.dot(na)', setup=\"import numpy as np; na=np.arange(1000)\", number=10000)\n",
    "\n",
    "print (\"NP : %f sec\"%normal_py_sec)\n",
    "print (\"NV : %f sec\"%naive_np_sec)\n",
    "print (\"GG : %f sec\"%good_np_sec)\n"
   ]
  },
  {
   "cell_type": "code",
   "execution_count": null,
   "metadata": {
    "collapsed": true
   },
   "outputs": [],
   "source": []
  }
 ],
 "metadata": {
  "anaconda-cloud": {},
  "kernelspec": {
   "display_name": "Python [conda root]",
   "language": "python",
   "name": "conda-root-py"
  },
  "language_info": {
   "codemirror_mode": {
    "name": "ipython",
    "version": 2
   },
   "file_extension": ".py",
   "mimetype": "text/x-python",
   "name": "python",
   "nbconvert_exporter": "python",
   "pygments_lexer": "ipython2",
   "version": "2.7.12"
  }
 },
 "nbformat": 4,
 "nbformat_minor": 1
}
